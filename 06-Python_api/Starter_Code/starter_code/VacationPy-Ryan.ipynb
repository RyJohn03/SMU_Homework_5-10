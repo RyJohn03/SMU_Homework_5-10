{
 "cells": [
  {
   "cell_type": "markdown",
   "metadata": {},
   "source": [
    "# VacationPy\n",
    "---\n",
    "\n",
    "## Starter Code to Import Libraries and Load the Weather and Coordinates Data"
   ]
  },
  {
   "cell_type": "code",
   "execution_count": 22,
   "metadata": {},
   "outputs": [],
   "source": [
    "# Dependencies and Setup\n",
    "import hvplot.pandas\n",
    "import pandas as pd\n",
    "import requests\n",
    "\n",
    "# Import API key\n",
    "from api_keys import geoapify_key"
   ]
  },
  {
   "cell_type": "code",
   "execution_count": 23,
   "metadata": {},
   "outputs": [
    {
     "data": {
      "text/html": [
       "<div>\n",
       "<style scoped>\n",
       "    .dataframe tbody tr th:only-of-type {\n",
       "        vertical-align: middle;\n",
       "    }\n",
       "\n",
       "    .dataframe tbody tr th {\n",
       "        vertical-align: top;\n",
       "    }\n",
       "\n",
       "    .dataframe thead th {\n",
       "        text-align: right;\n",
       "    }\n",
       "</style>\n",
       "<table border=\"1\" class=\"dataframe\">\n",
       "  <thead>\n",
       "    <tr style=\"text-align: right;\">\n",
       "      <th></th>\n",
       "      <th>City_ID</th>\n",
       "      <th>city</th>\n",
       "      <th>country</th>\n",
       "      <th>latitude</th>\n",
       "      <th>longitude</th>\n",
       "      <th>temperature</th>\n",
       "      <th>pressure</th>\n",
       "      <th>humidity</th>\n",
       "      <th>wind_speed</th>\n",
       "      <th>cloudiness</th>\n",
       "      <th>date</th>\n",
       "    </tr>\n",
       "  </thead>\n",
       "  <tbody>\n",
       "    <tr>\n",
       "      <th>0</th>\n",
       "      <td>0</td>\n",
       "      <td>Port-aux-Français</td>\n",
       "      <td>FR</td>\n",
       "      <td>-49.349761</td>\n",
       "      <td>70.219956</td>\n",
       "      <td>39.60</td>\n",
       "      <td>1009</td>\n",
       "      <td>67</td>\n",
       "      <td>1683953727</td>\n",
       "      <td>100</td>\n",
       "      <td>1683953727</td>\n",
       "    </tr>\n",
       "    <tr>\n",
       "      <th>1</th>\n",
       "      <td>1</td>\n",
       "      <td>Waitangi</td>\n",
       "      <td>NZ</td>\n",
       "      <td>-35.270465</td>\n",
       "      <td>174.080459</td>\n",
       "      <td>61.56</td>\n",
       "      <td>1027</td>\n",
       "      <td>81</td>\n",
       "      <td>1683953729</td>\n",
       "      <td>44</td>\n",
       "      <td>1683953729</td>\n",
       "    </tr>\n",
       "    <tr>\n",
       "      <th>2</th>\n",
       "      <td>2</td>\n",
       "      <td>Stanley</td>\n",
       "      <td>FK</td>\n",
       "      <td>-51.695057</td>\n",
       "      <td>-57.849169</td>\n",
       "      <td>37.74</td>\n",
       "      <td>1006</td>\n",
       "      <td>65</td>\n",
       "      <td>1683953731</td>\n",
       "      <td>85</td>\n",
       "      <td>1683953731</td>\n",
       "    </tr>\n",
       "    <tr>\n",
       "      <th>3</th>\n",
       "      <td>3</td>\n",
       "      <td>Zhaotong City</td>\n",
       "      <td>CN</td>\n",
       "      <td>27.341751</td>\n",
       "      <td>103.714692</td>\n",
       "      <td>62.94</td>\n",
       "      <td>1017</td>\n",
       "      <td>50</td>\n",
       "      <td>1683953733</td>\n",
       "      <td>100</td>\n",
       "      <td>1683953733</td>\n",
       "    </tr>\n",
       "    <tr>\n",
       "      <th>4</th>\n",
       "      <td>4</td>\n",
       "      <td>Port Mathurin</td>\n",
       "      <td>MU</td>\n",
       "      <td>-19.680837</td>\n",
       "      <td>63.422113</td>\n",
       "      <td>78.91</td>\n",
       "      <td>1020</td>\n",
       "      <td>69</td>\n",
       "      <td>1683953734</td>\n",
       "      <td>21</td>\n",
       "      <td>1683953734</td>\n",
       "    </tr>\n",
       "  </tbody>\n",
       "</table>\n",
       "</div>"
      ],
      "text/plain": [
       "   City_ID               city country   latitude   longitude  temperature  \\\n",
       "0        0  Port-aux-Français      FR -49.349761   70.219956        39.60   \n",
       "1        1           Waitangi      NZ -35.270465  174.080459        61.56   \n",
       "2        2            Stanley      FK -51.695057  -57.849169        37.74   \n",
       "3        3      Zhaotong City      CN  27.341751  103.714692        62.94   \n",
       "4        4      Port Mathurin      MU -19.680837   63.422113        78.91   \n",
       "\n",
       "   pressure  humidity  wind_speed  cloudiness        date  \n",
       "0      1009        67  1683953727         100  1683953727  \n",
       "1      1027        81  1683953729          44  1683953729  \n",
       "2      1006        65  1683953731          85  1683953731  \n",
       "3      1017        50  1683953733         100  1683953733  \n",
       "4      1020        69  1683953734          21  1683953734  "
      ]
     },
     "execution_count": 23,
     "metadata": {},
     "output_type": "execute_result"
    }
   ],
   "source": [
    "# Load the CSV file created in Part 1 into a Pandas DataFrame\n",
    "df = pd.read_csv(\"cities.csv\")\n",
    "\n",
    "# Display sample data\n",
    "df.head()"
   ]
  },
  {
   "cell_type": "markdown",
   "metadata": {},
   "source": [
    "---\n",
    "\n",
    "### Step 1: Create a map that displays a point for every city in the `city_data_df` DataFrame. The size of the point should be the humidity in each city."
   ]
  },
  {
   "cell_type": "code",
   "execution_count": 24,
   "metadata": {},
   "outputs": [
    {
     "data": {},
     "metadata": {},
     "output_type": "display_data"
    },
    {
     "data": {
      "application/vnd.holoviews_exec.v0+json": "",
      "text/html": [
       "<div id='1874'>\n",
       "  <div class=\"bk-root\" id=\"64926acc-437f-4a86-98ee-4151cd354906\" data-root-id=\"1874\"></div>\n",
       "</div>\n",
       "<script type=\"application/javascript\">(function(root) {\n",
       "  function embed_document(root) {\n",
       "    var docs_json = {\"1e060624-6a80-4f82-871b-21a211750de8\":{\"defs\":[{\"extends\":null,\"module\":null,\"name\":\"ReactiveHTML1\",\"overrides\":[],\"properties\":[]},{\"extends\":null,\"module\":null,\"name\":\"FlexBox1\",\"overrides\":[],\"properties\":[{\"default\":\"flex-start\",\"kind\":null,\"name\":\"align_content\"},{\"default\":\"flex-start\",\"kind\":null,\"name\":\"align_items\"},{\"default\":\"row\",\"kind\":null,\"name\":\"flex_direction\"},{\"default\":\"wrap\",\"kind\":null,\"name\":\"flex_wrap\"},{\"default\":\"flex-start\",\"kind\":null,\"name\":\"justify_content\"}]},{\"extends\":null,\"module\":null,\"name\":\"GridStack1\",\"overrides\":[],\"properties\":[{\"default\":\"warn\",\"kind\":null,\"name\":\"mode\"},{\"default\":null,\"kind\":null,\"name\":\"ncols\"},{\"default\":null,\"kind\":null,\"name\":\"nrows\"},{\"default\":true,\"kind\":null,\"name\":\"allow_resize\"},{\"default\":true,\"kind\":null,\"name\":\"allow_drag\"},{\"default\":[],\"kind\":null,\"name\":\"state\"}]},{\"extends\":null,\"module\":null,\"name\":\"click1\",\"overrides\":[],\"properties\":[{\"default\":\"\",\"kind\":null,\"name\":\"terminal_output\"},{\"default\":\"\",\"kind\":null,\"name\":\"debug_name\"},{\"default\":0,\"kind\":null,\"name\":\"clears\"}]},{\"extends\":null,\"module\":null,\"name\":\"NotificationAreaBase1\",\"overrides\":[],\"properties\":[{\"default\":\"bottom-right\",\"kind\":null,\"name\":\"position\"},{\"default\":0,\"kind\":null,\"name\":\"_clear\"}]},{\"extends\":null,\"module\":null,\"name\":\"NotificationArea1\",\"overrides\":[],\"properties\":[{\"default\":[],\"kind\":null,\"name\":\"notifications\"},{\"default\":\"bottom-right\",\"kind\":null,\"name\":\"position\"},{\"default\":0,\"kind\":null,\"name\":\"_clear\"},{\"default\":[{\"background\":\"#ffc107\",\"icon\":{\"className\":\"fas fa-exclamation-triangle\",\"color\":\"white\",\"tagName\":\"i\"},\"type\":\"warning\"},{\"background\":\"#007bff\",\"icon\":{\"className\":\"fas fa-info-circle\",\"color\":\"white\",\"tagName\":\"i\"},\"type\":\"info\"}],\"kind\":null,\"name\":\"types\"}]},{\"extends\":null,\"module\":null,\"name\":\"Notification\",\"overrides\":[],\"properties\":[{\"default\":null,\"kind\":null,\"name\":\"background\"},{\"default\":3000,\"kind\":null,\"name\":\"duration\"},{\"default\":null,\"kind\":null,\"name\":\"icon\"},{\"default\":\"\",\"kind\":null,\"name\":\"message\"},{\"default\":null,\"kind\":null,\"name\":\"notification_type\"},{\"default\":false,\"kind\":null,\"name\":\"_destroyed\"}]},{\"extends\":null,\"module\":null,\"name\":\"TemplateActions1\",\"overrides\":[],\"properties\":[{\"default\":0,\"kind\":null,\"name\":\"open_modal\"},{\"default\":0,\"kind\":null,\"name\":\"close_modal\"}]},{\"extends\":null,\"module\":null,\"name\":\"MaterialTemplateActions1\",\"overrides\":[],\"properties\":[{\"default\":0,\"kind\":null,\"name\":\"open_modal\"},{\"default\":0,\"kind\":null,\"name\":\"close_modal\"}]}],\"roots\":{\"references\":[{\"attributes\":{\"click_policy\":\"mute\",\"coordinates\":null,\"group\":null,\"items\":[{\"id\":\"1967\"}],\"location\":[0,0]},\"id\":\"1966\",\"type\":\"Legend\"},{\"attributes\":{\"fill_color\":{\"field\":\"color\",\"transform\":{\"id\":\"1949\"}},\"hatch_color\":{\"field\":\"color\",\"transform\":{\"id\":\"1949\"}},\"line_color\":{\"field\":\"color\",\"transform\":{\"id\":\"1949\"}},\"size\":{\"field\":\"size\"},\"x\":{\"field\":\"longitude\"},\"y\":{\"field\":\"latitude\"}},\"id\":\"1956\",\"type\":\"Scatter\"},{\"attributes\":{\"coordinates\":null,\"group\":null,\"text_color\":\"black\",\"text_font_size\":\"12pt\"},\"id\":\"1887\",\"type\":\"Title\"},{\"attributes\":{},\"id\":\"1963\",\"type\":\"UnionRenderers\"},{\"attributes\":{\"code\":\"\\n        var projections = Bokeh.require(\\\"core/util/projections\\\");\\n        var x = special_vars.data_x\\n        var y = special_vars.data_y\\n        var coords = projections.wgs84_mercator.invert(x, y)\\n        return \\\"\\\" + (coords[0]).toFixed(4)\\n    \"},\"id\":\"1968\",\"type\":\"CustomJSHover\"},{\"attributes\":{\"children\":[{\"id\":\"1886\"}],\"margin\":[0,0,0,0],\"name\":\"Row02389\",\"sizing_mode\":\"fixed\",\"tags\":[\"embedded\"]},\"id\":\"1874\",\"type\":\"Row\"},{\"attributes\":{},\"id\":\"1904\",\"type\":\"PanTool\"},{\"attributes\":{\"axis_label\":\"y\",\"coordinates\":null,\"formatter\":{\"id\":\"1921\"},\"group\":null,\"major_label_policy\":{\"id\":\"1931\"},\"ticker\":{\"id\":\"1920\"}},\"id\":\"1899\",\"type\":\"LinearAxis\"},{\"attributes\":{\"label\":{\"field\":\"color\"},\"renderers\":[{\"id\":\"1958\"}]},\"id\":\"1967\",\"type\":\"LegendItem\"},{\"attributes\":{\"axis\":{\"id\":\"1899\"},\"coordinates\":null,\"dimension\":1,\"grid_line_color\":null,\"group\":null,\"ticker\":null},\"id\":\"1902\",\"type\":\"Grid\"},{\"attributes\":{\"fill_color\":{\"field\":\"color\",\"transform\":{\"id\":\"1949\"}},\"hatch_color\":{\"field\":\"color\",\"transform\":{\"id\":\"1949\"}},\"line_color\":{\"field\":\"color\",\"transform\":{\"id\":\"1949\"}},\"size\":{\"field\":\"size\"},\"x\":{\"field\":\"longitude\"},\"y\":{\"field\":\"latitude\"}},\"id\":\"1955\",\"type\":\"Scatter\"},{\"attributes\":{\"zoom_on_axis\":false},\"id\":\"1905\",\"type\":\"WheelZoomTool\"},{\"attributes\":{\"code\":\"\\n        var projections = Bokeh.require(\\\"core/util/projections\\\");\\n        var x = special_vars.data_x\\n        var y = special_vars.data_y\\n        var coords = projections.wgs84_mercator.invert(x, y)\\n        return \\\"\\\" + (coords[1]).toFixed(4)\\n    \"},\"id\":\"1969\",\"type\":\"CustomJSHover\"},{\"attributes\":{\"source\":{\"id\":\"1950\"}},\"id\":\"1959\",\"type\":\"CDSView\"},{\"attributes\":{},\"id\":\"1903\",\"type\":\"SaveTool\"},{\"attributes\":{\"factors\":[\"Port-aux-Fran\\u00e7ais\",\"Waitangi\",\"Stanley\",\"Zhaotong City\",\"Port Mathurin\",\"Inekar\",\"Arquitecto Tom\\u00e1s Romero Pereira\",\"Buala\",\"Nova Vi\\u00e7osa\",\"Kon\\u00e9\",\"Tiksi\",\"Charlestown\",\"Kharkhorin\",\"Sisimiut\",\"Ushuaia\",\"Gumel\",\"Haapsalu\",\"Barra de Santo Ant\\u00f4nio\",\"Taiohae\",\"Puerto Natales\",\"Sinabang\",\"Giza\",\"Yellowknife\",\"Mejit\",\"Klyuchi\",\"Qaqortoq\",\"College\",\"Ca\\u00e7ador\",\"Pacific Grove\",\"Grytviken\",\"Sihanoukville\",\"Bethel\",\"Christchurch\",\"City of Mount Gambier\",\"West Island\",\"Enewetak\",\"Vila Franca do Campo\",\"Longyearbyen\",\"Susuman\",\"Aylmer\",\"Sri Aman\",\"Nelson Bay\",\"La Passe\",\"Barabai\",\"Tokar\",\"Newman\",\"Sussex\",\"Nar'yan-Mar\",\"Edinburgh of the Seven Seas\",\"Salalah\",\"Adamstown\",\"City of Albany\",\"San Miguel de Cozumel\",\"Blackmans Bay\",\"Arroio dos Ratos\",\"Puerto Ays\\u00e9n\",\"Pathein\",\"Iqaluit\",\"Hermanus\",\"Rongelap\",\"Nadi\",\"Bilibino\",\"St. John's\",\"Anadyr\",\"Olonkin City\",\"Jamestown\",\"Quell\\u00f3n\",\"Hurukamappu Yuzhno-Kurilsk\",\"Santa Elena de Uair\\u00e9n\",\"Jezkazgan\",\"Selfoss\",\"Alo\",\"Namie\",\"Vorga-Shor\",\"North Bend\",\"Nemuro\",\"Ukhta\",\"Amboasary\",\"Kodiak\",\"Port Alfred\",\"Fonadhoo\",\"Antofagasta\",\"Douz\",\"Lihue\",\"Bardai\",\"Chonchi\",\"Murray Bridge\",\"Nkurenkuru\",\"Mgandu\",\"Vuktyl\",\"Langsa\",\"Gillette\",\"Narvik\",\"S\\u00e3o Jos\\u00e9 da Coroa Grande\",\"Tazovsky\",\"Papatowai\",\"Maluso\",\"Tyre\",\"Punta Arenas\",\"Mirpur Sakro\",\"Puerto Deseado\",\"Tolanaro\",\"Keflav\\u00edk\",\"San Andros\",\"Masterton\",\"Cologne\",\"Sandnessj\\u00f8en\",\"Ilulissat\",\"Cidreira\",\"Laguna\",\"Saipan\",\"Tours\",\"Guarapari\",\"Parroquia Puerto Baquerizo Moreno\",\"East Haddam\",\"Ivdel\",\"Afaahiti\",\"Hawaiian Paradise Park\",\"Purang\",\"Kloulklubed\",\"Kenai\",\"Talnakh\",\"Codrington\",\"Kununurra\",\"Avarua\",\"Adra\",\"Mareeba Shire\",\"Okha\",\"City of Georgetown\",\"Chu\\u00ed\",\"Acara\\u00fa\",\"Erbaa\",\"Rio Preto da Eva\",\"Coquimbo\",\"Puerto Ayora\",\"Eastham\",\"Uturoa\",\"Mount Pearl\",\"Pantai Cenang\",\"River Cess\",\"Aasiaat\",\"Belmonte\",\"Kos\",\"Wailua Homesteads\",\"Port Lincoln\",\"Coruripe\",\"Kirensk\",\"Chirpan\",\"Sitka\",\"\\u0391\\u03bd\\u03ac\\u03b2\\u03c5\\u03c3\\u03c3\\u03bf\\u03c2\",\"Vilyuchinsk\",\"Invercargill City\",\"\\u00cdsafj\\u00f6r\\u00f0ur\",\"Tralee\",\"Hithadhoo\",\"Iskateley\",\"Prince Rupert\",\"Vads\\u00f8\",\"San Luis de la Loma\",\"Piat\",\"Vorkuta\",\"Portland\",\"Port Shepstone\",\"Ribeira Grande\",\"Makubetsu\",\"Sollefte\\u00e5 kommun\",\"Aras-asan\",\"Willemstad\",\"Shatsk\",\"Lebu\",\"Ust-Barguzin\",\"Mesquite\",\"Freeport\",\"Saint-Philippe\",\"Robor\\u00e9\",\"Elverum\",\"S\\u00e3o Vicente\",\"Ceyrat\",\"Amga\",\"Kavaratti\",\"Loukhi\",\"Didwana\",\"Irituia\",\"Mocajuba\",\"Malvan\",\"Saint-Pierre\",\"San Patricio\",\"Petropavlovsk-Kamchatsky\",\"Tual\",\"San Antonio de Pal\\u00e9\",\"Barra\",\"Pouso Alegre\",\"Ola\",\"Takoradi\",\"Lospalos\",\"Vasylivka\",\"Quy Nh\\u01a1n\",\"Hasaki\",\"Fort Bragg\",\"Manadhoo\",\"Itoman\",\"Nouadhibou\",\"Cockburn Town\",\"Ar Ruways\",\"Sosnovo-Ozerskoye\",\"Shuangjiang Lahu\",\"Port Sudan\",\"Waingapu\",\"Alice Springs\",\"Bredasdorp\",\"Udachny\",\"Mpika\",\"Carnarvon\",\"Sorong\",\"Ust-Nera\",\"Margaret River\",\"Vredenburg\",\"Dakhla\",\"Vieste\",\"Cape Town\",\"Nagqu\",\"Kharp\",\"Puerto San Carlos\",\"Gqeberha\",\"Homs\",\"Thompson\",\"Flin Flon\",\"Bod\\u00f8\",\"Adeje\",\"Qoryooley\",\"Nova Sintra\",\"Aykol\",\"Baillif\",\"Novosergiyevka\",\"Zhanaozen\",\"Nantucket Island\",\"Atbasar\",\"Geraldton\",\"Hirara\",\"Natchitoches\",\"Colonia Menno\",\"Happy Valley-Goose Bay\",\"Alotau\",\"Puerto San Jos\\u00e9\",\"Pingliang\",\"Asia\",\"La Sarre\",\"Amiens\",\"Badger\",\"Mora\",\"Beyla\",\"Ghanzi\",\"Kerikeri\",\"Flying Fish Cove\",\"Bom Jesus da Lapa\",\"Latur\",\"Kourou\",\"Kingston\",\"Yelizovo\",\"Soufriere\",\"Aktau\",\"Louisville\",\"Manthani\",\"San Sebasti\\u00e1n de la Gomera\",\"Russas\",\"Mo\\u00e7\\u00e2medes\",\"Abancay\",\"Tef\\u00e9\",\"Constan\\u021ba\",\"Kill Devil Hills\",\"Tyukhtet\",\"Amuntai\",\"Hazm\",\"Whitehorse\",\"Saint Brandon\",\"Usogorsk\",\"Fortuna\",\"Port Douglas\",\"Ketchikan\",\"Ingeniero Jacobacci\",\"Ayr\",\"Cabo San Lucas\",\"Kulachi\",\"Bitam\",\"Kayangel\",\"Hami\",\"Tazacorte\",\"Al Ghayzah\",\"Crane\",\"Richards Bay\",\"Lingig\",\"Hamilton\",\"Burutu\",\"Gour\\u00e9\",\"Yichun\",\"Alofi\",\"Mersing\",\"Banswara\",\"Khovd\",\"Renk\",\"Daru\",\"San Matias\",\"Troitsko-Pechorsk\",\"Vilyuysk\",\"Murmashi\",\"Municipality of Sparta\",\"Shibetsu\",\"Tingi\",\"Gebeit\",\"\\u00c5lesund\",\"Kerim\\u00e4ki\",\"Laie\",\"Nizhnesortymskiy\",\"Mutuali\",\"Charters Towers\",\"Bukene\",\"Sinan\",\"Nioki\",\"Kristiansund\",\"Iguape\",\"Shalqar\",\"Manokwari\",\"Parabel\",\"Great Yarmouth\",\"Ancud\",\"Muli Tibetan Autonomous County\",\"Byford\",\"Egilssta\\u00f0ir\",\"Vila Velha\",\"Dhidhdhoo\",\"`Ataq\",\"Tv\\u00f8royri\",\"Abasolo\",\"Bayla\",\"Hashtrud\",\"Mi\\u00f0v\\u00e1gur\",\"Lerwick\",\"Me\\u00f1aka\",\"Agordat\",\"Vingt Cinq\",\"Changji\",\"Reggane\",\"Sarina\",\"Port Macquarie\",\"Nuuk\",\"Khandyga\",\"Anacortes\",\"Lompoc\",\"Kingscliff\",\"Inari\",\"Gadzhiyevo\",\"Port Isabel\",\"Yantzaza\",\"Bom Jesus\",\"Princeville\",\"Port Augusta\",\"Saint-Fran\\u00e7ois-de-l'\\u00cele-d'Orl\\u00e9ans\",\"Ciudad Bolivar\",\"Sharm El Sheikh\",\"Oranjemund\",\"Yreka\",\"Touros\",\"Remire-Montjoly\",\"Fort St. John\",\"Smithers\",\"Kecamatan Lembar\",\"Villa Alberto Andr\\u00e9s Alvarado Ar\\u00e1mburo (Vizca\\u00edno)\",\"Paty do Alferes\",\"Hilo CDP\",\"Nogliki\",\"Akureyri\",\"Kapuskasing\",\"Zaozersk\",\"Morehead City\",\"Miyanoura\",\"Dunedin\",\"Dudinka\",\"Miyazu\",\"Praia da Vit\\u00f3ria\",\"Awjilah\",\"Phibun Mangsahan\",\"Raghogarh\",\"Edson\",\"Antsiranana\",\"Arraial do Cabo\",\"Petoskey\",\"Grantham\",\"Revda\",\"Carolina Beach\",\"Zaragoza\",\"Toliara\",\"Ericeira\",\"Wenchang City\",\"Al Jawf\",\"Orkney Islands\",\"G\\u00e4vle\",\"Ad Dilam\",\"Purranque\",\"Fort McMurray\",\"Kantilo\",\"Castillos\",\"L\\u00fcderitz\",\"East London\",\"Mux\\u00eda\",\"Pen\\u00e1polis\",\"Magdagachi\",\"Nurabad\",\"Holualoa CDP\",\"Ballycastle\",\"Goundam\",\"Oulu\",\"Westport\",\"Rancho Palos Verdes\",\"Nueva Palmira\",\"Zyryanskoye\",\"Essaouira\",\"Callao\",\"\\u0417\\u0438\\u043c\\u043e\\u0432\\u043d\\u0438\\u043a\\u0438\",\"Masjed Soleyman\",\"Tamanghasset\",\"Xifeng\",\"Winchester\",\"Santo Ant\\u00f4nio do I\\u00e7\\u00e1\",\"La Gi\",\"Klyavlino\",\"Boguchany\",\"Opuwo\",\"Comodoro Rivadavia\",\"Ghat\",\"Khamis Mushayt\",\"Saint-Joseph\",\"Okondja\",\"S\\u00e3o Gabriel da Cachoeira\",\"Rome\",\"Cedeira\",\"Demba\",\"Nov\\u00fd Bor\",\"Saucillo\",\"Bangassou\",\"Veraval\",\"Harper\",\"Rabo de Peixe\",\"Shimoda\",\"New Norfolk\",\"Altay City\",\"Kasane\",\"Aracruz\",\"Basco\",\"Queenstown\",\"Kimbe\",\"Gurupi\",\"Lamu\",\"Tottori\",\"New Plymouth\",\"Trairi\",\"Yuanping City\",\"Tanki Leendert\",\"\\u0130vrindi\",\"Conde\",\"Safford\",\"Mangrol\",\"Camocim\",\"Banda Aceh\",\"Kurumkan\",\"Lazaro Cardenas (Santana)\",\"Jumla\",\"Guelmim\",\"Berdigestyakh\",\"Cassil\\u00e2ndia\",\"Tarinkot\",\"Rakops\",\"Blackwater\",\"Saldanha\",\"Cadale\",\"Aykhal\",\"Graja\\u00fa\",\"Tulun\",\"Sambava\",\"Weno\",\"Talcahuano\",\"Hadiboh\",\"Rabigh\",\"Krasnaya Gora\",\"Moreira Sales\",\"Paredon\",\"Burayevo\",\"Neft\\u00e7ala\",\"Kisanga\",\"Longavi\",\"Prado\",\"Biloela\",\"Isangel\",\"Nikolayevsk-on-Amur\",\"Municipio de Viedma\",\"Wewak\",\"Dabakala\",\"Ceel Dheer\",\"Forster\",\"Goalpara\",\"Taksimo\",\"Ujae\",\"Broome\",\"Naze\",\"Gornopravdinsk\",\"Sangola\",\"Palmer\",\"Labrador City\",\"Al Kharijah\",\"Minas de Matahambre\",\"Ko Pha Ngan\",\"Togur\",\"Ratnagiri\",\"Vidalia\",\"Uliastai\",\"Paoua\",\"Alaior\",\"Fisterra\",\"Sipalay\",\"Lagoa\",\"Souillac\",\"Sofifi\",\"Umm Kaddada\",\"Crescent City\",\"Metlili\",\"Biltine\",\"Romorantin-Lanthenay\",\"Shubarshi\",\"Boa Vista\",\"Sa Pa ward\",\"Village of Black River\",\"Houyu\",\"\\u02bbOhonua\",\"Kataragama\",\"Moussoro\",\"Karratha\",\"Bayannur\",\"Eagle Mountain\",\"Aquidauana\",\"Bhag\",\"Phan Rang\\u2013Th\\u00e1p Ch\\u00e0m\",\"Kuala Tungkal\",\"Maxixe\",\"Chegdomyn\",\"Bandar Abbas\",\"Pauini\",\"Dani\\u00eblskuil\",\"Sau\\u00f0\\u00e1rkr\\u00f3kur\",\"Nicoya\",\"Icheon-si\",\"Pemangkat\",\"Brookings\",\"Perry\",\"Turka\",\"Borogontsy\",\"Fakenham\",\"Guantanamo\",\"\\u041f\\u0430\\u043d\\u0433\\u043e\\u0434\\u044b\",\"Baie-Comeau\",\"Pokrov\",\"Karasuk\",\"San Jos\\u00e9\",\"Chernyshevskiy\",\"Ibri\",\"\\u00c7ekerek\",\"Praia\"],\"palette\":[\"#1f77b3\",\"#ff7e0e\",\"#2ba02b\",\"#d62628\",\"#9367bc\",\"#8c564b\",\"#e277c1\",\"#7e7e7e\",\"#bcbc21\",\"#16bdcf\",\"#3a0182\",\"#004201\",\"#0fffa8\",\"#5d003f\",\"#bcbcff\",\"#d8afa1\",\"#b80080\",\"#004d52\",\"#6b6400\",\"#7c0100\",\"#6026ff\",\"#ffff9a\",\"#564964\",\"#8cb893\",\"#93fbff\",\"#018267\",\"#90ff00\",\"#8200a0\",\"#ac8944\",\"#5b3400\",\"#ffbff2\",\"#ff6e75\",\"#798cff\",\"#dd00ff\",\"#505646\",\"#004489\",\"#ffbf60\",\"#ff018c\",\"#bdc8cf\",\"#af97b5\",\"#b65600\",\"#017000\",\"#cd87ff\",\"#1cd646\",\"#bfebc3\",\"#7997b5\",\"#a56089\",\"#6e8956\",\"#bc7c75\",\"#8a2844\",\"#00acff\",\"#8ed4ff\",\"#4b6d77\",\"#00d4b1\",\"#9300f2\",\"#8a9500\",\"#5d5b9e\",\"#fddfba\",\"#00939e\",\"#ffdb00\",\"#00aa79\",\"#520067\",\"#000091\",\"#0a5d3d\",\"#a5e275\",\"#623b41\",\"#c6c689\",\"#ff9eb5\",\"#cd4f6b\",\"#ff07d6\",\"#8a3a05\",\"#7e3d70\",\"#ff4901\",\"#602ba5\",\"#1c00ff\",\"#e6dfff\",\"#aa3baf\",\"#d89c00\",\"#a3a39e\",\"#3f69ff\",\"#46490c\",\"#7b6985\",\"#6b978c\",\"#ff9a75\",\"#835bff\",\"#7c6b46\",\"#80b654\",\"#bc0049\",\"#fd93ff\",\"#5d0018\",\"#89d1d1\",\"#9c8cd3\",\"#da6d42\",\"#8a5700\",\"#3b5069\",\"#4b6b3b\",\"#edcfd8\",\"#cfedff\",\"#aa1500\",\"#dfff4f\",\"#ff2a56\",\"#d1499e\",\"#707cb8\",\"#598000\",\"#00e4fd\",\"#774b95\",\"#67d48c\",\"#3d3a72\",\"#ac413f\",\"#d6a166\",\"#c169cd\",\"#69595d\",\"#87aced\",\"#a0a569\",\"#d1aae6\",\"#870062\",\"#00fddb\",\"#672818\",\"#b342ff\",\"#0e59c4\",\"#168742\",\"#90d300\",\"#cd7900\",\"#f959ff\",\"#5b7466\",\"#8eaeb3\",\"#9c7c8c\",\"#4600c6\",\"#6b4d2d\",\"#a56d46\",\"#9e8972\",\"#a8afca\",\"#cd8ca7\",\"#00fd64\",\"#917900\",\"#ff62a1\",\"#f4ffd8\",\"#018cf0\",\"#13aca0\",\"#5b2d59\",\"#89859e\",\"#cfccba\",\"#d4afc4\",\"#dbdd6d\",\"#cffff4\",\"#006485\",\"#006962\",\"#a84167\",\"#2d97c4\",\"#a874ff\",\"#26ba5d\",\"#57b600\",\"#caffa7\",\"#a379aa\",\"#ffbc93\",\"#89e2c1\",\"#0fc8ff\",\"#d400c4\",\"#626d89\",\"#69858e\",\"#4b4d52\",\"#aa6067\",\"#79b5d4\",\"#2b5916\",\"#9a0024\",\"#bdd1f2\",\"#896e67\",\"#69a56b\",\"#855467\",\"#aecdba\",\"#87997e\",\"#cadb00\",\"#9a0390\",\"#ebbc1a\",\"#eb9cd1\",\"#70006e\",\"#b1a131\",\"#ca6b93\",\"#4146a3\",\"#e48c89\",\"#d44400\",\"#c68aca\",\"#b69597\",\"#d41f75\",\"#724bcc\",\"#674d00\",\"#672138\",\"#38564f\",\"#6ebaaa\",\"#853a31\",\"#a5d397\",\"#b8af8e\",\"#d8e4df\",\"#aa00df\",\"#cac1db\",\"#ffdf8c\",\"#e2524d\",\"#66696e\",\"#ff001c\",\"#522d72\",\"#4d906b\",\"#a86d11\",\"#ff9e26\",\"#5ea3af\",\"#c88556\",\"#915997\",\"#a3a1ff\",\"#fdbaba\",\"#242a87\",\"#dbe6a8\",\"#97f2a7\",\"#6793d6\",\"#ba5b3f\",\"#3a5d91\",\"#364f2f\",\"#267c95\",\"#89959a\",\"#cfb356\",\"#004664\",\"#5e5d2f\",\"#8e8e41\",\"#ac3f13\",\"#69953b\",\"#a13d85\",\"#bfb6ba\",\"#acc667\",\"#6469cf\",\"#91af00\",\"#2be2da\",\"#016e36\",\"#ff7952\",\"#42807e\",\"#4fe800\",\"#995428\",\"#5d0a00\",\"#a30057\",\"#0c8700\",\"#5982a7\",\"#ffebfb\",\"#4b6901\",\"#8775d4\",\"#e6c6ff\",\"#a5ffda\",\"#d86e77\",\"#df014b\",\"#69675b\",\"#776ba1\",\"#7e8067\",\"#594685\",\"#0000ca\",\"#7c002a\",\"#97ff72\",\"#b5e2e1\",\"#db52c8\",\"#777734\",\"#57bd8e\",\"#1f77b3\",\"#ff7e0e\",\"#2ba02b\",\"#d62628\",\"#9367bc\",\"#8c564b\",\"#e277c1\",\"#7e7e7e\",\"#bcbc21\",\"#16bdcf\",\"#3a0182\",\"#004201\",\"#0fffa8\",\"#5d003f\",\"#bcbcff\",\"#d8afa1\",\"#b80080\",\"#004d52\",\"#6b6400\",\"#7c0100\",\"#6026ff\",\"#ffff9a\",\"#564964\",\"#8cb893\",\"#93fbff\",\"#018267\",\"#90ff00\",\"#8200a0\",\"#ac8944\",\"#5b3400\",\"#ffbff2\",\"#ff6e75\",\"#798cff\",\"#dd00ff\",\"#505646\",\"#004489\",\"#ffbf60\",\"#ff018c\",\"#bdc8cf\",\"#af97b5\",\"#b65600\",\"#017000\",\"#cd87ff\",\"#1cd646\",\"#bfebc3\",\"#7997b5\",\"#a56089\",\"#6e8956\",\"#bc7c75\",\"#8a2844\",\"#00acff\",\"#8ed4ff\",\"#4b6d77\",\"#00d4b1\",\"#9300f2\",\"#8a9500\",\"#5d5b9e\",\"#fddfba\",\"#00939e\",\"#ffdb00\",\"#00aa79\",\"#520067\",\"#000091\",\"#0a5d3d\",\"#a5e275\",\"#623b41\",\"#c6c689\",\"#ff9eb5\",\"#cd4f6b\",\"#ff07d6\",\"#8a3a05\",\"#7e3d70\",\"#ff4901\",\"#602ba5\",\"#1c00ff\",\"#e6dfff\",\"#aa3baf\",\"#d89c00\",\"#a3a39e\",\"#3f69ff\",\"#46490c\",\"#7b6985\",\"#6b978c\",\"#ff9a75\",\"#835bff\",\"#7c6b46\",\"#80b654\",\"#bc0049\",\"#fd93ff\",\"#5d0018\",\"#89d1d1\",\"#9c8cd3\",\"#da6d42\",\"#8a5700\",\"#3b5069\",\"#4b6b3b\",\"#edcfd8\",\"#cfedff\",\"#aa1500\",\"#dfff4f\",\"#ff2a56\",\"#d1499e\",\"#707cb8\",\"#598000\",\"#00e4fd\",\"#774b95\",\"#67d48c\",\"#3d3a72\",\"#ac413f\",\"#d6a166\",\"#c169cd\",\"#69595d\",\"#87aced\",\"#a0a569\",\"#d1aae6\",\"#870062\",\"#00fddb\",\"#672818\",\"#b342ff\",\"#0e59c4\",\"#168742\",\"#90d300\",\"#cd7900\",\"#f959ff\",\"#5b7466\",\"#8eaeb3\",\"#9c7c8c\",\"#4600c6\",\"#6b4d2d\",\"#a56d46\",\"#9e8972\",\"#a8afca\",\"#cd8ca7\",\"#00fd64\",\"#917900\",\"#ff62a1\",\"#f4ffd8\",\"#018cf0\",\"#13aca0\",\"#5b2d59\",\"#89859e\",\"#cfccba\",\"#d4afc4\",\"#dbdd6d\",\"#cffff4\",\"#006485\",\"#006962\",\"#a84167\",\"#2d97c4\",\"#a874ff\",\"#26ba5d\",\"#57b600\",\"#caffa7\",\"#a379aa\",\"#ffbc93\",\"#89e2c1\",\"#0fc8ff\",\"#d400c4\",\"#626d89\",\"#69858e\",\"#4b4d52\",\"#aa6067\",\"#79b5d4\",\"#2b5916\",\"#9a0024\",\"#bdd1f2\",\"#896e67\",\"#69a56b\",\"#855467\",\"#aecdba\",\"#87997e\",\"#cadb00\",\"#9a0390\",\"#ebbc1a\",\"#eb9cd1\",\"#70006e\",\"#b1a131\",\"#ca6b93\",\"#4146a3\",\"#e48c89\",\"#d44400\",\"#c68aca\",\"#b69597\",\"#d41f75\",\"#724bcc\",\"#674d00\",\"#672138\",\"#38564f\",\"#6ebaaa\",\"#853a31\",\"#a5d397\",\"#b8af8e\",\"#d8e4df\",\"#aa00df\",\"#cac1db\",\"#ffdf8c\",\"#e2524d\",\"#66696e\",\"#ff001c\",\"#522d72\",\"#4d906b\",\"#a86d11\",\"#ff9e26\",\"#5ea3af\",\"#c88556\",\"#915997\",\"#a3a1ff\",\"#fdbaba\",\"#242a87\",\"#dbe6a8\",\"#97f2a7\",\"#6793d6\",\"#ba5b3f\",\"#3a5d91\",\"#364f2f\",\"#267c95\",\"#89959a\",\"#cfb356\",\"#004664\",\"#5e5d2f\",\"#8e8e41\",\"#ac3f13\",\"#69953b\",\"#a13d85\",\"#bfb6ba\",\"#acc667\",\"#6469cf\",\"#91af00\",\"#2be2da\",\"#016e36\",\"#ff7952\",\"#42807e\",\"#4fe800\",\"#995428\",\"#5d0a00\",\"#a30057\",\"#0c8700\",\"#5982a7\",\"#ffebfb\",\"#4b6901\",\"#8775d4\",\"#e6c6ff\",\"#a5ffda\",\"#d86e77\",\"#df014b\",\"#69675b\",\"#776ba1\",\"#7e8067\",\"#594685\",\"#0000ca\",\"#7c002a\",\"#97ff72\",\"#b5e2e1\",\"#db52c8\",\"#777734\",\"#57bd8e\",\"#1f77b3\",\"#ff7e0e\",\"#2ba02b\",\"#d62628\",\"#9367bc\",\"#8c564b\",\"#e277c1\",\"#7e7e7e\",\"#bcbc21\",\"#16bdcf\",\"#3a0182\",\"#004201\",\"#0fffa8\",\"#5d003f\",\"#bcbcff\",\"#d8afa1\",\"#b80080\",\"#004d52\",\"#6b6400\",\"#7c0100\",\"#6026ff\",\"#ffff9a\",\"#564964\",\"#8cb893\",\"#93fbff\",\"#018267\",\"#90ff00\",\"#8200a0\",\"#ac8944\",\"#5b3400\",\"#ffbff2\",\"#ff6e75\",\"#798cff\",\"#dd00ff\",\"#505646\",\"#004489\",\"#ffbf60\",\"#ff018c\",\"#bdc8cf\",\"#af97b5\",\"#b65600\",\"#017000\",\"#cd87ff\",\"#1cd646\",\"#bfebc3\",\"#7997b5\",\"#a56089\",\"#6e8956\",\"#bc7c75\",\"#8a2844\",\"#00acff\",\"#8ed4ff\",\"#4b6d77\"]},\"id\":\"1949\",\"type\":\"CategoricalColorMapper\"},{\"attributes\":{\"match_aspect\":true,\"overlay\":{\"id\":\"1908\"}},\"id\":\"1906\",\"type\":\"BoxZoomTool\"},{\"attributes\":{\"fill_alpha\":{\"value\":0.2},\"fill_color\":{\"field\":\"color\",\"transform\":{\"id\":\"1949\"}},\"hatch_alpha\":{\"value\":0.2},\"hatch_color\":{\"field\":\"color\",\"transform\":{\"id\":\"1949\"}},\"line_alpha\":{\"value\":0.2},\"line_color\":{\"field\":\"color\",\"transform\":{\"id\":\"1949\"}},\"size\":{\"field\":\"size\"},\"x\":{\"field\":\"longitude\"},\"y\":{\"field\":\"latitude\"}},\"id\":\"1957\",\"type\":\"Scatter\"},{\"attributes\":{},\"id\":\"1907\",\"type\":\"ResetTool\"},{\"attributes\":{\"below\":[{\"id\":\"1895\"}],\"center\":[{\"id\":\"1898\"},{\"id\":\"1902\"}],\"frame_height\":500,\"frame_width\":700,\"height\":null,\"left\":[{\"id\":\"1899\"}],\"margin\":[5,5,5,5],\"match_aspect\":true,\"min_border_bottom\":10,\"min_border_left\":10,\"min_border_right\":10,\"min_border_top\":10,\"renderers\":[{\"id\":\"1947\"},{\"id\":\"1958\"}],\"right\":[{\"id\":\"1966\"}],\"sizing_mode\":\"fixed\",\"title\":{\"id\":\"1887\"},\"toolbar\":{\"id\":\"1909\"},\"width\":null,\"x_range\":{\"id\":\"1879\"},\"x_scale\":{\"id\":\"1891\"},\"y_range\":{\"id\":\"1880\"},\"y_scale\":{\"id\":\"1893\"}},\"id\":\"1886\",\"subtype\":\"Figure\",\"type\":\"Plot\"},{\"attributes\":{\"bottom_units\":\"screen\",\"coordinates\":null,\"fill_alpha\":0.5,\"fill_color\":\"lightgrey\",\"group\":null,\"left_units\":\"screen\",\"level\":\"overlay\",\"line_alpha\":1.0,\"line_color\":\"black\",\"line_dash\":[4,4],\"line_width\":2,\"right_units\":\"screen\",\"syncable\":false,\"top_units\":\"screen\"},\"id\":\"1908\",\"type\":\"BoxAnnotation\"},{\"attributes\":{\"data\":{\"city\":[\"Port-aux-Fran\\u00e7ais\",\"Waitangi\",\"Stanley\",\"Zhaotong City\",\"Port Mathurin\",\"Inekar\",\"Arquitecto Tom\\u00e1s Romero Pereira\",\"Buala\",\"Nova Vi\\u00e7osa\",\"Kon\\u00e9\",\"Tiksi\",\"Charlestown\",\"Kharkhorin\",\"Sisimiut\",\"Ushuaia\",\"Gumel\",\"Haapsalu\",\"Barra de Santo Ant\\u00f4nio\",\"Taiohae\",\"Puerto Natales\",\"Sinabang\",\"Giza\",\"Yellowknife\",\"Mejit\",\"Klyuchi\",\"Qaqortoq\",\"College\",\"Ca\\u00e7ador\",\"Pacific Grove\",\"Grytviken\",\"Sihanoukville\",\"Bethel\",\"Christchurch\",\"City of Mount Gambier\",\"West Island\",\"Enewetak\",\"Vila Franca do Campo\",\"Longyearbyen\",\"Susuman\",\"Aylmer\",\"Sri Aman\",\"Nelson Bay\",\"La Passe\",\"Barabai\",\"Tokar\",\"Newman\",\"Sussex\",\"Nar'yan-Mar\",\"Edinburgh of the Seven Seas\",\"Salalah\",\"Adamstown\",\"City of Albany\",\"San Miguel de Cozumel\",\"Blackmans Bay\",\"Arroio dos Ratos\",\"Puerto Ays\\u00e9n\",\"Pathein\",\"Iqaluit\",\"Hermanus\",\"Rongelap\",\"Nadi\",\"Bilibino\",\"St. John's\",\"Anadyr\",\"Olonkin City\",\"Jamestown\",\"Quell\\u00f3n\",\"Hurukamappu Yuzhno-Kurilsk\",\"Santa Elena de Uair\\u00e9n\",\"Jezkazgan\",\"Selfoss\",\"Alo\",\"Namie\",\"Vorga-Shor\",\"North Bend\",\"Nemuro\",\"Ukhta\",\"Amboasary\",\"Kodiak\",\"Port Alfred\",\"Fonadhoo\",\"Antofagasta\",\"Douz\",\"Lihue\",\"Bardai\",\"Chonchi\",\"Murray Bridge\",\"Nkurenkuru\",\"Mgandu\",\"Vuktyl\",\"Langsa\",\"Gillette\",\"Narvik\",\"S\\u00e3o Jos\\u00e9 da Coroa Grande\",\"Tazovsky\",\"Papatowai\",\"Maluso\",\"Tyre\",\"Punta Arenas\",\"Mirpur Sakro\",\"Puerto Deseado\",\"Tolanaro\",\"Keflav\\u00edk\",\"San Andros\",\"Masterton\",\"Cologne\",\"Sandnessj\\u00f8en\",\"Ilulissat\",\"Cidreira\",\"Laguna\",\"Saipan\",\"Tours\",\"Guarapari\",\"Parroquia Puerto Baquerizo Moreno\",\"East Haddam\",\"Ivdel\",\"Afaahiti\",\"Hawaiian Paradise Park\",\"Purang\",\"Kloulklubed\",\"Kenai\",\"Talnakh\",\"Codrington\",\"Kununurra\",\"Avarua\",\"Adra\",\"Mareeba Shire\",\"Okha\",\"City of Georgetown\",\"Chu\\u00ed\",\"Acara\\u00fa\",\"Erbaa\",\"Rio Preto da Eva\",\"Coquimbo\",\"Puerto Ayora\",\"Eastham\",\"Uturoa\",\"Mount Pearl\",\"Pantai Cenang\",\"River Cess\",\"Aasiaat\",\"Belmonte\",\"Kos\",\"Wailua Homesteads\",\"Port Lincoln\",\"Coruripe\",\"Kirensk\",\"Chirpan\",\"Sitka\",\"\\u0391\\u03bd\\u03ac\\u03b2\\u03c5\\u03c3\\u03c3\\u03bf\\u03c2\",\"Vilyuchinsk\",\"Invercargill City\",\"\\u00cdsafj\\u00f6r\\u00f0ur\",\"Tralee\",\"Hithadhoo\",\"Iskateley\",\"Prince Rupert\",\"Vads\\u00f8\",\"San Luis de la Loma\",\"Piat\",\"Vorkuta\",\"Portland\",\"Port Shepstone\",\"Ribeira Grande\",\"Makubetsu\",\"Sollefte\\u00e5 kommun\",\"Aras-asan\",\"Willemstad\",\"Shatsk\",\"Lebu\",\"Ust-Barguzin\",\"Mesquite\",\"Freeport\",\"Saint-Philippe\",\"Robor\\u00e9\",\"Elverum\",\"S\\u00e3o Vicente\",\"Ceyrat\",\"Amga\",\"Kavaratti\",\"Loukhi\",\"Didwana\",\"Irituia\",\"Mocajuba\",\"Malvan\",\"Saint-Pierre\",\"San Patricio\",\"Petropavlovsk-Kamchatsky\",\"Tual\",\"San Antonio de Pal\\u00e9\",\"Barra\",\"Pouso Alegre\",\"Ola\",\"Takoradi\",\"Lospalos\",\"Vasylivka\",\"Quy Nh\\u01a1n\",\"Hasaki\",\"Fort Bragg\",\"Manadhoo\",\"Itoman\",\"Nouadhibou\",\"Cockburn Town\",\"Ar Ruways\",\"Sosnovo-Ozerskoye\",\"Shuangjiang Lahu\",\"Port Sudan\",\"Waingapu\",\"Alice Springs\",\"Bredasdorp\",\"Udachny\",\"Mpika\",\"Carnarvon\",\"Sorong\",\"Ust-Nera\",\"Margaret River\",\"Vredenburg\",\"Dakhla\",\"Vieste\",\"Cape Town\",\"Nagqu\",\"Kharp\",\"Puerto San Carlos\",\"Gqeberha\",\"Homs\",\"Thompson\",\"Flin Flon\",\"Bod\\u00f8\",\"Adeje\",\"Qoryooley\",\"Nova Sintra\",\"Aykol\",\"Baillif\",\"Novosergiyevka\",\"Zhanaozen\",\"Nantucket Island\",\"Atbasar\",\"Geraldton\",\"Hirara\",\"Natchitoches\",\"Colonia Menno\",\"Happy Valley-Goose Bay\",\"Alotau\",\"Puerto San Jos\\u00e9\",\"Pingliang\",\"Asia\",\"La Sarre\",\"Amiens\",\"Badger\",\"Mora\",\"Beyla\",\"Ghanzi\",\"Kerikeri\",\"Flying Fish Cove\",\"Bom Jesus da Lapa\",\"Latur\",\"Kourou\",\"Kingston\",\"Yelizovo\",\"Soufriere\",\"Aktau\",\"Louisville\",\"Manthani\",\"San Sebasti\\u00e1n de la Gomera\",\"Russas\",\"Mo\\u00e7\\u00e2medes\",\"Abancay\",\"Tef\\u00e9\",\"Constan\\u021ba\",\"Kill Devil Hills\",\"Tyukhtet\",\"Amuntai\",\"Hazm\",\"Whitehorse\",\"Saint Brandon\",\"Usogorsk\",\"Fortuna\",\"Port Douglas\",\"Ketchikan\",\"Ingeniero Jacobacci\",\"Ayr\",\"Cabo San Lucas\",\"Kulachi\",\"Bitam\",\"Kayangel\",\"Hami\",\"Tazacorte\",\"Al Ghayzah\",\"Crane\",\"Richards Bay\",\"Lingig\",\"Hamilton\",\"Burutu\",\"Gour\\u00e9\",\"Yichun\",\"Alofi\",\"Mersing\",\"Banswara\",\"Khovd\",\"Renk\",\"Daru\",\"San Matias\",\"Troitsko-Pechorsk\",\"Vilyuysk\",\"Murmashi\",\"Municipality of Sparta\",\"Shibetsu\",\"Tingi\",\"Gebeit\",\"\\u00c5lesund\",\"Kerim\\u00e4ki\",\"Laie\",\"Nizhnesortymskiy\",\"Mutuali\",\"Charters Towers\",\"Bukene\",\"Sinan\",\"Nioki\",\"Kristiansund\",\"Iguape\",\"Shalqar\",\"Manokwari\",\"Parabel\",\"Great Yarmouth\",\"Ancud\",\"Muli Tibetan Autonomous County\",\"Byford\",\"Egilssta\\u00f0ir\",\"Vila Velha\",\"Dhidhdhoo\",\"`Ataq\",\"Tv\\u00f8royri\",\"Abasolo\",\"Bayla\",\"Hashtrud\",\"Mi\\u00f0v\\u00e1gur\",\"Lerwick\",\"Me\\u00f1aka\",\"Agordat\",\"Vingt Cinq\",\"Changji\",\"Reggane\",\"Sarina\",\"Port Macquarie\",\"Nuuk\",\"Khandyga\",\"Anacortes\",\"Lompoc\",\"Kingscliff\",\"Inari\",\"Gadzhiyevo\",\"Port Isabel\",\"Yantzaza\",\"Bom Jesus\",\"Princeville\",\"Port Augusta\",\"Saint-Fran\\u00e7ois-de-l'\\u00cele-d'Orl\\u00e9ans\",\"Ciudad Bolivar\",\"Sharm El Sheikh\",\"Oranjemund\",\"Yreka\",\"Touros\",\"Remire-Montjoly\",\"Fort St. John\",\"Smithers\",\"Kecamatan Lembar\",\"Villa Alberto Andr\\u00e9s Alvarado Ar\\u00e1mburo (Vizca\\u00edno)\",\"Paty do Alferes\",\"Hilo CDP\",\"Nogliki\",\"Akureyri\",\"Kapuskasing\",\"Zaozersk\",\"Morehead City\",\"Miyanoura\",\"Dunedin\",\"Dudinka\",\"Miyazu\",\"Praia da Vit\\u00f3ria\",\"Awjilah\",\"Phibun Mangsahan\",\"Raghogarh\",\"Edson\",\"Antsiranana\",\"Arraial do Cabo\",\"Petoskey\",\"Grantham\",\"Revda\",\"Carolina Beach\",\"Zaragoza\",\"Toliara\",\"Ericeira\",\"Wenchang City\",\"Al Jawf\",\"Orkney Islands\",\"G\\u00e4vle\",\"Ad Dilam\",\"Purranque\",\"Fort McMurray\",\"Kantilo\",\"Castillos\",\"L\\u00fcderitz\",\"East London\",\"Mux\\u00eda\",\"Pen\\u00e1polis\",\"Magdagachi\",\"Nurabad\",\"Holualoa CDP\",\"Ballycastle\",\"Goundam\",\"Oulu\",\"Westport\",\"Rancho Palos Verdes\",\"Nueva Palmira\",\"Zyryanskoye\",\"Essaouira\",\"Callao\",\"\\u0417\\u0438\\u043c\\u043e\\u0432\\u043d\\u0438\\u043a\\u0438\",\"Masjed Soleyman\",\"Tamanghasset\",\"Xifeng\",\"Winchester\",\"Santo Ant\\u00f4nio do I\\u00e7\\u00e1\",\"La Gi\",\"Klyavlino\",\"Boguchany\",\"Opuwo\",\"Comodoro Rivadavia\",\"Ghat\",\"Khamis Mushayt\",\"Saint-Joseph\",\"Okondja\",\"S\\u00e3o Gabriel da Cachoeira\",\"Rome\",\"Cedeira\",\"Demba\",\"Nov\\u00fd Bor\",\"Saucillo\",\"Bangassou\",\"Veraval\",\"Harper\",\"Rabo de Peixe\",\"Shimoda\",\"New Norfolk\",\"Altay City\",\"Kasane\",\"Aracruz\",\"Basco\",\"Queenstown\",\"Kimbe\",\"Gurupi\",\"Lamu\",\"Tottori\",\"New Plymouth\",\"Trairi\",\"Cologne\",\"Yuanping City\",\"Tanki Leendert\",\"\\u0130vrindi\",\"Conde\",\"Safford\",\"Mangrol\",\"Camocim\",\"Banda Aceh\",\"Kurumkan\",\"Lazaro Cardenas (Santana)\",\"Jumla\",\"Guelmim\",\"Berdigestyakh\",\"Cassil\\u00e2ndia\",\"Tarinkot\",\"Rakops\",\"Blackwater\",\"Saldanha\",\"Cadale\",\"Aykhal\",\"Graja\\u00fa\",\"Tulun\",\"Sambava\",\"Weno\",\"Talcahuano\",\"Hadiboh\",\"Rabigh\",\"Krasnaya Gora\",\"Moreira Sales\",\"Paredon\",\"Burayevo\",\"Neft\\u00e7ala\",\"Kisanga\",\"Longavi\",\"Prado\",\"Biloela\",\"Isangel\",\"Nikolayevsk-on-Amur\",\"Municipio de Viedma\",\"Wewak\",\"Dabakala\",\"Ceel Dheer\",\"Forster\",\"Goalpara\",\"Taksimo\",\"Ujae\",\"Broome\",\"Naze\",\"Gornopravdinsk\",\"Sangola\",\"Palmer\",\"Labrador City\",\"Al Kharijah\",\"Minas de Matahambre\",\"Ko Pha Ngan\",\"Togur\",\"Ratnagiri\",\"Vidalia\",\"Uliastai\",\"Paoua\",\"Alaior\",\"Fisterra\",\"Sipalay\",\"Lagoa\",\"Souillac\",\"Sofifi\",\"Umm Kaddada\",\"Crescent City\",\"Metlili\",\"Biltine\",\"Romorantin-Lanthenay\",\"Shubarshi\",\"Boa Vista\",\"Sa Pa ward\",\"Village of Black River\",\"Houyu\",\"\\u02bbOhonua\",\"Kataragama\",\"Moussoro\",\"Karratha\",\"Bayannur\",\"Eagle Mountain\",\"Aquidauana\",\"Bhag\",\"Phan Rang\\u2013Th\\u00e1p Ch\\u00e0m\",\"Kuala Tungkal\",\"Maxixe\",\"Chegdomyn\",\"Bandar Abbas\",\"Pauini\",\"Dani\\u00eblskuil\",\"Sau\\u00f0\\u00e1rkr\\u00f3kur\",\"Nicoya\",\"Icheon-si\",\"Pemangkat\",\"Brookings\",\"Perry\",\"Turka\",\"Borogontsy\",\"Fakenham\",\"Guantanamo\",\"\\u041f\\u0430\\u043d\\u0433\\u043e\\u0434\\u044b\",\"Baie-Comeau\",\"Pokrov\",\"Karasuk\",\"San Jos\\u00e9\",\"Chernyshevskiy\",\"Ibri\",\"\\u00c7ekerek\",\"Praia\"],\"color\":[\"Port-aux-Fran\\u00e7ais\",\"Waitangi\",\"Stanley\",\"Zhaotong City\",\"Port Mathurin\",\"Inekar\",\"Arquitecto Tom\\u00e1s Romero Pereira\",\"Buala\",\"Nova Vi\\u00e7osa\",\"Kon\\u00e9\",\"Tiksi\",\"Charlestown\",\"Kharkhorin\",\"Sisimiut\",\"Ushuaia\",\"Gumel\",\"Haapsalu\",\"Barra de Santo Ant\\u00f4nio\",\"Taiohae\",\"Puerto Natales\",\"Sinabang\",\"Giza\",\"Yellowknife\",\"Mejit\",\"Klyuchi\",\"Qaqortoq\",\"College\",\"Ca\\u00e7ador\",\"Pacific Grove\",\"Grytviken\",\"Sihanoukville\",\"Bethel\",\"Christchurch\",\"City of Mount Gambier\",\"West Island\",\"Enewetak\",\"Vila Franca do Campo\",\"Longyearbyen\",\"Susuman\",\"Aylmer\",\"Sri Aman\",\"Nelson Bay\",\"La Passe\",\"Barabai\",\"Tokar\",\"Newman\",\"Sussex\",\"Nar'yan-Mar\",\"Edinburgh of the Seven Seas\",\"Salalah\",\"Adamstown\",\"City of Albany\",\"San Miguel de Cozumel\",\"Blackmans Bay\",\"Arroio dos Ratos\",\"Puerto Ays\\u00e9n\",\"Pathein\",\"Iqaluit\",\"Hermanus\",\"Rongelap\",\"Nadi\",\"Bilibino\",\"St. John's\",\"Anadyr\",\"Olonkin City\",\"Jamestown\",\"Quell\\u00f3n\",\"Hurukamappu Yuzhno-Kurilsk\",\"Santa Elena de Uair\\u00e9n\",\"Jezkazgan\",\"Selfoss\",\"Alo\",\"Namie\",\"Vorga-Shor\",\"North Bend\",\"Nemuro\",\"Ukhta\",\"Amboasary\",\"Kodiak\",\"Port Alfred\",\"Fonadhoo\",\"Antofagasta\",\"Douz\",\"Lihue\",\"Bardai\",\"Chonchi\",\"Murray Bridge\",\"Nkurenkuru\",\"Mgandu\",\"Vuktyl\",\"Langsa\",\"Gillette\",\"Narvik\",\"S\\u00e3o Jos\\u00e9 da Coroa Grande\",\"Tazovsky\",\"Papatowai\",\"Maluso\",\"Tyre\",\"Punta Arenas\",\"Mirpur Sakro\",\"Puerto Deseado\",\"Tolanaro\",\"Keflav\\u00edk\",\"San Andros\",\"Masterton\",\"Cologne\",\"Sandnessj\\u00f8en\",\"Ilulissat\",\"Cidreira\",\"Laguna\",\"Saipan\",\"Tours\",\"Guarapari\",\"Parroquia Puerto Baquerizo Moreno\",\"East Haddam\",\"Ivdel\",\"Afaahiti\",\"Hawaiian Paradise Park\",\"Purang\",\"Kloulklubed\",\"Kenai\",\"Talnakh\",\"Codrington\",\"Kununurra\",\"Avarua\",\"Adra\",\"Mareeba Shire\",\"Okha\",\"City of Georgetown\",\"Chu\\u00ed\",\"Acara\\u00fa\",\"Erbaa\",\"Rio Preto da Eva\",\"Coquimbo\",\"Puerto Ayora\",\"Eastham\",\"Uturoa\",\"Mount Pearl\",\"Pantai Cenang\",\"River Cess\",\"Aasiaat\",\"Belmonte\",\"Kos\",\"Wailua Homesteads\",\"Port Lincoln\",\"Coruripe\",\"Kirensk\",\"Chirpan\",\"Sitka\",\"\\u0391\\u03bd\\u03ac\\u03b2\\u03c5\\u03c3\\u03c3\\u03bf\\u03c2\",\"Vilyuchinsk\",\"Invercargill City\",\"\\u00cdsafj\\u00f6r\\u00f0ur\",\"Tralee\",\"Hithadhoo\",\"Iskateley\",\"Prince Rupert\",\"Vads\\u00f8\",\"San Luis de la Loma\",\"Piat\",\"Vorkuta\",\"Portland\",\"Port Shepstone\",\"Ribeira Grande\",\"Makubetsu\",\"Sollefte\\u00e5 kommun\",\"Aras-asan\",\"Willemstad\",\"Shatsk\",\"Lebu\",\"Ust-Barguzin\",\"Mesquite\",\"Freeport\",\"Saint-Philippe\",\"Robor\\u00e9\",\"Elverum\",\"S\\u00e3o Vicente\",\"Ceyrat\",\"Amga\",\"Kavaratti\",\"Loukhi\",\"Didwana\",\"Irituia\",\"Mocajuba\",\"Malvan\",\"Saint-Pierre\",\"San Patricio\",\"Petropavlovsk-Kamchatsky\",\"Tual\",\"San Antonio de Pal\\u00e9\",\"Barra\",\"Pouso Alegre\",\"Ola\",\"Takoradi\",\"Lospalos\",\"Vasylivka\",\"Quy Nh\\u01a1n\",\"Hasaki\",\"Fort Bragg\",\"Manadhoo\",\"Itoman\",\"Nouadhibou\",\"Cockburn Town\",\"Ar Ruways\",\"Sosnovo-Ozerskoye\",\"Shuangjiang Lahu\",\"Port Sudan\",\"Waingapu\",\"Alice Springs\",\"Bredasdorp\",\"Udachny\",\"Mpika\",\"Carnarvon\",\"Sorong\",\"Ust-Nera\",\"Margaret River\",\"Vredenburg\",\"Dakhla\",\"Vieste\",\"Cape Town\",\"Nagqu\",\"Kharp\",\"Puerto San Carlos\",\"Gqeberha\",\"Homs\",\"Thompson\",\"Flin Flon\",\"Bod\\u00f8\",\"Adeje\",\"Qoryooley\",\"Nova Sintra\",\"Aykol\",\"Baillif\",\"Novosergiyevka\",\"Zhanaozen\",\"Nantucket Island\",\"Atbasar\",\"Geraldton\",\"Hirara\",\"Natchitoches\",\"Colonia Menno\",\"Happy Valley-Goose Bay\",\"Alotau\",\"Puerto San Jos\\u00e9\",\"Pingliang\",\"Asia\",\"La Sarre\",\"Amiens\",\"Badger\",\"Mora\",\"Beyla\",\"Ghanzi\",\"Kerikeri\",\"Flying Fish Cove\",\"Bom Jesus da Lapa\",\"Latur\",\"Kourou\",\"Kingston\",\"Yelizovo\",\"Soufriere\",\"Aktau\",\"Louisville\",\"Manthani\",\"San Sebasti\\u00e1n de la Gomera\",\"Russas\",\"Mo\\u00e7\\u00e2medes\",\"Abancay\",\"Tef\\u00e9\",\"Constan\\u021ba\",\"Kill Devil Hills\",\"Tyukhtet\",\"Amuntai\",\"Hazm\",\"Whitehorse\",\"Saint Brandon\",\"Usogorsk\",\"Fortuna\",\"Port Douglas\",\"Ketchikan\",\"Ingeniero Jacobacci\",\"Ayr\",\"Cabo San Lucas\",\"Kulachi\",\"Bitam\",\"Kayangel\",\"Hami\",\"Tazacorte\",\"Al Ghayzah\",\"Crane\",\"Richards Bay\",\"Lingig\",\"Hamilton\",\"Burutu\",\"Gour\\u00e9\",\"Yichun\",\"Alofi\",\"Mersing\",\"Banswara\",\"Khovd\",\"Renk\",\"Daru\",\"San Matias\",\"Troitsko-Pechorsk\",\"Vilyuysk\",\"Murmashi\",\"Municipality of Sparta\",\"Shibetsu\",\"Tingi\",\"Gebeit\",\"\\u00c5lesund\",\"Kerim\\u00e4ki\",\"Laie\",\"Nizhnesortymskiy\",\"Mutuali\",\"Charters Towers\",\"Bukene\",\"Sinan\",\"Nioki\",\"Kristiansund\",\"Iguape\",\"Shalqar\",\"Manokwari\",\"Parabel\",\"Great Yarmouth\",\"Ancud\",\"Muli Tibetan Autonomous County\",\"Byford\",\"Egilssta\\u00f0ir\",\"Vila Velha\",\"Dhidhdhoo\",\"`Ataq\",\"Tv\\u00f8royri\",\"Abasolo\",\"Bayla\",\"Hashtrud\",\"Mi\\u00f0v\\u00e1gur\",\"Lerwick\",\"Me\\u00f1aka\",\"Agordat\",\"Vingt Cinq\",\"Changji\",\"Reggane\",\"Sarina\",\"Port Macquarie\",\"Nuuk\",\"Khandyga\",\"Anacortes\",\"Lompoc\",\"Kingscliff\",\"Inari\",\"Gadzhiyevo\",\"Port Isabel\",\"Yantzaza\",\"Bom Jesus\",\"Princeville\",\"Port Augusta\",\"Saint-Fran\\u00e7ois-de-l'\\u00cele-d'Orl\\u00e9ans\",\"Ciudad Bolivar\",\"Sharm El Sheikh\",\"Oranjemund\",\"Yreka\",\"Touros\",\"Remire-Montjoly\",\"Fort St. John\",\"Smithers\",\"Kecamatan Lembar\",\"Villa Alberto Andr\\u00e9s Alvarado Ar\\u00e1mburo (Vizca\\u00edno)\",\"Paty do Alferes\",\"Hilo CDP\",\"Nogliki\",\"Akureyri\",\"Kapuskasing\",\"Zaozersk\",\"Morehead City\",\"Miyanoura\",\"Dunedin\",\"Dudinka\",\"Miyazu\",\"Praia da Vit\\u00f3ria\",\"Awjilah\",\"Phibun Mangsahan\",\"Raghogarh\",\"Edson\",\"Antsiranana\",\"Arraial do Cabo\",\"Petoskey\",\"Grantham\",\"Revda\",\"Carolina Beach\",\"Zaragoza\",\"Toliara\",\"Ericeira\",\"Wenchang City\",\"Al Jawf\",\"Orkney Islands\",\"G\\u00e4vle\",\"Ad Dilam\",\"Purranque\",\"Fort McMurray\",\"Kantilo\",\"Castillos\",\"L\\u00fcderitz\",\"East London\",\"Mux\\u00eda\",\"Pen\\u00e1polis\",\"Magdagachi\",\"Nurabad\",\"Holualoa CDP\",\"Ballycastle\",\"Goundam\",\"Oulu\",\"Westport\",\"Rancho Palos Verdes\",\"Nueva Palmira\",\"Zyryanskoye\",\"Essaouira\",\"Callao\",\"\\u0417\\u0438\\u043c\\u043e\\u0432\\u043d\\u0438\\u043a\\u0438\",\"Masjed Soleyman\",\"Tamanghasset\",\"Xifeng\",\"Winchester\",\"Santo Ant\\u00f4nio do I\\u00e7\\u00e1\",\"La Gi\",\"Klyavlino\",\"Boguchany\",\"Opuwo\",\"Comodoro Rivadavia\",\"Ghat\",\"Khamis Mushayt\",\"Saint-Joseph\",\"Okondja\",\"S\\u00e3o Gabriel da Cachoeira\",\"Rome\",\"Cedeira\",\"Demba\",\"Nov\\u00fd Bor\",\"Saucillo\",\"Bangassou\",\"Veraval\",\"Harper\",\"Rabo de Peixe\",\"Shimoda\",\"New Norfolk\",\"Altay City\",\"Kasane\",\"Aracruz\",\"Basco\",\"Queenstown\",\"Kimbe\",\"Gurupi\",\"Lamu\",\"Tottori\",\"New Plymouth\",\"Trairi\",\"Cologne\",\"Yuanping City\",\"Tanki Leendert\",\"\\u0130vrindi\",\"Conde\",\"Safford\",\"Mangrol\",\"Camocim\",\"Banda Aceh\",\"Kurumkan\",\"Lazaro Cardenas (Santana)\",\"Jumla\",\"Guelmim\",\"Berdigestyakh\",\"Cassil\\u00e2ndia\",\"Tarinkot\",\"Rakops\",\"Blackwater\",\"Saldanha\",\"Cadale\",\"Aykhal\",\"Graja\\u00fa\",\"Tulun\",\"Sambava\",\"Weno\",\"Talcahuano\",\"Hadiboh\",\"Rabigh\",\"Krasnaya Gora\",\"Moreira Sales\",\"Paredon\",\"Burayevo\",\"Neft\\u00e7ala\",\"Kisanga\",\"Longavi\",\"Prado\",\"Biloela\",\"Isangel\",\"Nikolayevsk-on-Amur\",\"Municipio de Viedma\",\"Wewak\",\"Dabakala\",\"Ceel Dheer\",\"Forster\",\"Goalpara\",\"Taksimo\",\"Ujae\",\"Broome\",\"Naze\",\"Gornopravdinsk\",\"Sangola\",\"Palmer\",\"Labrador City\",\"Al Kharijah\",\"Minas de Matahambre\",\"Ko Pha Ngan\",\"Togur\",\"Ratnagiri\",\"Vidalia\",\"Uliastai\",\"Paoua\",\"Alaior\",\"Fisterra\",\"Sipalay\",\"Lagoa\",\"Souillac\",\"Sofifi\",\"Umm Kaddada\",\"Crescent City\",\"Metlili\",\"Biltine\",\"Romorantin-Lanthenay\",\"Shubarshi\",\"Boa Vista\",\"Sa Pa ward\",\"Village of Black River\",\"Houyu\",\"\\u02bbOhonua\",\"Kataragama\",\"Moussoro\",\"Karratha\",\"Bayannur\",\"Eagle Mountain\",\"Aquidauana\",\"Bhag\",\"Phan Rang\\u2013Th\\u00e1p Ch\\u00e0m\",\"Kuala Tungkal\",\"Maxixe\",\"Chegdomyn\",\"Bandar Abbas\",\"Pauini\",\"Dani\\u00eblskuil\",\"Sau\\u00f0\\u00e1rkr\\u00f3kur\",\"Nicoya\",\"Icheon-si\",\"Pemangkat\",\"Brookings\",\"Perry\",\"Turka\",\"Borogontsy\",\"Fakenham\",\"Guantanamo\",\"\\u041f\\u0430\\u043d\\u0433\\u043e\\u0434\\u044b\",\"Baie-Comeau\",\"Pokrov\",\"Karasuk\",\"San Jos\\u00e9\",\"Chernyshevskiy\",\"Ibri\",\"\\u00c7ekerek\",\"Praia\"],\"humidity\":[67,81,65,50,69,40,85,83,89,57,74,80,25,77,64,67,59,82,79,92,69,70,50,83,71,88,39,99,89,85,66,43,81,45,89,81,91,80,90,39,84,72,92,47,78,48,65,100,94,65,64,72,85,61,85,98,66,80,72,79,83,82,80,80,90,74,100,63,95,27,86,76,82,99,69,71,96,83,93,96,78,82,24,91,23,98,40,55,85,99,45,96,81,80,79,78,76,77,86,37,75,88,87,75,87,89,89,91,72,76,100,92,86,88,85,39,81,87,36,71,36,87,87,20,83,80,42,53,90,81,89,94,98,94,95,87,75,80,62,84,80,78,72,88,63,85,55,72,93,54,69,95,75,83,79,100,63,76,85,42,99,52,84,82,36,62,71,83,70,98,66,78,100,47,68,98,26,93,46,63,70,13,98,96,69,95,93,63,83,79,74,96,97,84,53,63,76,62,77,82,69,94,78,44,47,89,49,56,23,61,74,76,54,73,79,61,58,86,67,66,29,95,85,88,68,65,43,89,85,71,82,6,78,81,43,88,74,60,69,94,69,37,89,80,21,94,90,97,94,73,97,36,81,78,64,12,90,82,30,83,63,90,8,77,98,79,88,98,58,79,30,48,24,60,70,95,96,74,93,91,100,73,16,64,73,9,72,54,87,84,67,63,97,16,44,78,66,14,16,12,88,53,95,36,93,68,37,74,26,89,58,75,54,72,42,77,79,98,87,78,18,70,33,95,96,64,65,75,81,80,39,95,36,73,43,100,87,86,30,84,20,12,48,65,93,76,74,94,56,78,100,87,99,98,94,24,69,68,51,78,55,85,100,26,75,63,85,97,84,41,79,82,98,81,95,79,85,78,90,28,51,8,81,71,74,77,88,38,85,72,74,89,79,30,91,57,12,98,57,33,78,78,100,82,86,22,26,86,88,47,71,67,90,70,31,84,68,67,12,16,60,91,98,60,65,30,51,61,20,23,93,96,98,67,79,82,84,37,98,54,87,82,78,55,32,56,88,93,74,84,63,83,89,100,91,90,20,85,80,88,22,27,93,60,56,78,30,87,35,65,18,42,93,71,78,89,89,48,77,79,100,67,56,69,70,87,64,61,81,87,86,31,94,31,71,78,97,74,80,23,34,82,25,93,32,11,46,87,36,88,67,30,63,94,29,90,63,81,68,55,98,73,17,95,38,33,93,56,94,98,76,69,82,62,68,20,7,50,76,6,54,58,72,39,40,98,38,76,79,29,69,97,90,76,32,83,90,80,75,53,25,50,70,18,94,78],\"latitude\":{\"__ndarray__\":\"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\",\"dtype\":\"float64\",\"order\":\"little\",\"shape\":[566]},\"longitude\":{\"__ndarray__\":\"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\",\"dtype\":\"float64\",\"order\":\"little\",\"shape\":[566]},\"size\":{\"__ndarray__\":\"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\",\"dtype\":\"float64\",\"order\":\"little\",\"shape\":[566]}},\"selected\":{\"id\":\"1951\"},\"selection_policy\":{\"id\":\"1963\"}},\"id\":\"1950\",\"type\":\"ColumnDataSource\"},{\"attributes\":{\"active_drag\":{\"id\":\"1904\"},\"active_scroll\":{\"id\":\"1905\"},\"tools\":[{\"id\":\"1883\"},{\"id\":\"1903\"},{\"id\":\"1904\"},{\"id\":\"1905\"},{\"id\":\"1906\"},{\"id\":\"1907\"}]},\"id\":\"1909\",\"type\":\"Toolbar\"},{\"attributes\":{\"callback\":null,\"formatters\":{\"$x\":{\"id\":\"1968\"},\"$y\":{\"id\":\"1969\"}},\"renderers\":[{\"id\":\"1958\"}],\"tags\":[\"hv_created\"],\"tooltips\":[[\"longitude\",\"$x{custom}\"],[\"latitude\",\"$y{custom}\"],[\"city\",\"@{city}\"],[\"humidity\",\"@{humidity}\"]]},\"id\":\"1883\",\"type\":\"HoverTool\"},{\"attributes\":{\"fill_alpha\":{\"value\":0.1},\"fill_color\":{\"field\":\"color\",\"transform\":{\"id\":\"1949\"}},\"hatch_alpha\":{\"value\":0.1},\"hatch_color\":{\"field\":\"color\",\"transform\":{\"id\":\"1949\"}},\"line_alpha\":{\"value\":0.1},\"line_color\":{\"field\":\"color\",\"transform\":{\"id\":\"1949\"}},\"size\":{\"field\":\"size\"},\"x\":{\"field\":\"longitude\"},\"y\":{\"field\":\"latitude\"}},\"id\":\"1954\",\"type\":\"Scatter\"},{\"attributes\":{},\"id\":\"1924\",\"type\":\"AllLabels\"},{\"attributes\":{\"end\":19737343.079776715,\"min_interval\":5,\"reset_end\":19737343.079776715,\"reset_start\":-12572396.891711434,\"start\":-12572396.891711434,\"tags\":[[[\"latitude\",\"latitude\",null]]]},\"id\":\"1880\",\"type\":\"Range1d\"},{\"attributes\":{\"dimension\":\"lon\"},\"id\":\"1919\",\"type\":\"MercatorTickFormatter\"},{\"attributes\":{\"dimension\":\"lat\"},\"id\":\"1921\",\"type\":\"MercatorTickFormatter\"},{\"attributes\":{\"axis\":{\"id\":\"1895\"},\"coordinates\":null,\"grid_line_color\":null,\"group\":null,\"ticker\":null},\"id\":\"1898\",\"type\":\"Grid\"},{\"attributes\":{\"coordinates\":null,\"data_source\":{\"id\":\"1950\"},\"glyph\":{\"id\":\"1953\"},\"group\":null,\"hover_glyph\":{\"id\":\"1956\"},\"muted_glyph\":{\"id\":\"1957\"},\"nonselection_glyph\":{\"id\":\"1954\"},\"selection_glyph\":{\"id\":\"1955\"},\"view\":{\"id\":\"1959\"}},\"id\":\"1958\",\"type\":\"GlyphRenderer\"},{\"attributes\":{},\"id\":\"1891\",\"type\":\"LinearScale\"},{\"attributes\":{\"end\":22586989.965989504,\"min_interval\":5,\"reset_end\":22586989.965989504,\"reset_start\":-22646645.994093906,\"start\":-22646645.994093906,\"tags\":[[[\"longitude\",\"longitude\",null]]]},\"id\":\"1879\",\"type\":\"Range1d\"},{\"attributes\":{},\"id\":\"1951\",\"type\":\"Selection\"},{\"attributes\":{\"dimension\":\"lon\"},\"id\":\"1918\",\"type\":\"MercatorTicker\"},{\"attributes\":{\"attribution\":\"&copy; <a href=\\\"https://www.openstreetmap.org/copyright\\\">OpenStreetMap</a> contributors\",\"url\":\"https://c.tile.openstreetmap.org/{Z}/{X}/{Y}.png\"},\"id\":\"1944\",\"type\":\"WMTSTileSource\"},{\"attributes\":{\"dimension\":\"lat\"},\"id\":\"1920\",\"type\":\"MercatorTicker\"},{\"attributes\":{\"coordinates\":null,\"group\":null,\"level\":\"glyph\",\"tile_source\":{\"id\":\"1944\"}},\"id\":\"1947\",\"type\":\"TileRenderer\"},{\"attributes\":{},\"id\":\"1893\",\"type\":\"LinearScale\"},{\"attributes\":{\"axis_label\":\"x\",\"coordinates\":null,\"formatter\":{\"id\":\"1919\"},\"group\":null,\"major_label_policy\":{\"id\":\"1924\"},\"ticker\":{\"id\":\"1918\"}},\"id\":\"1895\",\"type\":\"LinearAxis\"},{\"attributes\":{\"fill_color\":{\"field\":\"color\",\"transform\":{\"id\":\"1949\"}},\"hatch_color\":{\"field\":\"color\",\"transform\":{\"id\":\"1949\"}},\"line_color\":{\"field\":\"color\",\"transform\":{\"id\":\"1949\"}},\"size\":{\"field\":\"size\"},\"x\":{\"field\":\"longitude\"},\"y\":{\"field\":\"latitude\"}},\"id\":\"1953\",\"type\":\"Scatter\"},{\"attributes\":{},\"id\":\"1931\",\"type\":\"AllLabels\"}],\"root_ids\":[\"1874\"]},\"title\":\"Bokeh Application\",\"version\":\"2.4.3\"}};\n",
       "    var render_items = [{\"docid\":\"1e060624-6a80-4f82-871b-21a211750de8\",\"root_ids\":[\"1874\"],\"roots\":{\"1874\":\"64926acc-437f-4a86-98ee-4151cd354906\"}}];\n",
       "    root.Bokeh.embed.embed_items_notebook(docs_json, render_items);\n",
       "    for (const render_item of render_items) {\n",
       "      for (const root_id of render_item.root_ids) {\n",
       "\tconst id_el = document.getElementById(root_id)\n",
       "\tif (id_el.children.length && (id_el.children[0].className === 'bk-root')) {\n",
       "\t  const root_el = id_el.children[0]\n",
       "\t  root_el.id = root_el.id + '-rendered'\n",
       "\t}\n",
       "      }\n",
       "    }\n",
       "  }\n",
       "  if (root.Bokeh !== undefined && root.Bokeh.Panel !== undefined) {\n",
       "    embed_document(root);\n",
       "  } else {\n",
       "    var attempts = 0;\n",
       "    var timer = setInterval(function(root) {\n",
       "      if (root.Bokeh !== undefined && root.Bokeh.Panel !== undefined) {\n",
       "        clearInterval(timer);\n",
       "        embed_document(root);\n",
       "      } else if (document.readyState == \"complete\") {\n",
       "        attempts++;\n",
       "        if (attempts > 200) {\n",
       "          clearInterval(timer);\n",
       "          console.log(\"Bokeh: ERROR: Unable to run BokehJS code because BokehJS library is missing\");\n",
       "        }\n",
       "      }\n",
       "    }, 25, root)\n",
       "  }\n",
       "})(window);</script>"
      ],
      "text/plain": [
       ":Overlay\n",
       "   .Tiles.I  :Tiles   [x,y]\n",
       "   .Points.I :Points   [longitude,latitude]   (city,humidity)"
      ]
     },
     "execution_count": 24,
     "metadata": {
      "application/vnd.holoviews_exec.v0+json": {
       "id": "1874"
      }
     },
     "output_type": "execute_result"
    }
   ],
   "source": [
    "%%capture --no-display\n",
    "\n",
    "# Configure the map plot\n",
    "map_plot_2 = df.hvplot.points(\n",
    "    \"longitude\",\n",
    "    \"latitude\",\n",
    "    geo = True,\n",
    "    tiles = \"OSM\",\n",
    "    frame_width = 700,\n",
    "    frame_height = 500,\n",
    "    size = \"humidity\",\n",
    "    color = \"city\")\n",
    "\n",
    "# Display the map plot\n",
    "map_plot_2"
   ]
  },
  {
   "cell_type": "markdown",
   "metadata": {},
   "source": [
    "### Step 2: Narrow down the `city_data_df` DataFrame to find your ideal weather condition"
   ]
  },
  {
   "cell_type": "code",
   "execution_count": 25,
   "metadata": {},
   "outputs": [
    {
     "ename": "KeyError",
     "evalue": "'Max Temp'",
     "output_type": "error",
     "traceback": [
      "\u001b[1;31m---------------------------------------------------------------------------\u001b[0m",
      "\u001b[1;31mKeyError\u001b[0m                                  Traceback (most recent call last)",
      "File \u001b[1;32m~\\anaconda3\\lib\\site-packages\\pandas\\core\\indexes\\base.py:3802\u001b[0m, in \u001b[0;36mIndex.get_loc\u001b[1;34m(self, key, method, tolerance)\u001b[0m\n\u001b[0;32m   3801\u001b[0m \u001b[38;5;28;01mtry\u001b[39;00m:\n\u001b[1;32m-> 3802\u001b[0m     \u001b[38;5;28;01mreturn\u001b[39;00m \u001b[38;5;28;43mself\u001b[39;49m\u001b[38;5;241;43m.\u001b[39;49m\u001b[43m_engine\u001b[49m\u001b[38;5;241;43m.\u001b[39;49m\u001b[43mget_loc\u001b[49m\u001b[43m(\u001b[49m\u001b[43mcasted_key\u001b[49m\u001b[43m)\u001b[49m\n\u001b[0;32m   3803\u001b[0m \u001b[38;5;28;01mexcept\u001b[39;00m \u001b[38;5;167;01mKeyError\u001b[39;00m \u001b[38;5;28;01mas\u001b[39;00m err:\n",
      "File \u001b[1;32m~\\anaconda3\\lib\\site-packages\\pandas\\_libs\\index.pyx:138\u001b[0m, in \u001b[0;36mpandas._libs.index.IndexEngine.get_loc\u001b[1;34m()\u001b[0m\n",
      "File \u001b[1;32m~\\anaconda3\\lib\\site-packages\\pandas\\_libs\\index.pyx:165\u001b[0m, in \u001b[0;36mpandas._libs.index.IndexEngine.get_loc\u001b[1;34m()\u001b[0m\n",
      "File \u001b[1;32mpandas\\_libs\\hashtable_class_helper.pxi:5745\u001b[0m, in \u001b[0;36mpandas._libs.hashtable.PyObjectHashTable.get_item\u001b[1;34m()\u001b[0m\n",
      "File \u001b[1;32mpandas\\_libs\\hashtable_class_helper.pxi:5753\u001b[0m, in \u001b[0;36mpandas._libs.hashtable.PyObjectHashTable.get_item\u001b[1;34m()\u001b[0m\n",
      "\u001b[1;31mKeyError\u001b[0m: 'Max Temp'",
      "\nThe above exception was the direct cause of the following exception:\n",
      "\u001b[1;31mKeyError\u001b[0m                                  Traceback (most recent call last)",
      "Cell \u001b[1;32mIn[25], line 3\u001b[0m\n\u001b[0;32m      1\u001b[0m \u001b[38;5;66;03m# Narrow down cities that fit criteria and drop any results with null values\u001b[39;00m\n\u001b[0;32m      2\u001b[0m narrowed_city_df \u001b[38;5;241m=\u001b[39m df\u001b[38;5;241m.\u001b[39mloc[\n\u001b[1;32m----> 3\u001b[0m    (\u001b[43mdf\u001b[49m\u001b[43m[\u001b[49m\u001b[38;5;124;43m\"\u001b[39;49m\u001b[38;5;124;43mMax Temp\u001b[39;49m\u001b[38;5;124;43m\"\u001b[39;49m\u001b[43m]\u001b[49m \u001b[38;5;241m<\u001b[39m \u001b[38;5;241m27\u001b[39m) \u001b[38;5;241m&\u001b[39m (city_data_df[\u001b[38;5;124m\"\u001b[39m\u001b[38;5;124mMax Temp\u001b[39m\u001b[38;5;124m\"\u001b[39m] \u001b[38;5;241m>\u001b[39m \u001b[38;5;241m21\u001b[39m) \\\n\u001b[0;32m      4\u001b[0m    \u001b[38;5;241m&\u001b[39m (df[\u001b[38;5;124m\"\u001b[39m\u001b[38;5;124mWind Speed\u001b[39m\u001b[38;5;124m\"\u001b[39m] \u001b[38;5;241m<\u001b[39m \u001b[38;5;241m4.5\u001b[39m) \\\n\u001b[0;32m      5\u001b[0m    \u001b[38;5;241m&\u001b[39m (df[\u001b[38;5;124m\"\u001b[39m\u001b[38;5;124mCloudiness\u001b[39m\u001b[38;5;124m\"\u001b[39m] \u001b[38;5;241m==\u001b[39m \u001b[38;5;241m0\u001b[39m)\n\u001b[0;32m      6\u001b[0m ]\n\u001b[0;32m      8\u001b[0m \u001b[38;5;66;03m# Drop any rows with null values\u001b[39;00m\n\u001b[0;32m      9\u001b[0m narrowed_city_df \u001b[38;5;241m=\u001b[39m narrowed_city_df\u001b[38;5;241m.\u001b[39mdropna()\n",
      "File \u001b[1;32m~\\anaconda3\\lib\\site-packages\\pandas\\core\\frame.py:3807\u001b[0m, in \u001b[0;36mDataFrame.__getitem__\u001b[1;34m(self, key)\u001b[0m\n\u001b[0;32m   3805\u001b[0m \u001b[38;5;28;01mif\u001b[39;00m \u001b[38;5;28mself\u001b[39m\u001b[38;5;241m.\u001b[39mcolumns\u001b[38;5;241m.\u001b[39mnlevels \u001b[38;5;241m>\u001b[39m \u001b[38;5;241m1\u001b[39m:\n\u001b[0;32m   3806\u001b[0m     \u001b[38;5;28;01mreturn\u001b[39;00m \u001b[38;5;28mself\u001b[39m\u001b[38;5;241m.\u001b[39m_getitem_multilevel(key)\n\u001b[1;32m-> 3807\u001b[0m indexer \u001b[38;5;241m=\u001b[39m \u001b[38;5;28;43mself\u001b[39;49m\u001b[38;5;241;43m.\u001b[39;49m\u001b[43mcolumns\u001b[49m\u001b[38;5;241;43m.\u001b[39;49m\u001b[43mget_loc\u001b[49m\u001b[43m(\u001b[49m\u001b[43mkey\u001b[49m\u001b[43m)\u001b[49m\n\u001b[0;32m   3808\u001b[0m \u001b[38;5;28;01mif\u001b[39;00m is_integer(indexer):\n\u001b[0;32m   3809\u001b[0m     indexer \u001b[38;5;241m=\u001b[39m [indexer]\n",
      "File \u001b[1;32m~\\anaconda3\\lib\\site-packages\\pandas\\core\\indexes\\base.py:3804\u001b[0m, in \u001b[0;36mIndex.get_loc\u001b[1;34m(self, key, method, tolerance)\u001b[0m\n\u001b[0;32m   3802\u001b[0m     \u001b[38;5;28;01mreturn\u001b[39;00m \u001b[38;5;28mself\u001b[39m\u001b[38;5;241m.\u001b[39m_engine\u001b[38;5;241m.\u001b[39mget_loc(casted_key)\n\u001b[0;32m   3803\u001b[0m \u001b[38;5;28;01mexcept\u001b[39;00m \u001b[38;5;167;01mKeyError\u001b[39;00m \u001b[38;5;28;01mas\u001b[39;00m err:\n\u001b[1;32m-> 3804\u001b[0m     \u001b[38;5;28;01mraise\u001b[39;00m \u001b[38;5;167;01mKeyError\u001b[39;00m(key) \u001b[38;5;28;01mfrom\u001b[39;00m \u001b[38;5;21;01merr\u001b[39;00m\n\u001b[0;32m   3805\u001b[0m \u001b[38;5;28;01mexcept\u001b[39;00m \u001b[38;5;167;01mTypeError\u001b[39;00m:\n\u001b[0;32m   3806\u001b[0m     \u001b[38;5;66;03m# If we have a listlike key, _check_indexing_error will raise\u001b[39;00m\n\u001b[0;32m   3807\u001b[0m     \u001b[38;5;66;03m#  InvalidIndexError. Otherwise we fall through and re-raise\u001b[39;00m\n\u001b[0;32m   3808\u001b[0m     \u001b[38;5;66;03m#  the TypeError.\u001b[39;00m\n\u001b[0;32m   3809\u001b[0m     \u001b[38;5;28mself\u001b[39m\u001b[38;5;241m.\u001b[39m_check_indexing_error(key)\n",
      "\u001b[1;31mKeyError\u001b[0m: 'Max Temp'"
     ]
    }
   ],
   "source": [
    " # Narrow down cities that fit criteria and drop any results with null values\n",
    "narrowed_city_df = df.loc[\n",
    "    (df[\"Max Temp\"] < 27) & (city_data_df[\"Max Temp\"] > 21) \\\n",
    "    & (df[\"Wind Speed\"] < 4.5) \\\n",
    "    & (df[\"Cloudiness\"] == 0)\n",
    "]\n",
    "\n",
    "# Drop any rows with null values\n",
    "narrowed_city_df = narrowed_city_df.dropna()\n",
    "\n",
    "# Display sample data\n",
    "narrowed_city_df"
   ]
  },
  {
   "cell_type": "markdown",
   "metadata": {},
   "source": [
    "### Step 3: Create a new DataFrame called `hotel_df`."
   ]
  },
  {
   "cell_type": "code",
   "execution_count": null,
   "metadata": {},
   "outputs": [],
   "source": [
    "# Use the Pandas copy function to create DataFrame called hotel_df to store the city, country, coordinates, and humidity\n",
    "# YOUR CODE HERE\n",
    "\n",
    "# Add an empty column, \"Hotel Name,\" to the DataFrame so you can store the hotel found using the Geoapify API\n",
    "# YOUR CODE HERE\n",
    "\n",
    "# Display sample data\n",
    "# YOUR CODE HERE"
   ]
  },
  {
   "cell_type": "markdown",
   "metadata": {},
   "source": [
    "### Step 4: For each city, use the Geoapify API to find the first hotel located within 10,000 metres of your coordinates."
   ]
  },
  {
   "cell_type": "code",
   "execution_count": null,
   "metadata": {},
   "outputs": [],
   "source": [
    "# Set parameters to search for a hotel\n",
    "radius = # YOUR CODE HERE\n",
    "params = {\n",
    "    # YOUR CODE HERE\n",
    "}\n",
    "\n",
    "# Print a message to follow up the hotel search\n",
    "print(\"Starting hotel search\")\n",
    "\n",
    "# Iterate through the hotel_df DataFrame\n",
    "for index, row in hotel_df.iterrows():\n",
    "    # get latitude, longitude from the DataFrame\n",
    "    # YOUR CODE HERE\n",
    "    \n",
    "    # Add filter and bias parameters with the current city's latitude and longitude to the params dictionary\n",
    "    params[\"filter\"] = # YOUR CODE HERE\n",
    "    params[\"bias\"] = # YOUR CODE HERE\n",
    "    \n",
    "    # Set base URL\n",
    "    base_url = \"https://api.geoapify.com/v2/places\"\n",
    "\n",
    "\n",
    "    # Make and API request using the params dictionaty\n",
    "    name_address = # YOUR CODE HERE\n",
    "    \n",
    "    # Convert the API response to JSON format\n",
    "    name_address = # YOUR CODE HERE\n",
    "    \n",
    "    # Grab the first hotel from the results and store the name in the hotel_df DataFrame\n",
    "    try:\n",
    "        hotel_df.loc[index, \"Hotel Name\"] = name_address[\"features\"][0][\"properties\"][\"name\"]\n",
    "    except (KeyError, IndexError):\n",
    "        # If no hotel is found, set the hotel name as \"No hotel found\".\n",
    "        hotel_df.loc[index, \"Hotel Name\"] = \"No hotel found\"\n",
    "        \n",
    "    # Log the search results\n",
    "    print(f\"{hotel_df.loc[index, 'City']} - nearest hotel: {hotel_df.loc[index, 'Hotel Name']}\")\n",
    "\n",
    "# Display sample data\n",
    "hotel_df"
   ]
  },
  {
   "cell_type": "markdown",
   "metadata": {},
   "source": [
    "### Step 5: Add the hotel name and the country as additional information in the hover message for each city in the map."
   ]
  },
  {
   "cell_type": "code",
   "execution_count": null,
   "metadata": {},
   "outputs": [],
   "source": [
    "%%capture --no-display\n",
    "\n",
    "# Configure the map plot\n",
    "# YOUR CODE HERE\n",
    "\n",
    "# Display the map\n",
    "# YOUR CODE HERE"
   ]
  },
  {
   "cell_type": "code",
   "execution_count": null,
   "metadata": {},
   "outputs": [],
   "source": []
  }
 ],
 "metadata": {
  "kernelspec": {
   "display_name": "Python 3 (ipykernel)",
   "language": "python",
   "name": "python3"
  },
  "language_info": {
   "codemirror_mode": {
    "name": "ipython",
    "version": 3
   },
   "file_extension": ".py",
   "mimetype": "text/x-python",
   "name": "python",
   "nbconvert_exporter": "python",
   "pygments_lexer": "ipython3",
   "version": "3.10.9"
  },
  "latex_envs": {
   "LaTeX_envs_menu_present": true,
   "autoclose": false,
   "autocomplete": true,
   "bibliofile": "biblio.bib",
   "cite_by": "apalike",
   "current_citInitial": 1,
   "eqLabelWithNumbers": true,
   "eqNumInitial": 1,
   "hotkeys": {
    "equation": "Ctrl-E",
    "itemize": "Ctrl-I"
   },
   "labels_anchors": false,
   "latex_user_defs": false,
   "report_style_numbering": false,
   "user_envs_cfg": false
  }
 },
 "nbformat": 4,
 "nbformat_minor": 4
}
