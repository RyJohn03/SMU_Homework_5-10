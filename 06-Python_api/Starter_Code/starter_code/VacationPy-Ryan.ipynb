{
 "cells": [
  {
   "cell_type": "markdown",
   "metadata": {},
   "source": [
    "# VacationPy\n",
    "---\n",
    "\n",
    "## Starter Code to Import Libraries and Load the Weather and Coordinates Data"
   ]
  },
  {
   "cell_type": "code",
   "execution_count": 31,
   "metadata": {},
   "outputs": [],
   "source": [
    "# Dependencies and Setup\n",
    "import hvplot.pandas\n",
    "import pandas as pd\n",
    "import requests\n",
    "\n",
    "# Import API key\n",
    "from api_keys import geoapify_key"
   ]
  },
  {
   "cell_type": "code",
   "execution_count": 30,
   "metadata": {},
   "outputs": [
    {
     "ename": "FileNotFoundError",
     "evalue": "[Errno 2] No such file or directory: 'cities.csv'",
     "output_type": "error",
     "traceback": [
      "\u001b[1;31m---------------------------------------------------------------------------\u001b[0m",
      "\u001b[1;31mFileNotFoundError\u001b[0m                         Traceback (most recent call last)",
      "Cell \u001b[1;32mIn[30], line 2\u001b[0m\n\u001b[0;32m      1\u001b[0m \u001b[38;5;66;03m# Load the CSV file created in Part 1 into a Pandas DataFrame\u001b[39;00m\n\u001b[1;32m----> 2\u001b[0m city_data_df \u001b[38;5;241m=\u001b[39m \u001b[43mpd\u001b[49m\u001b[38;5;241;43m.\u001b[39;49m\u001b[43mread_csv\u001b[49m\u001b[43m(\u001b[49m\u001b[38;5;124;43m\"\u001b[39;49m\u001b[38;5;124;43mcities.csv\u001b[39;49m\u001b[38;5;124;43m\"\u001b[39;49m\u001b[43m)\u001b[49m\n\u001b[0;32m      4\u001b[0m \u001b[38;5;66;03m# Display sample data\u001b[39;00m\n\u001b[0;32m      5\u001b[0m city_data_df\u001b[38;5;241m.\u001b[39mhead()\n",
      "File \u001b[1;32m~\\anaconda3\\lib\\site-packages\\pandas\\util\\_decorators.py:211\u001b[0m, in \u001b[0;36mdeprecate_kwarg.<locals>._deprecate_kwarg.<locals>.wrapper\u001b[1;34m(*args, **kwargs)\u001b[0m\n\u001b[0;32m    209\u001b[0m     \u001b[38;5;28;01melse\u001b[39;00m:\n\u001b[0;32m    210\u001b[0m         kwargs[new_arg_name] \u001b[38;5;241m=\u001b[39m new_arg_value\n\u001b[1;32m--> 211\u001b[0m \u001b[38;5;28;01mreturn\u001b[39;00m func(\u001b[38;5;241m*\u001b[39margs, \u001b[38;5;241m*\u001b[39m\u001b[38;5;241m*\u001b[39mkwargs)\n",
      "File \u001b[1;32m~\\anaconda3\\lib\\site-packages\\pandas\\util\\_decorators.py:331\u001b[0m, in \u001b[0;36mdeprecate_nonkeyword_arguments.<locals>.decorate.<locals>.wrapper\u001b[1;34m(*args, **kwargs)\u001b[0m\n\u001b[0;32m    325\u001b[0m \u001b[38;5;28;01mif\u001b[39;00m \u001b[38;5;28mlen\u001b[39m(args) \u001b[38;5;241m>\u001b[39m num_allow_args:\n\u001b[0;32m    326\u001b[0m     warnings\u001b[38;5;241m.\u001b[39mwarn(\n\u001b[0;32m    327\u001b[0m         msg\u001b[38;5;241m.\u001b[39mformat(arguments\u001b[38;5;241m=\u001b[39m_format_argument_list(allow_args)),\n\u001b[0;32m    328\u001b[0m         \u001b[38;5;167;01mFutureWarning\u001b[39;00m,\n\u001b[0;32m    329\u001b[0m         stacklevel\u001b[38;5;241m=\u001b[39mfind_stack_level(),\n\u001b[0;32m    330\u001b[0m     )\n\u001b[1;32m--> 331\u001b[0m \u001b[38;5;28;01mreturn\u001b[39;00m func(\u001b[38;5;241m*\u001b[39margs, \u001b[38;5;241m*\u001b[39m\u001b[38;5;241m*\u001b[39mkwargs)\n",
      "File \u001b[1;32m~\\anaconda3\\lib\\site-packages\\pandas\\io\\parsers\\readers.py:950\u001b[0m, in \u001b[0;36mread_csv\u001b[1;34m(filepath_or_buffer, sep, delimiter, header, names, index_col, usecols, squeeze, prefix, mangle_dupe_cols, dtype, engine, converters, true_values, false_values, skipinitialspace, skiprows, skipfooter, nrows, na_values, keep_default_na, na_filter, verbose, skip_blank_lines, parse_dates, infer_datetime_format, keep_date_col, date_parser, dayfirst, cache_dates, iterator, chunksize, compression, thousands, decimal, lineterminator, quotechar, quoting, doublequote, escapechar, comment, encoding, encoding_errors, dialect, error_bad_lines, warn_bad_lines, on_bad_lines, delim_whitespace, low_memory, memory_map, float_precision, storage_options)\u001b[0m\n\u001b[0;32m    935\u001b[0m kwds_defaults \u001b[38;5;241m=\u001b[39m _refine_defaults_read(\n\u001b[0;32m    936\u001b[0m     dialect,\n\u001b[0;32m    937\u001b[0m     delimiter,\n\u001b[1;32m   (...)\u001b[0m\n\u001b[0;32m    946\u001b[0m     defaults\u001b[38;5;241m=\u001b[39m{\u001b[38;5;124m\"\u001b[39m\u001b[38;5;124mdelimiter\u001b[39m\u001b[38;5;124m\"\u001b[39m: \u001b[38;5;124m\"\u001b[39m\u001b[38;5;124m,\u001b[39m\u001b[38;5;124m\"\u001b[39m},\n\u001b[0;32m    947\u001b[0m )\n\u001b[0;32m    948\u001b[0m kwds\u001b[38;5;241m.\u001b[39mupdate(kwds_defaults)\n\u001b[1;32m--> 950\u001b[0m \u001b[38;5;28;01mreturn\u001b[39;00m \u001b[43m_read\u001b[49m\u001b[43m(\u001b[49m\u001b[43mfilepath_or_buffer\u001b[49m\u001b[43m,\u001b[49m\u001b[43m \u001b[49m\u001b[43mkwds\u001b[49m\u001b[43m)\u001b[49m\n",
      "File \u001b[1;32m~\\anaconda3\\lib\\site-packages\\pandas\\io\\parsers\\readers.py:605\u001b[0m, in \u001b[0;36m_read\u001b[1;34m(filepath_or_buffer, kwds)\u001b[0m\n\u001b[0;32m    602\u001b[0m _validate_names(kwds\u001b[38;5;241m.\u001b[39mget(\u001b[38;5;124m\"\u001b[39m\u001b[38;5;124mnames\u001b[39m\u001b[38;5;124m\"\u001b[39m, \u001b[38;5;28;01mNone\u001b[39;00m))\n\u001b[0;32m    604\u001b[0m \u001b[38;5;66;03m# Create the parser.\u001b[39;00m\n\u001b[1;32m--> 605\u001b[0m parser \u001b[38;5;241m=\u001b[39m TextFileReader(filepath_or_buffer, \u001b[38;5;241m*\u001b[39m\u001b[38;5;241m*\u001b[39mkwds)\n\u001b[0;32m    607\u001b[0m \u001b[38;5;28;01mif\u001b[39;00m chunksize \u001b[38;5;129;01mor\u001b[39;00m iterator:\n\u001b[0;32m    608\u001b[0m     \u001b[38;5;28;01mreturn\u001b[39;00m parser\n",
      "File \u001b[1;32m~\\anaconda3\\lib\\site-packages\\pandas\\io\\parsers\\readers.py:1442\u001b[0m, in \u001b[0;36mTextFileReader.__init__\u001b[1;34m(self, f, engine, **kwds)\u001b[0m\n\u001b[0;32m   1439\u001b[0m     \u001b[38;5;28mself\u001b[39m\u001b[38;5;241m.\u001b[39moptions[\u001b[38;5;124m\"\u001b[39m\u001b[38;5;124mhas_index_names\u001b[39m\u001b[38;5;124m\"\u001b[39m] \u001b[38;5;241m=\u001b[39m kwds[\u001b[38;5;124m\"\u001b[39m\u001b[38;5;124mhas_index_names\u001b[39m\u001b[38;5;124m\"\u001b[39m]\n\u001b[0;32m   1441\u001b[0m \u001b[38;5;28mself\u001b[39m\u001b[38;5;241m.\u001b[39mhandles: IOHandles \u001b[38;5;241m|\u001b[39m \u001b[38;5;28;01mNone\u001b[39;00m \u001b[38;5;241m=\u001b[39m \u001b[38;5;28;01mNone\u001b[39;00m\n\u001b[1;32m-> 1442\u001b[0m \u001b[38;5;28mself\u001b[39m\u001b[38;5;241m.\u001b[39m_engine \u001b[38;5;241m=\u001b[39m \u001b[38;5;28;43mself\u001b[39;49m\u001b[38;5;241;43m.\u001b[39;49m\u001b[43m_make_engine\u001b[49m\u001b[43m(\u001b[49m\u001b[43mf\u001b[49m\u001b[43m,\u001b[49m\u001b[43m \u001b[49m\u001b[38;5;28;43mself\u001b[39;49m\u001b[38;5;241;43m.\u001b[39;49m\u001b[43mengine\u001b[49m\u001b[43m)\u001b[49m\n",
      "File \u001b[1;32m~\\anaconda3\\lib\\site-packages\\pandas\\io\\parsers\\readers.py:1735\u001b[0m, in \u001b[0;36mTextFileReader._make_engine\u001b[1;34m(self, f, engine)\u001b[0m\n\u001b[0;32m   1733\u001b[0m     \u001b[38;5;28;01mif\u001b[39;00m \u001b[38;5;124m\"\u001b[39m\u001b[38;5;124mb\u001b[39m\u001b[38;5;124m\"\u001b[39m \u001b[38;5;129;01mnot\u001b[39;00m \u001b[38;5;129;01min\u001b[39;00m mode:\n\u001b[0;32m   1734\u001b[0m         mode \u001b[38;5;241m+\u001b[39m\u001b[38;5;241m=\u001b[39m \u001b[38;5;124m\"\u001b[39m\u001b[38;5;124mb\u001b[39m\u001b[38;5;124m\"\u001b[39m\n\u001b[1;32m-> 1735\u001b[0m \u001b[38;5;28mself\u001b[39m\u001b[38;5;241m.\u001b[39mhandles \u001b[38;5;241m=\u001b[39m \u001b[43mget_handle\u001b[49m\u001b[43m(\u001b[49m\n\u001b[0;32m   1736\u001b[0m \u001b[43m    \u001b[49m\u001b[43mf\u001b[49m\u001b[43m,\u001b[49m\n\u001b[0;32m   1737\u001b[0m \u001b[43m    \u001b[49m\u001b[43mmode\u001b[49m\u001b[43m,\u001b[49m\n\u001b[0;32m   1738\u001b[0m \u001b[43m    \u001b[49m\u001b[43mencoding\u001b[49m\u001b[38;5;241;43m=\u001b[39;49m\u001b[38;5;28;43mself\u001b[39;49m\u001b[38;5;241;43m.\u001b[39;49m\u001b[43moptions\u001b[49m\u001b[38;5;241;43m.\u001b[39;49m\u001b[43mget\u001b[49m\u001b[43m(\u001b[49m\u001b[38;5;124;43m\"\u001b[39;49m\u001b[38;5;124;43mencoding\u001b[39;49m\u001b[38;5;124;43m\"\u001b[39;49m\u001b[43m,\u001b[49m\u001b[43m \u001b[49m\u001b[38;5;28;43;01mNone\u001b[39;49;00m\u001b[43m)\u001b[49m\u001b[43m,\u001b[49m\n\u001b[0;32m   1739\u001b[0m \u001b[43m    \u001b[49m\u001b[43mcompression\u001b[49m\u001b[38;5;241;43m=\u001b[39;49m\u001b[38;5;28;43mself\u001b[39;49m\u001b[38;5;241;43m.\u001b[39;49m\u001b[43moptions\u001b[49m\u001b[38;5;241;43m.\u001b[39;49m\u001b[43mget\u001b[49m\u001b[43m(\u001b[49m\u001b[38;5;124;43m\"\u001b[39;49m\u001b[38;5;124;43mcompression\u001b[39;49m\u001b[38;5;124;43m\"\u001b[39;49m\u001b[43m,\u001b[49m\u001b[43m \u001b[49m\u001b[38;5;28;43;01mNone\u001b[39;49;00m\u001b[43m)\u001b[49m\u001b[43m,\u001b[49m\n\u001b[0;32m   1740\u001b[0m \u001b[43m    \u001b[49m\u001b[43mmemory_map\u001b[49m\u001b[38;5;241;43m=\u001b[39;49m\u001b[38;5;28;43mself\u001b[39;49m\u001b[38;5;241;43m.\u001b[39;49m\u001b[43moptions\u001b[49m\u001b[38;5;241;43m.\u001b[39;49m\u001b[43mget\u001b[49m\u001b[43m(\u001b[49m\u001b[38;5;124;43m\"\u001b[39;49m\u001b[38;5;124;43mmemory_map\u001b[39;49m\u001b[38;5;124;43m\"\u001b[39;49m\u001b[43m,\u001b[49m\u001b[43m \u001b[49m\u001b[38;5;28;43;01mFalse\u001b[39;49;00m\u001b[43m)\u001b[49m\u001b[43m,\u001b[49m\n\u001b[0;32m   1741\u001b[0m \u001b[43m    \u001b[49m\u001b[43mis_text\u001b[49m\u001b[38;5;241;43m=\u001b[39;49m\u001b[43mis_text\u001b[49m\u001b[43m,\u001b[49m\n\u001b[0;32m   1742\u001b[0m \u001b[43m    \u001b[49m\u001b[43merrors\u001b[49m\u001b[38;5;241;43m=\u001b[39;49m\u001b[38;5;28;43mself\u001b[39;49m\u001b[38;5;241;43m.\u001b[39;49m\u001b[43moptions\u001b[49m\u001b[38;5;241;43m.\u001b[39;49m\u001b[43mget\u001b[49m\u001b[43m(\u001b[49m\u001b[38;5;124;43m\"\u001b[39;49m\u001b[38;5;124;43mencoding_errors\u001b[39;49m\u001b[38;5;124;43m\"\u001b[39;49m\u001b[43m,\u001b[49m\u001b[43m \u001b[49m\u001b[38;5;124;43m\"\u001b[39;49m\u001b[38;5;124;43mstrict\u001b[39;49m\u001b[38;5;124;43m\"\u001b[39;49m\u001b[43m)\u001b[49m\u001b[43m,\u001b[49m\n\u001b[0;32m   1743\u001b[0m \u001b[43m    \u001b[49m\u001b[43mstorage_options\u001b[49m\u001b[38;5;241;43m=\u001b[39;49m\u001b[38;5;28;43mself\u001b[39;49m\u001b[38;5;241;43m.\u001b[39;49m\u001b[43moptions\u001b[49m\u001b[38;5;241;43m.\u001b[39;49m\u001b[43mget\u001b[49m\u001b[43m(\u001b[49m\u001b[38;5;124;43m\"\u001b[39;49m\u001b[38;5;124;43mstorage_options\u001b[39;49m\u001b[38;5;124;43m\"\u001b[39;49m\u001b[43m,\u001b[49m\u001b[43m \u001b[49m\u001b[38;5;28;43;01mNone\u001b[39;49;00m\u001b[43m)\u001b[49m\u001b[43m,\u001b[49m\n\u001b[0;32m   1744\u001b[0m \u001b[43m\u001b[49m\u001b[43m)\u001b[49m\n\u001b[0;32m   1745\u001b[0m \u001b[38;5;28;01massert\u001b[39;00m \u001b[38;5;28mself\u001b[39m\u001b[38;5;241m.\u001b[39mhandles \u001b[38;5;129;01mis\u001b[39;00m \u001b[38;5;129;01mnot\u001b[39;00m \u001b[38;5;28;01mNone\u001b[39;00m\n\u001b[0;32m   1746\u001b[0m f \u001b[38;5;241m=\u001b[39m \u001b[38;5;28mself\u001b[39m\u001b[38;5;241m.\u001b[39mhandles\u001b[38;5;241m.\u001b[39mhandle\n",
      "File \u001b[1;32m~\\anaconda3\\lib\\site-packages\\pandas\\io\\common.py:856\u001b[0m, in \u001b[0;36mget_handle\u001b[1;34m(path_or_buf, mode, encoding, compression, memory_map, is_text, errors, storage_options)\u001b[0m\n\u001b[0;32m    851\u001b[0m \u001b[38;5;28;01melif\u001b[39;00m \u001b[38;5;28misinstance\u001b[39m(handle, \u001b[38;5;28mstr\u001b[39m):\n\u001b[0;32m    852\u001b[0m     \u001b[38;5;66;03m# Check whether the filename is to be opened in binary mode.\u001b[39;00m\n\u001b[0;32m    853\u001b[0m     \u001b[38;5;66;03m# Binary mode does not support 'encoding' and 'newline'.\u001b[39;00m\n\u001b[0;32m    854\u001b[0m     \u001b[38;5;28;01mif\u001b[39;00m ioargs\u001b[38;5;241m.\u001b[39mencoding \u001b[38;5;129;01mand\u001b[39;00m \u001b[38;5;124m\"\u001b[39m\u001b[38;5;124mb\u001b[39m\u001b[38;5;124m\"\u001b[39m \u001b[38;5;129;01mnot\u001b[39;00m \u001b[38;5;129;01min\u001b[39;00m ioargs\u001b[38;5;241m.\u001b[39mmode:\n\u001b[0;32m    855\u001b[0m         \u001b[38;5;66;03m# Encoding\u001b[39;00m\n\u001b[1;32m--> 856\u001b[0m         handle \u001b[38;5;241m=\u001b[39m \u001b[38;5;28;43mopen\u001b[39;49m\u001b[43m(\u001b[49m\n\u001b[0;32m    857\u001b[0m \u001b[43m            \u001b[49m\u001b[43mhandle\u001b[49m\u001b[43m,\u001b[49m\n\u001b[0;32m    858\u001b[0m \u001b[43m            \u001b[49m\u001b[43mioargs\u001b[49m\u001b[38;5;241;43m.\u001b[39;49m\u001b[43mmode\u001b[49m\u001b[43m,\u001b[49m\n\u001b[0;32m    859\u001b[0m \u001b[43m            \u001b[49m\u001b[43mencoding\u001b[49m\u001b[38;5;241;43m=\u001b[39;49m\u001b[43mioargs\u001b[49m\u001b[38;5;241;43m.\u001b[39;49m\u001b[43mencoding\u001b[49m\u001b[43m,\u001b[49m\n\u001b[0;32m    860\u001b[0m \u001b[43m            \u001b[49m\u001b[43merrors\u001b[49m\u001b[38;5;241;43m=\u001b[39;49m\u001b[43merrors\u001b[49m\u001b[43m,\u001b[49m\n\u001b[0;32m    861\u001b[0m \u001b[43m            \u001b[49m\u001b[43mnewline\u001b[49m\u001b[38;5;241;43m=\u001b[39;49m\u001b[38;5;124;43m\"\u001b[39;49m\u001b[38;5;124;43m\"\u001b[39;49m\u001b[43m,\u001b[49m\n\u001b[0;32m    862\u001b[0m \u001b[43m        \u001b[49m\u001b[43m)\u001b[49m\n\u001b[0;32m    863\u001b[0m     \u001b[38;5;28;01melse\u001b[39;00m:\n\u001b[0;32m    864\u001b[0m         \u001b[38;5;66;03m# Binary mode\u001b[39;00m\n\u001b[0;32m    865\u001b[0m         handle \u001b[38;5;241m=\u001b[39m \u001b[38;5;28mopen\u001b[39m(handle, ioargs\u001b[38;5;241m.\u001b[39mmode)\n",
      "\u001b[1;31mFileNotFoundError\u001b[0m: [Errno 2] No such file or directory: 'cities.csv'"
     ]
    }
   ],
   "source": [
    "# Load the CSV file created in Part 1 into a Pandas DataFrame\n",
    "city_data_df = pd.read_csv(\"cities.csv\")\n",
    "\n",
    "# Display sample data\n",
    "city_data_df.head()"
   ]
  },
  {
   "cell_type": "markdown",
   "metadata": {},
   "source": [
    "---\n",
    "\n",
    "### Step 1: Create a map that displays a point for every city in the `city_data_df` DataFrame. The size of the point should be the humidity in each city."
   ]
  },
  {
   "cell_type": "code",
   "execution_count": 27,
   "metadata": {},
   "outputs": [
    {
     "data": {},
     "metadata": {},
     "output_type": "display_data"
    },
    {
     "data": {
      "application/vnd.holoviews_exec.v0+json": "",
      "text/html": [
       "<div id='1278'>\n",
       "  <div class=\"bk-root\" id=\"ce8aaa31-4c1c-4800-8df6-27ada5572efb\" data-root-id=\"1278\"></div>\n",
       "</div>\n",
       "<script type=\"application/javascript\">(function(root) {\n",
       "  function embed_document(root) {\n",
       "    var docs_json = {\"91a1d233-d24f-4c4c-8222-9f1a517fb303\":{\"defs\":[{\"extends\":null,\"module\":null,\"name\":\"ReactiveHTML1\",\"overrides\":[],\"properties\":[]},{\"extends\":null,\"module\":null,\"name\":\"FlexBox1\",\"overrides\":[],\"properties\":[{\"default\":\"flex-start\",\"kind\":null,\"name\":\"align_content\"},{\"default\":\"flex-start\",\"kind\":null,\"name\":\"align_items\"},{\"default\":\"row\",\"kind\":null,\"name\":\"flex_direction\"},{\"default\":\"wrap\",\"kind\":null,\"name\":\"flex_wrap\"},{\"default\":\"flex-start\",\"kind\":null,\"name\":\"justify_content\"}]},{\"extends\":null,\"module\":null,\"name\":\"GridStack1\",\"overrides\":[],\"properties\":[{\"default\":\"warn\",\"kind\":null,\"name\":\"mode\"},{\"default\":null,\"kind\":null,\"name\":\"ncols\"},{\"default\":null,\"kind\":null,\"name\":\"nrows\"},{\"default\":true,\"kind\":null,\"name\":\"allow_resize\"},{\"default\":true,\"kind\":null,\"name\":\"allow_drag\"},{\"default\":[],\"kind\":null,\"name\":\"state\"}]},{\"extends\":null,\"module\":null,\"name\":\"click1\",\"overrides\":[],\"properties\":[{\"default\":\"\",\"kind\":null,\"name\":\"terminal_output\"},{\"default\":\"\",\"kind\":null,\"name\":\"debug_name\"},{\"default\":0,\"kind\":null,\"name\":\"clears\"}]},{\"extends\":null,\"module\":null,\"name\":\"NotificationAreaBase1\",\"overrides\":[],\"properties\":[{\"default\":\"bottom-right\",\"kind\":null,\"name\":\"position\"},{\"default\":0,\"kind\":null,\"name\":\"_clear\"}]},{\"extends\":null,\"module\":null,\"name\":\"NotificationArea1\",\"overrides\":[],\"properties\":[{\"default\":[],\"kind\":null,\"name\":\"notifications\"},{\"default\":\"bottom-right\",\"kind\":null,\"name\":\"position\"},{\"default\":0,\"kind\":null,\"name\":\"_clear\"},{\"default\":[{\"background\":\"#ffc107\",\"icon\":{\"className\":\"fas fa-exclamation-triangle\",\"color\":\"white\",\"tagName\":\"i\"},\"type\":\"warning\"},{\"background\":\"#007bff\",\"icon\":{\"className\":\"fas fa-info-circle\",\"color\":\"white\",\"tagName\":\"i\"},\"type\":\"info\"}],\"kind\":null,\"name\":\"types\"}]},{\"extends\":null,\"module\":null,\"name\":\"Notification\",\"overrides\":[],\"properties\":[{\"default\":null,\"kind\":null,\"name\":\"background\"},{\"default\":3000,\"kind\":null,\"name\":\"duration\"},{\"default\":null,\"kind\":null,\"name\":\"icon\"},{\"default\":\"\",\"kind\":null,\"name\":\"message\"},{\"default\":null,\"kind\":null,\"name\":\"notification_type\"},{\"default\":false,\"kind\":null,\"name\":\"_destroyed\"}]},{\"extends\":null,\"module\":null,\"name\":\"TemplateActions1\",\"overrides\":[],\"properties\":[{\"default\":0,\"kind\":null,\"name\":\"open_modal\"},{\"default\":0,\"kind\":null,\"name\":\"close_modal\"}]},{\"extends\":null,\"module\":null,\"name\":\"MaterialTemplateActions1\",\"overrides\":[],\"properties\":[{\"default\":0,\"kind\":null,\"name\":\"open_modal\"},{\"default\":0,\"kind\":null,\"name\":\"close_modal\"}]}],\"roots\":{\"references\":[{\"attributes\":{\"fill_color\":{\"field\":\"color\",\"transform\":{\"id\":\"1353\"}},\"hatch_color\":{\"field\":\"color\",\"transform\":{\"id\":\"1353\"}},\"line_color\":{\"field\":\"color\",\"transform\":{\"id\":\"1353\"}},\"size\":{\"field\":\"size\"},\"x\":{\"field\":\"Lng\"},\"y\":{\"field\":\"Lat\"}},\"id\":\"1360\",\"type\":\"Scatter\"},{\"attributes\":{\"label\":{\"field\":\"color\"},\"renderers\":[{\"id\":\"1362\"}]},\"id\":\"1371\",\"type\":\"LegendItem\"},{\"attributes\":{\"code\":\"\\n        var projections = Bokeh.require(\\\"core/util/projections\\\");\\n        var x = special_vars.data_x\\n        var y = special_vars.data_y\\n        var coords = projections.wgs84_mercator.invert(x, y)\\n        return \\\"\\\" + (coords[1]).toFixed(4)\\n    \"},\"id\":\"1373\",\"type\":\"CustomJSHover\"},{\"attributes\":{\"coordinates\":null,\"group\":null,\"text_color\":\"black\",\"text_font_size\":\"12pt\"},\"id\":\"1291\",\"type\":\"Title\"},{\"attributes\":{},\"id\":\"1308\",\"type\":\"PanTool\"},{\"attributes\":{\"coordinates\":null,\"data_source\":{\"id\":\"1354\"},\"glyph\":{\"id\":\"1357\"},\"group\":null,\"hover_glyph\":{\"id\":\"1360\"},\"muted_glyph\":{\"id\":\"1361\"},\"nonselection_glyph\":{\"id\":\"1358\"},\"selection_glyph\":{\"id\":\"1359\"},\"view\":{\"id\":\"1363\"}},\"id\":\"1362\",\"type\":\"GlyphRenderer\"},{\"attributes\":{\"axis_label\":\"y\",\"coordinates\":null,\"formatter\":{\"id\":\"1325\"},\"group\":null,\"major_label_policy\":{\"id\":\"1335\"},\"ticker\":{\"id\":\"1324\"}},\"id\":\"1303\",\"type\":\"LinearAxis\"},{\"attributes\":{\"axis\":{\"id\":\"1303\"},\"coordinates\":null,\"dimension\":1,\"grid_line_color\":null,\"group\":null,\"ticker\":null},\"id\":\"1306\",\"type\":\"Grid\"},{\"attributes\":{\"fill_color\":{\"field\":\"color\",\"transform\":{\"id\":\"1353\"}},\"hatch_color\":{\"field\":\"color\",\"transform\":{\"id\":\"1353\"}},\"line_color\":{\"field\":\"color\",\"transform\":{\"id\":\"1353\"}},\"size\":{\"field\":\"size\"},\"x\":{\"field\":\"Lng\"},\"y\":{\"field\":\"Lat\"}},\"id\":\"1359\",\"type\":\"Scatter\"},{\"attributes\":{\"zoom_on_axis\":false},\"id\":\"1309\",\"type\":\"WheelZoomTool\"},{\"attributes\":{\"code\":\"\\n        var projections = Bokeh.require(\\\"core/util/projections\\\");\\n        var x = special_vars.data_x\\n        var y = special_vars.data_y\\n        var coords = projections.wgs84_mercator.invert(x, y)\\n        return \\\"\\\" + (coords[0]).toFixed(4)\\n    \"},\"id\":\"1372\",\"type\":\"CustomJSHover\"},{\"attributes\":{\"click_policy\":\"mute\",\"coordinates\":null,\"group\":null,\"items\":[{\"id\":\"1371\"}],\"location\":[0,0]},\"id\":\"1370\",\"type\":\"Legend\"},{\"attributes\":{},\"id\":\"1307\",\"type\":\"SaveTool\"},{\"attributes\":{\"fill_alpha\":{\"value\":0.2},\"fill_color\":{\"field\":\"color\",\"transform\":{\"id\":\"1353\"}},\"hatch_alpha\":{\"value\":0.2},\"hatch_color\":{\"field\":\"color\",\"transform\":{\"id\":\"1353\"}},\"line_alpha\":{\"value\":0.2},\"line_color\":{\"field\":\"color\",\"transform\":{\"id\":\"1353\"}},\"size\":{\"field\":\"size\"},\"x\":{\"field\":\"Lng\"},\"y\":{\"field\":\"Lat\"}},\"id\":\"1361\",\"type\":\"Scatter\"},{\"attributes\":{\"factors\":[\"ibshaway\",\"port alfred\",\"invercargill\",\"port-aux-francais\",\"puerto natales\",\"mugia\",\"jamestown\",\"yellowknife\",\"tiksi\",\"nadi\",\"fomboni\",\"st. john's\",\"adamstown\",\"sechura\",\"linkou\",\"arkhangel'sk\",\"minas de marcona\",\"balkanabat\",\"longyearbyen\",\"san antonio de pale\",\"castillos\",\"iron river\",\"avarua\",\"madera\",\"wabag\",\"kuching\",\"laguna\",\"talnakh\",\"rawson\",\"ust-nera\",\"bardai\",\"papatowai\",\"buka\",\"ribeira grande\",\"heiligenhafen\",\"whitehorse\",\"west island\",\"ushuaia\",\"albany\",\"mawlaik\",\"panaba\",\"jiexiu\",\"port mathurin\",\"port moresby\",\"puerto ayora\",\"manismata\",\"batu pahat\",\"vadso\",\"podporozh'ye\",\"grytviken\",\"katsuura\",\"enzan\",\"hermanus\",\"north bend\",\"nemuro\",\"georgetown\",\"bethel\",\"neuhaus am rennweg\",\"taoudenni\",\"taltal\",\"port elizabeth\",\"codrington\",\"puerto baquerizo moreno\",\"northam\",\"crookston\",\"puruliya\",\"kota kinabalu\",\"popricani\",\"bowen\",\"ebon\",\"waitangi\",\"bredasdorp\",\"edinburgh of the seven seas\",\"hashtpar\",\"tindouf\",\"faranah\",\"buala\",\"huancavelica\",\"mulchen\",\"flekkefjord\",\"touros\",\"dudinka\",\"blackmans bay\",\"atafu village\",\"mahdia\",\"acarau\",\"enewetak\",\"andratx\",\"hilo\",\"stanley\",\"gadzhiyevo\",\"cannonvale\",\"klyuchi\",\"wailua homesteads\",\"quang ngai\",\"kodiak\",\"olinda\",\"camana\",\"aljezur\",\"bratsk\",\"ancud\",\"bormes-les-mimosas\",\"grajewo\",\"hamilton\",\"grand falls-windsor\",\"ulladulla\",\"newport\",\"nuuk\",\"jhunjhunun\",\"itaituba\",\"bau\",\"anadyr\",\"bilibino\",\"itoman\",\"huy-neinstedt\",\"tolanaro\",\"vilyuchinsk\",\"olonkinbyen\",\"revda\",\"margaret river\",\"chonchi\",\"henderson\",\"kerikeri\",\"siniscola\",\"nuku'alofa\",\"cabo san lucas\",\"luderitz\",\"sisimiut\",\"launceston\",\"nizhnesortymskiy\",\"aasiaat\",\"powell river\",\"hithadhoo\",\"loukhi\",\"juneau\",\"arraial do cabo\",\"muynoq\",\"afaahiti\",\"aykhal\",\"mount gambier\",\"bridgewater\",\"talcahuano\",\"vorgashor\",\"broken hill\",\"utrik\",\"pangody\",\"qaqortoq\",\"les avirons\",\"naracoorte\",\"kalmunai\",\"lihue\",\"mar del plata\",\"roquebrune-cap-martin\",\"petropavlovsk-kamchatsky\",\"nushki\",\"dhemaji\",\"villa gesell\",\"oromocto\",\"bodaybo\",\"daru\",\"nova sintra\",\"petawawa\",\"carnarvon\",\"abdanan\",\"inari\",\"carloforte\",\"kario ghanwar\",\"hawaiian paradise park\",\"anloga\",\"al kharijah\",\"kapuskasing\",\"al qadarif\",\"bayanhongor\",\"port lincoln\",\"moses lake\",\"titao\",\"camaguey\",\"pontianak\",\"san andres\",\"fale old settlement\",\"poronaysk\",\"tura\",\"east london\",\"sitka\",\"la passe\",\"karratha\",\"apple valley\",\"alice springs\",\"vorkuta\",\"happy valley-goose bay\",\"buarcos\",\"karabash\",\"san ramon\",\"constitucion\",\"san luis de la loma\",\"sanandrei\",\"thompson\",\"machiques\",\"quellon\",\"greymouth\",\"nagqu\",\"ponta delgada\",\"college\",\"were ilu\",\"marka\",\"polyarnyy\",\"janiuay\",\"bouar\",\"chui\",\"kiunga\",\"banting\",\"lompoc\",\"pionerskiy\",\"lebu\",\"buchanan\",\"ta`u\",\"tangalle\",\"port saint john's\",\"haiku-pauwela\",\"kapa'a\",\"adam\",\"oum hadjer\",\"sungailiat\",\"tubarjal\",\"cortez\",\"tionk essil\",\"piranhas\",\"alenquer\",\"perry\",\"zhangjiakou shi xuanhua qu\",\"mossel bay\",\"bambanglipuro\",\"nar'yan-mar\",\"tvoroyri\",\"badger\",\"pacific grove\",\"shimoda\",\"labrador city\",\"severo-yeniseyskiy\",\"la barceloneta\",\"sarykemer\",\"sogndal\",\"wuwei\",\"porto murtinho\",\"iskateley\",\"grootfontein\",\"weno\",\"santa luzia\",\"udachny\",\"qarqaraly\",\"puerto yuca\",\"gisborne\",\"faya-largeau\",\"copala\",\"wenling\",\"burang\",\"fortuna\",\"sabha\",\"curup\",\"qamdo\",\"zaozersk\",\"isafjordur\",\"breckenridge\",\"san patricio\",\"ugoofaaru\",\"gizo\",\"znamenskoye\",\"lensk\",\"crane\",\"itamaraca\",\"lazarevskoye\",\"jackson\",\"uturoa\",\"portland\",\"kone\",\"granby\",\"lugoff\",\"cabedelo\",\"pisco\",\"palmer\",\"pursat\",\"sogne\",\"susuman\",\"walvis bay\",\"fort st. john\",\"puerto aysen\",\"saint-joseph\",\"guadalupe y calvo\",\"upata\",\"alofi\",\"pirot\",\"ola\",\"tazacorte\",\"zvezdnyy\",\"antofagasta\",\"tsiombe\",\"pinarbasi\",\"ust'-barguzin\",\"kruisfontein\",\"mikuni\",\"dursley\",\"anda\",\"pangoa\",\"margate\",\"flying fish cove\",\"weisswasser\",\"halmstad\",\"bac lieu\",\"storvreta\",\"al jawf\",\"padang\",\"beykonak\",\"tarapur\",\"constantia\",\"vilyuysk\",\"kulhudhuffushi\",\"gagliano del capo\",\"tocopilla\",\"saurimo\",\"puerto san jose\",\"punta arenas\",\"hinton\",\"ocean city\",\"noosa heads\",\"pandan\",\"san fernando de apure\",\"kingston\",\"annaba\",\"el granada\",\"kirakira\",\"cidade velha\",\"saint-pierre\",\"verkhnevilyuysk\",\"alamosa\",\"san-pedro\",\"bela\",\"nantucket\",\"ixtapa\",\"mejit\",\"chibougamau\",\"sultanah\",\"tazovsky\",\"palikir - national government center\",\"detroit lakes\",\"takoradi\",\"dickinson\",\"wajir\",\"sur\",\"fallon\",\"rudnichnyy\",\"kenai\",\"ambon\",\"charters towers\",\"la palma\",\"slave lake\",\"las khorey\",\"lengshuitan\",\"abadan\",\"tuntum\",\"cimitarra\",\"lazaro cardenas\",\"novodvinsk\",\"yuzhno-kurilsk\",\"tchintabaraden\",\"puerto madero\",\"sinan\",\"winterset\",\"kindu\",\"chulakkurgan\",\"kingscliff\",\"wucheng\",\"fisterra\",\"coahuayana de hidalgo\",\"ilulissat\",\"bodo\",\"galle\",\"watsa\",\"port douglas\",\"tenenkou\",\"antsiranana\",\"chiredzi\",\"keban\",\"iqaluit\",\"queenstown\",\"mount isa\",\"budva\",\"saudarkrokur\",\"remire-montjoly\",\"caleta de carquin\",\"banda aceh\",\"papao\",\"gouyave\",\"poltavka\",\"island harbour\",\"alta\",\"swift current\",\"salalah\",\"pendleton\",\"san jose del guaviare\",\"roma\",\"verkh-chebula\",\"emerald\",\"indramayu\",\"franceville\",\"sao felix do xingu\",\"mazyr\",\"daokou\",\"christchurch\",\"santa elena\",\"georgiyevka\",\"callao\",\"yanam\",\"plastun\",\"saipan\",\"ylitornio\",\"neftcala\",\"alexander city\",\"daman\",\"olyokminsk\",\"heihe\",\"urangan\",\"sumbawa besar\",\"egilsstadir\",\"ulsteinvik\",\"geraldton\",\"muli\",\"kigorobya\",\"bengkulu\",\"pasuquin\",\"bazarnyye mataki\",\"cox's bazar\",\"riosucio\",\"holualoa\",\"glace bay\",\"ban houakhoua\",\"vila velha\",\"mili\",\"yuzhno-sukhokumsk\",\"ust'-ilimsk\",\"sinop\",\"betio village\",\"mabaruma\",\"okhotsk\",\"aral\",\"keflavik\",\"nabire\",\"melipilla\",\"dawson creek\",\"sao gabriel da cachoeira\",\"tual\",\"yur'yevets\",\"portoferraio\",\"cambria\",\"goure\",\"sabang\",\"nishinoomote\",\"jijel\",\"lata\",\"poco branco\",\"kurchum\",\"lhasa\",\"hobyo\",\"bocas del toro\",\"san pedro piedra gorda\",\"cidreira\",\"tikapur\",\"inverloch\",\"maragogi\",\"strezhevoy\",\"yorkton\",\"al qusayr\",\"noumea\",\"dolores\",\"trevelin\",\"mocimboa\",\"ghadamis\",\"pimentel\",\"wanning\",\"kosonsoy\",\"mareeba\",\"victoria\",\"jijiga\",\"el calafate\",\"puri\",\"boysun\",\"columbus\",\"rocha\",\"higuera de zaragoza\",\"saint john\",\"vallenar\",\"carutapera\",\"mawu\",\"vargashi\",\"rtishchevo\",\"puerto rosario\",\"harran\",\"ciudad lazaro cardenas\",\"sainte-suzanne\",\"pyhaselka\",\"machico\",\"la sarre\",\"al burayqah\",\"raja\",\"pariaman\",\"isangel\",\"ceeldheer\",\"kapoeta\",\"vernon\",\"howard springs\",\"beyneu\",\"tralee\",\"cafayate\",\"manokwari\",\"lakatoro\",\"tres lagoas\",\"shache\",\"iwaki\",\"mashi\",\"kuanda\",\"yaren\",\"guerrero negro\",\"aljustrel\",\"sorsk\",\"den burg\",\"guiratinga\",\"kailua-kona\",\"whangarei\",\"moog\",\"tongchuanshi\",\"butterworth\",\"kalifornsky\",\"kodinsk\",\"nyamuswa\",\"mykhaylivka\",\"ca mau\",\"nikolayevsk-on-amure\",\"gaigeturi\",\"winneba\",\"methuen\",\"jinchang\",\"limon\",\"addis ababa\",\"fort bragg\",\"navrongo\",\"xining\",\"hammerfest\",\"pathein\",\"sandersville\",\"khandyga\",\"voznesenskoye\",\"hasaki\",\"pak phanang\",\"uray\",\"tobelo\",\"san pedro pochutla\",\"conduaga\",\"masterton\"],\"palette\":[\"#1f77b3\",\"#ff7e0e\",\"#2ba02b\",\"#d62628\",\"#9367bc\",\"#8c564b\",\"#e277c1\",\"#7e7e7e\",\"#bcbc21\",\"#16bdcf\",\"#3a0182\",\"#004201\",\"#0fffa8\",\"#5d003f\",\"#bcbcff\",\"#d8afa1\",\"#b80080\",\"#004d52\",\"#6b6400\",\"#7c0100\",\"#6026ff\",\"#ffff9a\",\"#564964\",\"#8cb893\",\"#93fbff\",\"#018267\",\"#90ff00\",\"#8200a0\",\"#ac8944\",\"#5b3400\",\"#ffbff2\",\"#ff6e75\",\"#798cff\",\"#dd00ff\",\"#505646\",\"#004489\",\"#ffbf60\",\"#ff018c\",\"#bdc8cf\",\"#af97b5\",\"#b65600\",\"#017000\",\"#cd87ff\",\"#1cd646\",\"#bfebc3\",\"#7997b5\",\"#a56089\",\"#6e8956\",\"#bc7c75\",\"#8a2844\",\"#00acff\",\"#8ed4ff\",\"#4b6d77\",\"#00d4b1\",\"#9300f2\",\"#8a9500\",\"#5d5b9e\",\"#fddfba\",\"#00939e\",\"#ffdb00\",\"#00aa79\",\"#520067\",\"#000091\",\"#0a5d3d\",\"#a5e275\",\"#623b41\",\"#c6c689\",\"#ff9eb5\",\"#cd4f6b\",\"#ff07d6\",\"#8a3a05\",\"#7e3d70\",\"#ff4901\",\"#602ba5\",\"#1c00ff\",\"#e6dfff\",\"#aa3baf\",\"#d89c00\",\"#a3a39e\",\"#3f69ff\",\"#46490c\",\"#7b6985\",\"#6b978c\",\"#ff9a75\",\"#835bff\",\"#7c6b46\",\"#80b654\",\"#bc0049\",\"#fd93ff\",\"#5d0018\",\"#89d1d1\",\"#9c8cd3\",\"#da6d42\",\"#8a5700\",\"#3b5069\",\"#4b6b3b\",\"#edcfd8\",\"#cfedff\",\"#aa1500\",\"#dfff4f\",\"#ff2a56\",\"#d1499e\",\"#707cb8\",\"#598000\",\"#00e4fd\",\"#774b95\",\"#67d48c\",\"#3d3a72\",\"#ac413f\",\"#d6a166\",\"#c169cd\",\"#69595d\",\"#87aced\",\"#a0a569\",\"#d1aae6\",\"#870062\",\"#00fddb\",\"#672818\",\"#b342ff\",\"#0e59c4\",\"#168742\",\"#90d300\",\"#cd7900\",\"#f959ff\",\"#5b7466\",\"#8eaeb3\",\"#9c7c8c\",\"#4600c6\",\"#6b4d2d\",\"#a56d46\",\"#9e8972\",\"#a8afca\",\"#cd8ca7\",\"#00fd64\",\"#917900\",\"#ff62a1\",\"#f4ffd8\",\"#018cf0\",\"#13aca0\",\"#5b2d59\",\"#89859e\",\"#cfccba\",\"#d4afc4\",\"#dbdd6d\",\"#cffff4\",\"#006485\",\"#006962\",\"#a84167\",\"#2d97c4\",\"#a874ff\",\"#26ba5d\",\"#57b600\",\"#caffa7\",\"#a379aa\",\"#ffbc93\",\"#89e2c1\",\"#0fc8ff\",\"#d400c4\",\"#626d89\",\"#69858e\",\"#4b4d52\",\"#aa6067\",\"#79b5d4\",\"#2b5916\",\"#9a0024\",\"#bdd1f2\",\"#896e67\",\"#69a56b\",\"#855467\",\"#aecdba\",\"#87997e\",\"#cadb00\",\"#9a0390\",\"#ebbc1a\",\"#eb9cd1\",\"#70006e\",\"#b1a131\",\"#ca6b93\",\"#4146a3\",\"#e48c89\",\"#d44400\",\"#c68aca\",\"#b69597\",\"#d41f75\",\"#724bcc\",\"#674d00\",\"#672138\",\"#38564f\",\"#6ebaaa\",\"#853a31\",\"#a5d397\",\"#b8af8e\",\"#d8e4df\",\"#aa00df\",\"#cac1db\",\"#ffdf8c\",\"#e2524d\",\"#66696e\",\"#ff001c\",\"#522d72\",\"#4d906b\",\"#a86d11\",\"#ff9e26\",\"#5ea3af\",\"#c88556\",\"#915997\",\"#a3a1ff\",\"#fdbaba\",\"#242a87\",\"#dbe6a8\",\"#97f2a7\",\"#6793d6\",\"#ba5b3f\",\"#3a5d91\",\"#364f2f\",\"#267c95\",\"#89959a\",\"#cfb356\",\"#004664\",\"#5e5d2f\",\"#8e8e41\",\"#ac3f13\",\"#69953b\",\"#a13d85\",\"#bfb6ba\",\"#acc667\",\"#6469cf\",\"#91af00\",\"#2be2da\",\"#016e36\",\"#ff7952\",\"#42807e\",\"#4fe800\",\"#995428\",\"#5d0a00\",\"#a30057\",\"#0c8700\",\"#5982a7\",\"#ffebfb\",\"#4b6901\",\"#8775d4\",\"#e6c6ff\",\"#a5ffda\",\"#d86e77\",\"#df014b\",\"#69675b\",\"#776ba1\",\"#7e8067\",\"#594685\",\"#0000ca\",\"#7c002a\",\"#97ff72\",\"#b5e2e1\",\"#db52c8\",\"#777734\",\"#57bd8e\",\"#1f77b3\",\"#ff7e0e\",\"#2ba02b\",\"#d62628\",\"#9367bc\",\"#8c564b\",\"#e277c1\",\"#7e7e7e\",\"#bcbc21\",\"#16bdcf\",\"#3a0182\",\"#004201\",\"#0fffa8\",\"#5d003f\",\"#bcbcff\",\"#d8afa1\",\"#b80080\",\"#004d52\",\"#6b6400\",\"#7c0100\",\"#6026ff\",\"#ffff9a\",\"#564964\",\"#8cb893\",\"#93fbff\",\"#018267\",\"#90ff00\",\"#8200a0\",\"#ac8944\",\"#5b3400\",\"#ffbff2\",\"#ff6e75\",\"#798cff\",\"#dd00ff\",\"#505646\",\"#004489\",\"#ffbf60\",\"#ff018c\",\"#bdc8cf\",\"#af97b5\",\"#b65600\",\"#017000\",\"#cd87ff\",\"#1cd646\",\"#bfebc3\",\"#7997b5\",\"#a56089\",\"#6e8956\",\"#bc7c75\",\"#8a2844\",\"#00acff\",\"#8ed4ff\",\"#4b6d77\",\"#00d4b1\",\"#9300f2\",\"#8a9500\",\"#5d5b9e\",\"#fddfba\",\"#00939e\",\"#ffdb00\",\"#00aa79\",\"#520067\",\"#000091\",\"#0a5d3d\",\"#a5e275\",\"#623b41\",\"#c6c689\",\"#ff9eb5\",\"#cd4f6b\",\"#ff07d6\",\"#8a3a05\",\"#7e3d70\",\"#ff4901\",\"#602ba5\",\"#1c00ff\",\"#e6dfff\",\"#aa3baf\",\"#d89c00\",\"#a3a39e\",\"#3f69ff\",\"#46490c\",\"#7b6985\",\"#6b978c\",\"#ff9a75\",\"#835bff\",\"#7c6b46\",\"#80b654\",\"#bc0049\",\"#fd93ff\",\"#5d0018\",\"#89d1d1\",\"#9c8cd3\",\"#da6d42\",\"#8a5700\",\"#3b5069\",\"#4b6b3b\",\"#edcfd8\",\"#cfedff\",\"#aa1500\",\"#dfff4f\",\"#ff2a56\",\"#d1499e\",\"#707cb8\",\"#598000\",\"#00e4fd\",\"#774b95\",\"#67d48c\",\"#3d3a72\",\"#ac413f\",\"#d6a166\",\"#c169cd\",\"#69595d\",\"#87aced\",\"#a0a569\",\"#d1aae6\",\"#870062\",\"#00fddb\",\"#672818\",\"#b342ff\",\"#0e59c4\",\"#168742\",\"#90d300\",\"#cd7900\",\"#f959ff\",\"#5b7466\",\"#8eaeb3\",\"#9c7c8c\",\"#4600c6\",\"#6b4d2d\",\"#a56d46\",\"#9e8972\",\"#a8afca\",\"#cd8ca7\",\"#00fd64\",\"#917900\",\"#ff62a1\",\"#f4ffd8\",\"#018cf0\",\"#13aca0\",\"#5b2d59\",\"#89859e\",\"#cfccba\",\"#d4afc4\",\"#dbdd6d\",\"#cffff4\",\"#006485\",\"#006962\",\"#a84167\",\"#2d97c4\",\"#a874ff\",\"#26ba5d\",\"#57b600\",\"#caffa7\",\"#a379aa\",\"#ffbc93\",\"#89e2c1\",\"#0fc8ff\",\"#d400c4\",\"#626d89\",\"#69858e\",\"#4b4d52\",\"#aa6067\",\"#79b5d4\",\"#2b5916\",\"#9a0024\",\"#bdd1f2\",\"#896e67\",\"#69a56b\",\"#855467\",\"#aecdba\",\"#87997e\",\"#cadb00\",\"#9a0390\",\"#ebbc1a\",\"#eb9cd1\",\"#70006e\",\"#b1a131\",\"#ca6b93\",\"#4146a3\",\"#e48c89\",\"#d44400\",\"#c68aca\",\"#b69597\",\"#d41f75\",\"#724bcc\",\"#674d00\",\"#672138\",\"#38564f\",\"#6ebaaa\",\"#853a31\",\"#a5d397\",\"#b8af8e\",\"#d8e4df\",\"#aa00df\",\"#cac1db\",\"#ffdf8c\",\"#e2524d\",\"#66696e\",\"#ff001c\",\"#522d72\",\"#4d906b\",\"#a86d11\",\"#ff9e26\",\"#5ea3af\",\"#c88556\",\"#915997\",\"#a3a1ff\",\"#fdbaba\",\"#242a87\",\"#dbe6a8\",\"#97f2a7\",\"#6793d6\",\"#ba5b3f\",\"#3a5d91\",\"#364f2f\",\"#267c95\",\"#89959a\",\"#cfb356\",\"#004664\",\"#5e5d2f\",\"#8e8e41\",\"#ac3f13\",\"#69953b\",\"#a13d85\",\"#bfb6ba\",\"#acc667\",\"#6469cf\",\"#91af00\",\"#2be2da\",\"#016e36\",\"#ff7952\",\"#42807e\",\"#4fe800\",\"#995428\",\"#5d0a00\",\"#a30057\",\"#0c8700\",\"#5982a7\",\"#ffebfb\",\"#4b6901\",\"#8775d4\",\"#e6c6ff\",\"#a5ffda\",\"#d86e77\",\"#df014b\",\"#69675b\",\"#776ba1\",\"#7e8067\",\"#594685\",\"#0000ca\",\"#7c002a\",\"#97ff72\",\"#b5e2e1\",\"#db52c8\",\"#777734\",\"#57bd8e\",\"#1f77b3\",\"#ff7e0e\",\"#2ba02b\",\"#d62628\",\"#9367bc\",\"#8c564b\",\"#e277c1\",\"#7e7e7e\",\"#bcbc21\",\"#16bdcf\",\"#3a0182\",\"#004201\",\"#0fffa8\",\"#5d003f\",\"#bcbcff\",\"#d8afa1\",\"#b80080\",\"#004d52\",\"#6b6400\",\"#7c0100\",\"#6026ff\",\"#ffff9a\",\"#564964\",\"#8cb893\",\"#93fbff\",\"#018267\",\"#90ff00\",\"#8200a0\",\"#ac8944\",\"#5b3400\",\"#ffbff2\",\"#ff6e75\",\"#798cff\",\"#dd00ff\",\"#505646\",\"#004489\",\"#ffbf60\",\"#ff018c\",\"#bdc8cf\",\"#af97b5\",\"#b65600\",\"#017000\",\"#cd87ff\",\"#1cd646\",\"#bfebc3\"]},\"id\":\"1353\",\"type\":\"CategoricalColorMapper\"},{\"attributes\":{\"match_aspect\":true,\"overlay\":{\"id\":\"1312\"}},\"id\":\"1310\",\"type\":\"BoxZoomTool\"},{\"attributes\":{},\"id\":\"1311\",\"type\":\"ResetTool\"},{\"attributes\":{\"data\":{\"City\":[\"ibshaway\",\"port alfred\",\"invercargill\",\"port-aux-francais\",\"puerto natales\",\"mugia\",\"jamestown\",\"yellowknife\",\"tiksi\",\"nadi\",\"fomboni\",\"st. john's\",\"adamstown\",\"sechura\",\"linkou\",\"arkhangel'sk\",\"minas de marcona\",\"balkanabat\",\"longyearbyen\",\"san antonio de pale\",\"castillos\",\"iron river\",\"avarua\",\"madera\",\"wabag\",\"kuching\",\"laguna\",\"talnakh\",\"rawson\",\"ust-nera\",\"bardai\",\"papatowai\",\"buka\",\"ribeira grande\",\"heiligenhafen\",\"whitehorse\",\"west island\",\"ushuaia\",\"albany\",\"mawlaik\",\"panaba\",\"jiexiu\",\"port mathurin\",\"port moresby\",\"puerto ayora\",\"manismata\",\"batu pahat\",\"vadso\",\"podporozh'ye\",\"grytviken\",\"katsuura\",\"enzan\",\"hermanus\",\"north bend\",\"nemuro\",\"georgetown\",\"bethel\",\"neuhaus am rennweg\",\"taoudenni\",\"taltal\",\"port elizabeth\",\"codrington\",\"puerto baquerizo moreno\",\"northam\",\"crookston\",\"puruliya\",\"kota kinabalu\",\"popricani\",\"bowen\",\"ebon\",\"waitangi\",\"bredasdorp\",\"edinburgh of the seven seas\",\"hashtpar\",\"tindouf\",\"faranah\",\"buala\",\"huancavelica\",\"mulchen\",\"flekkefjord\",\"touros\",\"dudinka\",\"blackmans bay\",\"atafu village\",\"mahdia\",\"acarau\",\"enewetak\",\"andratx\",\"hilo\",\"stanley\",\"gadzhiyevo\",\"cannonvale\",\"klyuchi\",\"wailua homesteads\",\"quang ngai\",\"kodiak\",\"olinda\",\"camana\",\"aljezur\",\"bratsk\",\"ancud\",\"bormes-les-mimosas\",\"grajewo\",\"hamilton\",\"grand falls-windsor\",\"ulladulla\",\"newport\",\"nuuk\",\"jhunjhunun\",\"itaituba\",\"bau\",\"anadyr\",\"bilibino\",\"itoman\",\"huy-neinstedt\",\"tolanaro\",\"vilyuchinsk\",\"olonkinbyen\",\"revda\",\"margaret river\",\"chonchi\",\"henderson\",\"kerikeri\",\"siniscola\",\"nuku'alofa\",\"cabo san lucas\",\"luderitz\",\"sisimiut\",\"launceston\",\"nizhnesortymskiy\",\"aasiaat\",\"powell river\",\"hithadhoo\",\"loukhi\",\"juneau\",\"arraial do cabo\",\"muynoq\",\"afaahiti\",\"aykhal\",\"mount gambier\",\"bridgewater\",\"talcahuano\",\"vorgashor\",\"broken hill\",\"utrik\",\"pangody\",\"qaqortoq\",\"les avirons\",\"naracoorte\",\"kalmunai\",\"lihue\",\"mar del plata\",\"roquebrune-cap-martin\",\"petropavlovsk-kamchatsky\",\"nushki\",\"dhemaji\",\"villa gesell\",\"oromocto\",\"bodaybo\",\"daru\",\"nova sintra\",\"petawawa\",\"carnarvon\",\"abdanan\",\"inari\",\"carloforte\",\"kario ghanwar\",\"hawaiian paradise park\",\"anloga\",\"al kharijah\",\"kapuskasing\",\"al qadarif\",\"bayanhongor\",\"port lincoln\",\"moses lake\",\"titao\",\"camaguey\",\"pontianak\",\"san andres\",\"fale old settlement\",\"poronaysk\",\"tura\",\"east london\",\"sitka\",\"la passe\",\"karratha\",\"apple valley\",\"alice springs\",\"vorkuta\",\"happy valley-goose bay\",\"buarcos\",\"karabash\",\"san ramon\",\"constitucion\",\"san luis de la loma\",\"sanandrei\",\"thompson\",\"machiques\",\"quellon\",\"greymouth\",\"nagqu\",\"ponta delgada\",\"college\",\"were ilu\",\"marka\",\"polyarnyy\",\"janiuay\",\"bouar\",\"chui\",\"kiunga\",\"banting\",\"lompoc\",\"pionerskiy\",\"lebu\",\"buchanan\",\"ta`u\",\"tangalle\",\"port saint john's\",\"haiku-pauwela\",\"kapa'a\",\"adam\",\"oum hadjer\",\"sungailiat\",\"tubarjal\",\"cortez\",\"tionk essil\",\"piranhas\",\"alenquer\",\"perry\",\"zhangjiakou shi xuanhua qu\",\"mossel bay\",\"bambanglipuro\",\"nar'yan-mar\",\"tvoroyri\",\"badger\",\"pacific grove\",\"shimoda\",\"labrador city\",\"severo-yeniseyskiy\",\"la barceloneta\",\"sarykemer\",\"sogndal\",\"wuwei\",\"porto murtinho\",\"iskateley\",\"grootfontein\",\"weno\",\"santa luzia\",\"udachny\",\"qarqaraly\",\"puerto yuca\",\"gisborne\",\"faya-largeau\",\"copala\",\"wenling\",\"burang\",\"fortuna\",\"sabha\",\"curup\",\"qamdo\",\"zaozersk\",\"isafjordur\",\"breckenridge\",\"san patricio\",\"ugoofaaru\",\"gizo\",\"znamenskoye\",\"lensk\",\"crane\",\"itamaraca\",\"lazarevskoye\",\"jackson\",\"uturoa\",\"portland\",\"kone\",\"granby\",\"lugoff\",\"cabedelo\",\"pisco\",\"palmer\",\"pursat\",\"sogne\",\"susuman\",\"walvis bay\",\"fort st. john\",\"puerto aysen\",\"saint-joseph\",\"guadalupe y calvo\",\"upata\",\"alofi\",\"pirot\",\"ola\",\"tazacorte\",\"zvezdnyy\",\"antofagasta\",\"tsiombe\",\"pinarbasi\",\"ust'-barguzin\",\"kruisfontein\",\"mikuni\",\"dursley\",\"anda\",\"pangoa\",\"margate\",\"flying fish cove\",\"weisswasser\",\"halmstad\",\"bac lieu\",\"storvreta\",\"al jawf\",\"padang\",\"beykonak\",\"tarapur\",\"constantia\",\"vilyuysk\",\"kulhudhuffushi\",\"gagliano del capo\",\"tocopilla\",\"saurimo\",\"puerto san jose\",\"punta arenas\",\"hinton\",\"ocean city\",\"noosa heads\",\"pandan\",\"san fernando de apure\",\"kingston\",\"annaba\",\"el granada\",\"kirakira\",\"cidade velha\",\"saint-pierre\",\"verkhnevilyuysk\",\"alamosa\",\"san-pedro\",\"bela\",\"nantucket\",\"ixtapa\",\"mejit\",\"chibougamau\",\"sultanah\",\"tazovsky\",\"palikir - national government center\",\"detroit lakes\",\"takoradi\",\"dickinson\",\"wajir\",\"sur\",\"fallon\",\"rudnichnyy\",\"kenai\",\"ambon\",\"charters towers\",\"la palma\",\"slave lake\",\"las khorey\",\"lengshuitan\",\"abadan\",\"tuntum\",\"cimitarra\",\"lazaro cardenas\",\"novodvinsk\",\"yuzhno-kurilsk\",\"tchintabaraden\",\"puerto madero\",\"sinan\",\"winterset\",\"kindu\",\"chulakkurgan\",\"kingscliff\",\"wucheng\",\"fisterra\",\"coahuayana de hidalgo\",\"ilulissat\",\"bodo\",\"galle\",\"watsa\",\"port douglas\",\"tenenkou\",\"antsiranana\",\"chiredzi\",\"keban\",\"iqaluit\",\"queenstown\",\"mount isa\",\"budva\",\"saudarkrokur\",\"remire-montjoly\",\"caleta de carquin\",\"banda aceh\",\"papao\",\"gouyave\",\"poltavka\",\"island harbour\",\"alta\",\"swift current\",\"salalah\",\"pendleton\",\"san jose del guaviare\",\"roma\",\"verkh-chebula\",\"emerald\",\"indramayu\",\"franceville\",\"sao felix do xingu\",\"mazyr\",\"daokou\",\"christchurch\",\"santa elena\",\"georgiyevka\",\"callao\",\"yanam\",\"plastun\",\"saipan\",\"ylitornio\",\"neftcala\",\"alexander city\",\"daman\",\"olyokminsk\",\"heihe\",\"urangan\",\"sumbawa besar\",\"egilsstadir\",\"ulsteinvik\",\"geraldton\",\"muli\",\"kigorobya\",\"bengkulu\",\"pasuquin\",\"bazarnyye mataki\",\"cox's bazar\",\"riosucio\",\"holualoa\",\"glace bay\",\"ban houakhoua\",\"vila velha\",\"mili\",\"yuzhno-sukhokumsk\",\"ust'-ilimsk\",\"sinop\",\"betio village\",\"mabaruma\",\"okhotsk\",\"aral\",\"keflavik\",\"nabire\",\"melipilla\",\"dawson creek\",\"sao gabriel da cachoeira\",\"tual\",\"yur'yevets\",\"portoferraio\",\"cambria\",\"goure\",\"sabang\",\"nishinoomote\",\"jijel\",\"lata\",\"poco branco\",\"kurchum\",\"lhasa\",\"hobyo\",\"bocas del toro\",\"san pedro piedra gorda\",\"cidreira\",\"tikapur\",\"inverloch\",\"maragogi\",\"strezhevoy\",\"yorkton\",\"al qusayr\",\"noumea\",\"dolores\",\"trevelin\",\"mocimboa\",\"ghadamis\",\"pimentel\",\"wanning\",\"kosonsoy\",\"mareeba\",\"victoria\",\"jijiga\",\"el calafate\",\"puri\",\"boysun\",\"columbus\",\"rocha\",\"higuera de zaragoza\",\"saint john\",\"vallenar\",\"carutapera\",\"mawu\",\"vargashi\",\"rtishchevo\",\"puerto rosario\",\"harran\",\"ciudad lazaro cardenas\",\"sainte-suzanne\",\"pyhaselka\",\"machico\",\"la sarre\",\"al burayqah\",\"raja\",\"pariaman\",\"isangel\",\"ceeldheer\",\"kapoeta\",\"vernon\",\"howard springs\",\"beyneu\",\"tralee\",\"cafayate\",\"manokwari\",\"lakatoro\",\"tres lagoas\",\"shache\",\"iwaki\",\"mashi\",\"kuanda\",\"yaren\",\"guerrero negro\",\"aljustrel\",\"sorsk\",\"den burg\",\"guiratinga\",\"kailua-kona\",\"whangarei\",\"moog\",\"tongchuanshi\",\"butterworth\",\"kalifornsky\",\"kodinsk\",\"nyamuswa\",\"mykhaylivka\",\"ca mau\",\"nikolayevsk-on-amure\",\"gaigeturi\",\"winneba\",\"methuen\",\"jinchang\",\"limon\",\"addis ababa\",\"fort bragg\",\"navrongo\",\"xining\",\"hammerfest\",\"pathein\",\"sandersville\",\"khandyga\",\"voznesenskoye\",\"hasaki\",\"pak phanang\",\"uray\",\"tobelo\",\"san pedro pochutla\",\"conduaga\",\"masterton\"],\"Humidity\":[24,74,78,88,93,88,99,67,92,73,63,94,68,76,62,54,88,16,50,87,97,94,94,34,96,63,51,42,56,27,71,81,13,68,77,33,57,69,94,61,95,20,60,66,87,82,75,100,53,88,81,57,78,94,97,70,87,72,10,83,84,97,73,94,82,43,70,65,88,80,81,82,89,60,21,97,82,67,90,91,86,43,83,78,51,89,79,54,87,82,72,89,42,84,53,82,83,87,77,62,84,49,51,93,94,92,88,100,33,68,76,63,84,79,72,73,88,96,41,69,87,15,84,57,68,79,55,94,88,39,97,60,73,89,87,68,30,75,48,90,100,94,51,68,77,32,84,53,81,48,80,99,76,60,9,63,98,93,60,80,80,96,58,9,68,81,36,88,88,12,77,67,27,64,34,49,94,66,89,78,86,87,76,88,84,34,38,42,51,88,91,40,80,93,81,64,93,85,93,81,45,72,59,50,68,74,64,89,97,87,66,91,54,88,86,70,70,49,72,84,29,39,67,22,56,81,49,81,97,14,82,65,64,83,62,88,91,88,40,85,17,81,12,58,63,65,70,71,48,20,97,68,17,87,81,61,93,25,87,31,75,83,54,87,80,78,46,44,52,86,55,40,81,53,72,94,90,86,89,85,46,97,55,50,93,100,66,90,97,88,69,84,60,43,83,46,37,97,74,76,87,45,86,78,65,51,88,67,77,18,83,61,75,69,36,80,78,72,38,89,86,93,81,99,68,96,86,88,89,84,83,53,39,54,85,43,100,88,77,94,12,62,79,77,91,86,73,54,23,41,84,66,88,85,82,47,52,14,69,99,85,54,95,47,85,96,69,48,20,100,71,88,90,100,52,84,75,82,55,53,57,22,86,33,49,74,86,100,84,67,75,83,33,87,77,76,79,35,97,92,39,77,59,69,70,51,20,68,83,27,68,54,87,100,95,40,100,75,55,43,84,56,81,83,72,76,57,84,66,54,71,100,89,97,88,74,84,31,44,60,76,99,79,12,76,76,91,93,100,80,56,82,87,37,71,100,64,78,88,25,47,64,87,61,93,56,76,85,35,82,19,71,94,99,63,22,83,68,19,94,85,80,82,70,18,96,97,75,100,65,94,94,48,76,68,22,85,64,94,89,71,68,75,79,68,59,50,42,58,25,84,56,70,69,81,12,73,57,63,72,91,74,69,70,46,92,83,73,22,70,81,28,48,31,53,41,79,92,96,8,89,77,90,78,24,100,92,90,36,44,82,62,42,80,92,83,91],\"Lat\":{\"__ndarray__\":\"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\",\"dtype\":\"float64\",\"order\":\"little\",\"shape\":[557]},\"Lng\":{\"__ndarray__\":\"jduT6cYOSkG6YKU2qtZGQWWYZsRZ33FB9P2B0knRXUEKK7DlJchewbRGTd6nUC/BG5n2J9rSYMF8H0XCp0dowXUmlH+5XGtBPk48C8PVckETl900RJNSQcyR6BsNYlbBPfdnF7Kfa8HA58LEGylhwU3+rNOTqWtBeIS14Ho3UUFqbFsWRuVfwel303hFFldB9PTL9/eQOkFjS1QQfiIjQYFVzOI93FbBsx1c9ivSYsGikEN6TfZwwdudLaiecWnBzTEik/WCbkEv2sDYMG1nQaoFwnIEyGnBL2NUadnEYkFljqu4TKVbwfdwnOKqZ25BuYqmi66SKEHotJCyz/1xQf1PmTqcYl1B189gsfpfSME+oPxc/6cyQUK/3AfhrGzBH/G27M6OZEG70idO7ABdwesPE+7laF/BgJjsXgoMZEGC1iKDwb1iwZvKbVAHw2dBDFMdsA7uWkFomkoo/D9vQUDAyIsXL2PBc9tYTT2TZ0He9I0v69plQRylYBH9Q0lB1o1j5WYFTUF2i9HG3AFPwUqQ3ZEJym1BUXv8CeF0bUGH5HFf+1VAQR2tPjo9YGrBsVDp28LobkEDiF60wE1lQRbYNkbeLF/B7gjbLnzsMkHp5UlL8RAbwYD/L0RF7l3Bnep5QXm3RUHhgB2YoSRuQTeiAEw6BmPBLxRalmOmHME2wvOPJ4Nkwe6JGCJ7VmJBsSbSDiSlaEGuxiKEtF5HQTr6L+9AeW9BwOmL1cPocUFAuGB+eL5ywflf5P4tBUFBoD/4CpnpNMGZkNe+V8RUQUcQrdaorSvBv15A0a0/MsEV9Of0VPFwQV80ibF311/B1gUoi4OsXsF6iPN2s6AmQX7VfBnrHU7BTbQJmjZMYkH9ZfCAbkdvQbOUROKRUHLB5fOWeE7KMkEovR5+dglRwRsBKpnwO3FBugn6uZ1xEEF56zu9+XZwwa2Oqz2hFAfBF7+MZ/xPTEF+n/0In5JvQQrGapcfz2BBi8DbXIPrcMFCVyUT2RlnQXMMWz4QLnDBO1asH0WaTcGQEyGodOBewd07Ib8V6C3BgDALIEOTZUGwfTKNCVlfwaj83HKTiCVB+IzG2EUSQ0Hnhid90/JhwaP9rBRbo1fBsWucjabyb0Ef/NxxUV8UwWdrM4ut9lXBgst/rnUCYEFfyBB2AMZXwY+HNaRcd2pBBvNIaZLXckF2IKaFXatxQSPbIZN/G2tBzVMyfAmLMkHeR4bWP/VTQaxklHAC0XBBNkkffYKeLcFXYameDHNZQeS9cM55bmhBgbrUo9RXX8EsxN7R3WloweGQ4n95d3JBFFXHxJJ2MEEGepdshJlywSW1ywxQVmfBHbZQsPC/OUGnGBqs3spWwZIcYkNHP29BkvKHAxh5XkEPoymWgnNWwXiemOcvcWrBM5t07+oIX0G45AA8LA9MQZ+Kz5FpimzBUe3jUtzYUcFO9WgMPhBZQSD8E55Tsm/BuYAmZ5usZ0GPNaurZ+NtQdfz7SaCZVvBTr//c4wMX8GzMOtbCChbQcek/V2jB25B4vpJ4QsIckGb0mQdZaFfQWaC/uBMjFPBaiULdfh/V0FK+4N83OFtQbGBPCwqX2FBqrPZODjrcMEBatjlGXFYwTHmxh8PaylBfByKf67XcEE16brwOQlcQau9ZJkYFWRBIXJVVo8xWMEjXk+s+zpcwbeQQYAAP2hBU7YR5ypobkFosqI67f1EwaIgXf1wa2DBTSn7IpAgaEEPR1T/BiNUQeM3WiCg9EZBVllv2mo3LEEzY2SABiJdQeErQmnMc3DBxAVZqu9i+EBD08bYbPFJQYyo7VargGHBNkgHCRcNTkE/fguC3UFlQbEsg3sQ2WxB6m5aK2NTacGIwdfufxUMwXjnOrQwi2DBFkYM6dU2Z0G1bBCm2lhhwVM0NykULnLBZF5gxSNjbkFGFOzy7idjQTZss4yQtEdBf7oMVuS7bMEaMpH/wl74wKMav9M0z2hBm7bqVqrhaME+4AOZQW1sQU4MStp3LVtB1Hz29qmeWcEHFTW2ASguwYTi80MTkllBGKsiGyTmacHHvM+Kc8BewUoITzIcbGXBR8l4DmP6QUH/KXg6+cZkwf4Nah1mzl7BZ1O0Y+dCX8HUUS6NzixyQdk45SSuiGNBkUu3/HnMRcG62uGN2mFvwe9FFbjPvlBBOQgktiYDU0FqPTYIQGhMQZdneZXYAmpBmwBGx8p9OkGeErKF1bNWwXsEq7Th/21BwrcYCg6NZUGOgOEChJNpwbyvAIDhLUFB95zNH4ZGX8FeBTWHuRAxwf7CCgv//nHBCqeaA2snYUE9MbkLqBdJQXILP8L/l3DBPlRC3+jpcMF+cb4dYm1YQeXuvb1zukBBldIwHeaIZkHx/T9qejpQQS7wDOM1DmfBJWMlO1MQPMHvQZw6nQFWwQp2tOufPlfB7c0QUFmqYcFB1YStR21oQQbCt7gAz0JBYGyRGXlqZ0HBDbJzHItWQb5wE16AIyfB9viXejRTb8Hfk5m6zeJpwY773GeogG1BgSB7vvdpXMFk9VPPQMFjQc2kUGwUwg1BwLne5ctcXkHBAZuPAx8oQZHfO4wYy2VBef1Am26UWMGjIzghF5JWQfByoNHlxT5BMP5FR9UecEFZSTDhGp9SwTU5fNiG3WdBJ4xisGoGYEE6wGGrgRZfwVnzco665XJBJtFWeaw5QEF+fLJRQgRlwdSv4qyMxGlBO+7TdtU7YUF1rkHtmFxqwUKmTgIHgjhBovDZVzjFZUFTeTYuI6VkQdOCnCfJjktB3m/a86OjQ8FAu5M12/9kwfUK23SNtGTBCnb8tNz/XkEuuxaHlqZwQTvvVGjlWV9BEVaRBe1maEG373cgQ7tlwc86fwfQk03BndlzKuuzUEGyNL0/shRqwd62hV2YE3DBZ/25gxcMasEAznuOqIBxQfrq227F4l7BMi8CFeEhYcFP8lIBnpVNwY13fIfGLmDBs3dwg+K2XsFl8jKI0wJmQTspmyAOjipBq7AWM6J1b0EDGBycgqM4QTaXPmn8qGnBYVDDvj/fXsHyf0+uHZ5XQYNBbdIytmbBvTSKcWl/WsGiZ5Dy+wlywdopVJOwLkNBKJK+voQPcEEA/9iLaHQ+wXRvmu7+6VdBV9q3CTflXcGxEutyglBTQYg3Ia6e6E5Bc0XArs8jZ0F4sGNtHwFFQbqStgWR6GxB8rrvQoH6D8Hgq2vnnZtqQQp2/LTc/17BCaAGoDjWAkHCCC/zNXBmQUIeL4Er2zhBnRTibazWNUGc5upLrHJmQTa3rvyyED5Bc9UqkYd0UEEatWWyx05lQe3vxkOBvElBYVDDvj/fXkGeGKO0G1VIQV8UgPXv0mlB5A9OzHgHX0HcONli0zM/QVN+5Z4+z13B2JSkQ49RQUHHFLW+x0hjwX0AsrtiHV7Bfkr0h2X3aMGKEeGfCatfwRBmPUBAQnBBzdQpTEFdakHXeHpN9KZcwYyCVw4iTmDBWUykLZJiKkFxP93n2QBqwbxuvrmcMHFBlfNUgsMORMH1P+Z1DI9XQWXH5DjXi2lB52ewT5Z6ZsF/FNESe4smwdymtGY4aGFB7m9FKYzEXcFQdc5NK1ZmwaL6QwSxI3JBJF20h1mUX8H+Vd79YM9QQcUgnX3BtWBBGknY0XDKcEHcr7U/sVlkwUcDhN+R2gfBhW8WyoguZMGJdUSPpQJRQb+QeLVpR1lB76fx9Ss4acFjMPrEEUhWQbW28s7WDnDBQ16rBVQ3a0EWZAzSWw5vQQ4bFVF0EGnBZ3xxVEteaMF7y4UGfHdUQTSUvKvNsWdBl2QQhS6DVEFSq/8zzfVSwfkysbwaZ1/BBrmwfhqzZcGyKJ5UtlRRQRAU4mMD+G5BlKN9ItyyI0GK7S9Kl59jwWx1XySpxmpBEkn+CiT2Y8HIcp5kEgpGQS55Go69YF1BzIGMbZNNcEGqQ2KabRdpQRanXp/Kdy/BPReFpV4CZsEGubB+GrNVwYX8zkPldzhBxI/5cjYIYUG1ZgBpohVJQTeHFd/f4m5BMMfKmyW0IMFT+2+8he5UQeEtpXUA5UpBDtM6KL9yUEEZCyDQPRhdwaVP/1pA00ZBarPmno2ebUFoE3CaNQBAQUxI9QAErkDBGgZ8m+8xVsGmKemWantgwSZLfVhCPWRBL+oju9LAb8FsSePopjZawY+0bbhoeV5Bj442QCtWAcEsUJ7lwMNDQQa9jZ6R42bBtU8fm2j4VkHOdtnOxzhpwSt0KCZe2V7BKhQ/Q2kFYMEbiBHFs5piQauwFjOidW9BVWzE58H/ZkGpTWVvtxI3QXB6HztmFFbBvY5kpprWSEH//inr/E9oQXylzLDCU3JBYJKUmp4qYcGb80jA6LlfQdLU3laBYWDBIvC3Jeh0YUEYtnrxSPBsQfYnGSSc725BqKdbffAbREEJFIdOr+lUQTZ4JgwLQGLBNOPfOY7vXkG9itWwzZFpQUDtpATCEWtBjdNG4nQ7cEF3wg/lHO9oQaCrWs51czjBRSmSnITeI0GeGKO0G1VoQct3VeV3PV9BW/0TZzWXSkGN0FfsqbZlQfueOp4znGlB82vlYUU0VUEs//kPlYdjQUwNnTXdEmDBoJrfd2iOcMGEUmit83VZwc9FqME8VGVBAmZMJTccUcEXqgXMWDtyQU2U1pPvYVNBEuHRzTXMZUE3sm5qqZ1NQRdlygyVW3JBDGvkoBFjWcGUTPtgGm1uQUwOTtIZQWFBk4CFcIkpQ8ECmvF+OcRsQSYm67H/PV7BhqjiEXeHacGSCDvlS31cwcTL48ynL2xBF3ijnd1NUkE9cA0FOIUxQVTmBqBftWnBrhHAsv9xMUHy4LU2Nz1kQZjIZ6mI0GtBR8kRNzSXI0GPi4TXz04swWvYPV7WSU7BBYVL3grDYUFcgI+zwldjQQ7pnKpem1RB6ZTEg7d2YcFxAj+8QbtlwewW7XTfUVXBLVyOtAQ6YUE8rAKbdvBuQWIG2mEb6k3Bd8/amlx5YEHV6/mFp8Flwcj9ylo2EU9BBtDiq+ircUHXYhjLVH5YwcGIUT3fWF7B9kgGXXciUUG+3g8WTSMwQVhoHE7X+GDB7Hq8DaNwZ0HFacynUWJeQSn1zxwP4W5BmZoXIRE9aEHUUS6NzixSQZ9jniQ+sV7B23YbSWU6YkGb/8Z7MIlcQazk4ARrn2HBmumA0pgSV8FI2NwpHjRnwd5TM64/DlzBQAJW6iQMXsEY99e92opTwW1OfxYSyWZBq51SRzn2W0GS6I3EJZhSQSEY4viMPVjBlDCr5B6TUEEGubB+GrNlwfLonptEnVdBbNhy5GJzSUEazZuB3Ho8wbe1k2Tp0GDBM+pYSsafQEElPDrx7s5FQVkUYm0LQmVBJdmirUP4cUGKMIIXBglUQWJUuYs7h0xBGwRX7+VSacEhaOupFtNrQQQRE/nQcFdBZHrKfRh7MMH0UtF2SgRcwXeXwZUgeGxB2gVgRvrFcUG7wqCC+PFVwYWQVghuZmBB7OzzJr7pbUFPP4GOgQQrQUsnDimWpWhBRgYBwmC4cUFcQkjy0DdowTnB/M8jvSvBlp8SFmEpY0G2mPO4C0wgQRYMPqUW1FbBcLsgbJaPcME3YH/8tIFyQbcJRa9dbWpBs3JaO5gpZ0FIwoXjS09lQeWeMVyzD3DBvmXinDAPZUEu0Xnc8ONMQUlR9tAV6k1BgwefjnNTZkFpDQ/+aOFtQWEUrxoP0mpBaCmgyzLv8MDu4yyvMTtewRfQplCvsWVBwqiYFUuhYcFdXmFLMXRQQSJQEXZjxmDBYXcbQUCu/cDPpSgnjZtlQZOcDaj7HERBFgfz1j8dZEGa6UNFKZVhwaI+c16RymxBQV5/FR8oUkEef8RnBudtQVgaunOARmVBqyyXRM6BW0F9GWoL/C1rQYEuhf13e2TBz8yWISjyaEH6qUN386VyQQ==\",\"dtype\":\"float64\",\"order\":\"little\",\"shape\":[557]},\"color\":[\"ibshaway\",\"port alfred\",\"invercargill\",\"port-aux-francais\",\"puerto natales\",\"mugia\",\"jamestown\",\"yellowknife\",\"tiksi\",\"nadi\",\"fomboni\",\"st. john's\",\"adamstown\",\"sechura\",\"linkou\",\"arkhangel'sk\",\"minas de marcona\",\"balkanabat\",\"longyearbyen\",\"san antonio de pale\",\"castillos\",\"iron river\",\"avarua\",\"madera\",\"wabag\",\"kuching\",\"laguna\",\"talnakh\",\"rawson\",\"ust-nera\",\"bardai\",\"papatowai\",\"buka\",\"ribeira grande\",\"heiligenhafen\",\"whitehorse\",\"west island\",\"ushuaia\",\"albany\",\"mawlaik\",\"panaba\",\"jiexiu\",\"port mathurin\",\"port moresby\",\"puerto ayora\",\"manismata\",\"batu pahat\",\"vadso\",\"podporozh'ye\",\"grytviken\",\"katsuura\",\"enzan\",\"hermanus\",\"north bend\",\"nemuro\",\"georgetown\",\"bethel\",\"neuhaus am rennweg\",\"taoudenni\",\"taltal\",\"port elizabeth\",\"codrington\",\"puerto baquerizo moreno\",\"northam\",\"crookston\",\"puruliya\",\"kota kinabalu\",\"popricani\",\"bowen\",\"ebon\",\"waitangi\",\"bredasdorp\",\"edinburgh of the seven seas\",\"hashtpar\",\"tindouf\",\"faranah\",\"buala\",\"huancavelica\",\"mulchen\",\"flekkefjord\",\"touros\",\"dudinka\",\"blackmans bay\",\"atafu village\",\"mahdia\",\"acarau\",\"enewetak\",\"andratx\",\"hilo\",\"stanley\",\"gadzhiyevo\",\"cannonvale\",\"klyuchi\",\"wailua homesteads\",\"quang ngai\",\"kodiak\",\"olinda\",\"camana\",\"aljezur\",\"bratsk\",\"ancud\",\"bormes-les-mimosas\",\"grajewo\",\"hamilton\",\"grand falls-windsor\",\"ulladulla\",\"newport\",\"nuuk\",\"jhunjhunun\",\"itaituba\",\"bau\",\"anadyr\",\"bilibino\",\"itoman\",\"huy-neinstedt\",\"tolanaro\",\"vilyuchinsk\",\"olonkinbyen\",\"revda\",\"margaret river\",\"chonchi\",\"henderson\",\"kerikeri\",\"siniscola\",\"nuku'alofa\",\"cabo san lucas\",\"luderitz\",\"sisimiut\",\"launceston\",\"nizhnesortymskiy\",\"aasiaat\",\"powell river\",\"hithadhoo\",\"loukhi\",\"juneau\",\"arraial do cabo\",\"muynoq\",\"afaahiti\",\"aykhal\",\"mount gambier\",\"bridgewater\",\"talcahuano\",\"vorgashor\",\"broken hill\",\"utrik\",\"pangody\",\"qaqortoq\",\"les avirons\",\"naracoorte\",\"kalmunai\",\"lihue\",\"mar del plata\",\"roquebrune-cap-martin\",\"petropavlovsk-kamchatsky\",\"nushki\",\"dhemaji\",\"villa gesell\",\"oromocto\",\"bodaybo\",\"daru\",\"nova sintra\",\"petawawa\",\"carnarvon\",\"abdanan\",\"inari\",\"carloforte\",\"kario ghanwar\",\"hawaiian paradise park\",\"anloga\",\"al kharijah\",\"kapuskasing\",\"al qadarif\",\"bayanhongor\",\"port lincoln\",\"moses lake\",\"titao\",\"camaguey\",\"pontianak\",\"san andres\",\"fale old settlement\",\"poronaysk\",\"tura\",\"east london\",\"sitka\",\"la passe\",\"karratha\",\"apple valley\",\"alice springs\",\"vorkuta\",\"happy valley-goose bay\",\"buarcos\",\"karabash\",\"san ramon\",\"constitucion\",\"san luis de la loma\",\"sanandrei\",\"thompson\",\"machiques\",\"quellon\",\"greymouth\",\"nagqu\",\"ponta delgada\",\"college\",\"were ilu\",\"marka\",\"polyarnyy\",\"janiuay\",\"bouar\",\"chui\",\"kiunga\",\"banting\",\"lompoc\",\"pionerskiy\",\"lebu\",\"buchanan\",\"ta`u\",\"tangalle\",\"port saint john's\",\"haiku-pauwela\",\"kapa'a\",\"adam\",\"oum hadjer\",\"sungailiat\",\"tubarjal\",\"cortez\",\"tionk essil\",\"piranhas\",\"alenquer\",\"perry\",\"zhangjiakou shi xuanhua qu\",\"mossel bay\",\"bambanglipuro\",\"nar'yan-mar\",\"tvoroyri\",\"badger\",\"pacific grove\",\"shimoda\",\"labrador city\",\"severo-yeniseyskiy\",\"la barceloneta\",\"sarykemer\",\"sogndal\",\"wuwei\",\"porto murtinho\",\"iskateley\",\"grootfontein\",\"weno\",\"santa luzia\",\"udachny\",\"qarqaraly\",\"puerto yuca\",\"gisborne\",\"faya-largeau\",\"copala\",\"wenling\",\"burang\",\"fortuna\",\"sabha\",\"curup\",\"qamdo\",\"zaozersk\",\"isafjordur\",\"breckenridge\",\"san patricio\",\"ugoofaaru\",\"gizo\",\"znamenskoye\",\"lensk\",\"crane\",\"itamaraca\",\"lazarevskoye\",\"jackson\",\"uturoa\",\"portland\",\"kone\",\"granby\",\"lugoff\",\"cabedelo\",\"pisco\",\"palmer\",\"pursat\",\"sogne\",\"susuman\",\"walvis bay\",\"fort st. john\",\"puerto aysen\",\"saint-joseph\",\"guadalupe y calvo\",\"upata\",\"alofi\",\"pirot\",\"ola\",\"tazacorte\",\"zvezdnyy\",\"antofagasta\",\"tsiombe\",\"pinarbasi\",\"ust'-barguzin\",\"kruisfontein\",\"mikuni\",\"dursley\",\"anda\",\"pangoa\",\"margate\",\"flying fish cove\",\"weisswasser\",\"halmstad\",\"bac lieu\",\"storvreta\",\"al jawf\",\"padang\",\"beykonak\",\"tarapur\",\"constantia\",\"vilyuysk\",\"kulhudhuffushi\",\"gagliano del capo\",\"tocopilla\",\"saurimo\",\"puerto san jose\",\"punta arenas\",\"hinton\",\"ocean city\",\"noosa heads\",\"pandan\",\"san fernando de apure\",\"kingston\",\"annaba\",\"el granada\",\"kirakira\",\"cidade velha\",\"saint-pierre\",\"verkhnevilyuysk\",\"alamosa\",\"san-pedro\",\"bela\",\"nantucket\",\"ixtapa\",\"mejit\",\"chibougamau\",\"sultanah\",\"tazovsky\",\"palikir - national government center\",\"detroit lakes\",\"takoradi\",\"dickinson\",\"wajir\",\"sur\",\"fallon\",\"rudnichnyy\",\"kenai\",\"ambon\",\"charters towers\",\"la palma\",\"slave lake\",\"las khorey\",\"lengshuitan\",\"abadan\",\"tuntum\",\"cimitarra\",\"lazaro cardenas\",\"novodvinsk\",\"yuzhno-kurilsk\",\"tchintabaraden\",\"puerto madero\",\"sinan\",\"winterset\",\"kindu\",\"chulakkurgan\",\"kingscliff\",\"wucheng\",\"fisterra\",\"coahuayana de hidalgo\",\"ilulissat\",\"bodo\",\"galle\",\"watsa\",\"port douglas\",\"tenenkou\",\"antsiranana\",\"chiredzi\",\"keban\",\"iqaluit\",\"queenstown\",\"mount isa\",\"budva\",\"saudarkrokur\",\"remire-montjoly\",\"caleta de carquin\",\"banda aceh\",\"papao\",\"gouyave\",\"poltavka\",\"island harbour\",\"alta\",\"swift current\",\"salalah\",\"pendleton\",\"san jose del guaviare\",\"roma\",\"verkh-chebula\",\"emerald\",\"indramayu\",\"franceville\",\"sao felix do xingu\",\"mazyr\",\"daokou\",\"christchurch\",\"santa elena\",\"georgiyevka\",\"callao\",\"yanam\",\"plastun\",\"saipan\",\"ylitornio\",\"neftcala\",\"alexander city\",\"daman\",\"olyokminsk\",\"heihe\",\"urangan\",\"sumbawa besar\",\"egilsstadir\",\"ulsteinvik\",\"geraldton\",\"muli\",\"kigorobya\",\"bengkulu\",\"pasuquin\",\"bazarnyye mataki\",\"cox's bazar\",\"riosucio\",\"holualoa\",\"glace bay\",\"ban houakhoua\",\"vila velha\",\"mili\",\"yuzhno-sukhokumsk\",\"ust'-ilimsk\",\"sinop\",\"betio village\",\"mabaruma\",\"okhotsk\",\"aral\",\"keflavik\",\"nabire\",\"melipilla\",\"dawson creek\",\"sao gabriel da cachoeira\",\"tual\",\"yur'yevets\",\"portoferraio\",\"cambria\",\"goure\",\"sabang\",\"nishinoomote\",\"jijel\",\"lata\",\"poco branco\",\"kurchum\",\"lhasa\",\"hobyo\",\"bocas del toro\",\"san pedro piedra gorda\",\"cidreira\",\"tikapur\",\"inverloch\",\"maragogi\",\"strezhevoy\",\"yorkton\",\"al qusayr\",\"noumea\",\"dolores\",\"trevelin\",\"mocimboa\",\"ghadamis\",\"pimentel\",\"wanning\",\"kosonsoy\",\"mareeba\",\"victoria\",\"jijiga\",\"el calafate\",\"puri\",\"boysun\",\"columbus\",\"rocha\",\"higuera de zaragoza\",\"saint john\",\"vallenar\",\"carutapera\",\"mawu\",\"vargashi\",\"rtishchevo\",\"puerto rosario\",\"harran\",\"ciudad lazaro cardenas\",\"sainte-suzanne\",\"pyhaselka\",\"machico\",\"la sarre\",\"al burayqah\",\"raja\",\"pariaman\",\"isangel\",\"ceeldheer\",\"kapoeta\",\"vernon\",\"howard springs\",\"beyneu\",\"tralee\",\"cafayate\",\"manokwari\",\"lakatoro\",\"tres lagoas\",\"shache\",\"iwaki\",\"mashi\",\"kuanda\",\"yaren\",\"guerrero negro\",\"aljustrel\",\"sorsk\",\"den burg\",\"guiratinga\",\"kailua-kona\",\"whangarei\",\"moog\",\"tongchuanshi\",\"butterworth\",\"kalifornsky\",\"kodinsk\",\"nyamuswa\",\"mykhaylivka\",\"ca mau\",\"nikolayevsk-on-amure\",\"gaigeturi\",\"winneba\",\"methuen\",\"jinchang\",\"limon\",\"addis ababa\",\"fort bragg\",\"navrongo\",\"xining\",\"hammerfest\",\"pathein\",\"sandersville\",\"khandyga\",\"voznesenskoye\",\"hasaki\",\"pak phanang\",\"uray\",\"tobelo\",\"san pedro pochutla\",\"conduaga\",\"masterton\"],\"size\":{\"__ndarray__\":\"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\",\"dtype\":\"float64\",\"order\":\"little\",\"shape\":[557]}},\"selected\":{\"id\":\"1355\"},\"selection_policy\":{\"id\":\"1367\"}},\"id\":\"1354\",\"type\":\"ColumnDataSource\"},{\"attributes\":{\"bottom_units\":\"screen\",\"coordinates\":null,\"fill_alpha\":0.5,\"fill_color\":\"lightgrey\",\"group\":null,\"left_units\":\"screen\",\"level\":\"overlay\",\"line_alpha\":1.0,\"line_color\":\"black\",\"line_dash\":[4,4],\"line_width\":2,\"right_units\":\"screen\",\"syncable\":false,\"top_units\":\"screen\"},\"id\":\"1312\",\"type\":\"BoxAnnotation\"},{\"attributes\":{},\"id\":\"1355\",\"type\":\"Selection\"},{\"attributes\":{\"dimension\":\"lat\"},\"id\":\"1325\",\"type\":\"MercatorTickFormatter\"},{\"attributes\":{\"end\":19691973.59267461,\"min_interval\":5,\"reset_end\":19691973.59267461,\"reset_start\":-12528330.553479139,\"start\":-12528330.553479139,\"tags\":[[[\"Lat\",\"Lat\",null]]]},\"id\":\"1284\",\"type\":\"Range1d\"},{\"attributes\":{\"fill_alpha\":{\"value\":0.1},\"fill_color\":{\"field\":\"color\",\"transform\":{\"id\":\"1353\"}},\"hatch_alpha\":{\"value\":0.1},\"hatch_color\":{\"field\":\"color\",\"transform\":{\"id\":\"1353\"}},\"line_alpha\":{\"value\":0.1},\"line_color\":{\"field\":\"color\",\"transform\":{\"id\":\"1353\"}},\"size\":{\"field\":\"size\"},\"x\":{\"field\":\"Lng\"},\"y\":{\"field\":\"Lat\"}},\"id\":\"1358\",\"type\":\"Scatter\"},{\"attributes\":{\"active_drag\":{\"id\":\"1308\"},\"active_scroll\":{\"id\":\"1309\"},\"tools\":[{\"id\":\"1287\"},{\"id\":\"1307\"},{\"id\":\"1308\"},{\"id\":\"1309\"},{\"id\":\"1310\"},{\"id\":\"1311\"}]},\"id\":\"1313\",\"type\":\"Toolbar\"},{\"attributes\":{\"attribution\":\"&copy; <a href=\\\"https://www.openstreetmap.org/copyright\\\">OpenStreetMap</a> contributors\",\"url\":\"https://c.tile.openstreetmap.org/{Z}/{X}/{Y}.png\"},\"id\":\"1348\",\"type\":\"WMTSTileSource\"},{\"attributes\":{\"callback\":null,\"formatters\":{\"$x\":{\"id\":\"1372\"},\"$y\":{\"id\":\"1373\"}},\"renderers\":[{\"id\":\"1362\"}],\"tags\":[\"hv_created\"],\"tooltips\":[[\"Lng\",\"$x{custom}\"],[\"Lat\",\"$y{custom}\"],[\"City\",\"@{City}\"],[\"Humidity\",\"@{Humidity}\"]]},\"id\":\"1287\",\"type\":\"HoverTool\"},{\"attributes\":{},\"id\":\"1295\",\"type\":\"LinearScale\"},{\"attributes\":{\"source\":{\"id\":\"1354\"}},\"id\":\"1363\",\"type\":\"CDSView\"},{\"attributes\":{\"dimension\":\"lon\"},\"id\":\"1323\",\"type\":\"MercatorTickFormatter\"},{\"attributes\":{},\"id\":\"1297\",\"type\":\"LinearScale\"},{\"attributes\":{},\"id\":\"1328\",\"type\":\"AllLabels\"},{\"attributes\":{\"below\":[{\"id\":\"1299\"}],\"center\":[{\"id\":\"1302\"},{\"id\":\"1306\"}],\"frame_height\":500,\"frame_width\":700,\"height\":null,\"left\":[{\"id\":\"1303\"}],\"margin\":[5,5,5,5],\"match_aspect\":true,\"min_border_bottom\":10,\"min_border_left\":10,\"min_border_right\":10,\"min_border_top\":10,\"renderers\":[{\"id\":\"1351\"},{\"id\":\"1362\"}],\"right\":[{\"id\":\"1370\"}],\"sizing_mode\":\"fixed\",\"title\":{\"id\":\"1291\"},\"toolbar\":{\"id\":\"1313\"},\"width\":null,\"x_range\":{\"id\":\"1283\"},\"x_scale\":{\"id\":\"1295\"},\"y_range\":{\"id\":\"1284\"},\"y_scale\":{\"id\":\"1297\"}},\"id\":\"1290\",\"subtype\":\"Figure\",\"type\":\"Plot\"},{\"attributes\":{\"dimension\":\"lat\"},\"id\":\"1324\",\"type\":\"MercatorTicker\"},{\"attributes\":{\"axis_label\":\"x\",\"coordinates\":null,\"formatter\":{\"id\":\"1323\"},\"group\":null,\"major_label_policy\":{\"id\":\"1328\"},\"ticker\":{\"id\":\"1322\"}},\"id\":\"1299\",\"type\":\"LinearAxis\"},{\"attributes\":{\"dimension\":\"lon\"},\"id\":\"1322\",\"type\":\"MercatorTicker\"},{\"attributes\":{\"axis\":{\"id\":\"1299\"},\"coordinates\":null,\"grid_line_color\":null,\"group\":null,\"ticker\":null},\"id\":\"1302\",\"type\":\"Grid\"},{\"attributes\":{\"children\":[{\"id\":\"1290\"}],\"margin\":[0,0,0,0],\"name\":\"Row01922\",\"sizing_mode\":\"fixed\",\"tags\":[\"embedded\"]},\"id\":\"1278\",\"type\":\"Row\"},{\"attributes\":{\"end\":22634613.404533062,\"min_interval\":5,\"reset_end\":22634613.404533062,\"reset_start\":-22473812.400082186,\"start\":-22473812.400082186,\"tags\":[[[\"Lng\",\"Lng\",null]]]},\"id\":\"1283\",\"type\":\"Range1d\"},{\"attributes\":{},\"id\":\"1367\",\"type\":\"UnionRenderers\"},{\"attributes\":{\"coordinates\":null,\"group\":null,\"level\":\"glyph\",\"tile_source\":{\"id\":\"1348\"}},\"id\":\"1351\",\"type\":\"TileRenderer\"},{\"attributes\":{},\"id\":\"1335\",\"type\":\"AllLabels\"},{\"attributes\":{\"fill_color\":{\"field\":\"color\",\"transform\":{\"id\":\"1353\"}},\"hatch_color\":{\"field\":\"color\",\"transform\":{\"id\":\"1353\"}},\"line_color\":{\"field\":\"color\",\"transform\":{\"id\":\"1353\"}},\"size\":{\"field\":\"size\"},\"x\":{\"field\":\"Lng\"},\"y\":{\"field\":\"Lat\"}},\"id\":\"1357\",\"type\":\"Scatter\"}],\"root_ids\":[\"1278\"]},\"title\":\"Bokeh Application\",\"version\":\"2.4.3\"}};\n",
       "    var render_items = [{\"docid\":\"91a1d233-d24f-4c4c-8222-9f1a517fb303\",\"root_ids\":[\"1278\"],\"roots\":{\"1278\":\"ce8aaa31-4c1c-4800-8df6-27ada5572efb\"}}];\n",
       "    root.Bokeh.embed.embed_items_notebook(docs_json, render_items);\n",
       "    for (const render_item of render_items) {\n",
       "      for (const root_id of render_item.root_ids) {\n",
       "\tconst id_el = document.getElementById(root_id)\n",
       "\tif (id_el.children.length && (id_el.children[0].className === 'bk-root')) {\n",
       "\t  const root_el = id_el.children[0]\n",
       "\t  root_el.id = root_el.id + '-rendered'\n",
       "\t}\n",
       "      }\n",
       "    }\n",
       "  }\n",
       "  if (root.Bokeh !== undefined && root.Bokeh.Panel !== undefined) {\n",
       "    embed_document(root);\n",
       "  } else {\n",
       "    var attempts = 0;\n",
       "    var timer = setInterval(function(root) {\n",
       "      if (root.Bokeh !== undefined && root.Bokeh.Panel !== undefined) {\n",
       "        clearInterval(timer);\n",
       "        embed_document(root);\n",
       "      } else if (document.readyState == \"complete\") {\n",
       "        attempts++;\n",
       "        if (attempts > 200) {\n",
       "          clearInterval(timer);\n",
       "          console.log(\"Bokeh: ERROR: Unable to run BokehJS code because BokehJS library is missing\");\n",
       "        }\n",
       "      }\n",
       "    }, 25, root)\n",
       "  }\n",
       "})(window);</script>"
      ],
      "text/plain": [
       ":Overlay\n",
       "   .Tiles.I  :Tiles   [x,y]\n",
       "   .Points.I :Points   [Lng,Lat]   (City,Humidity)"
      ]
     },
     "execution_count": 27,
     "metadata": {
      "application/vnd.holoviews_exec.v0+json": {
       "id": "1278"
      }
     },
     "output_type": "execute_result"
    }
   ],
   "source": [
    "%%capture --no-display\n",
    "\n",
    "# Configure the map plot\n",
    "map_plot = city_data_df.hvplot.points(\n",
    "    \"Lng\",\n",
    "    \"Lat\",\n",
    "    geo = True,\n",
    "    tiles = \"OSM\",\n",
    "    frame_width = 700,\n",
    "    frame_height = 500,\n",
    "    size = \"Humidity\",\n",
    "    color = \"City\")\n",
    "\n",
    "# Display the map plot\n",
    "map_plot"
   ]
  },
  {
   "cell_type": "markdown",
   "metadata": {},
   "source": [
    "### Step 2: Narrow down the `city_data_df` DataFrame to find your ideal weather condition"
   ]
  },
  {
   "cell_type": "code",
   "execution_count": 28,
   "metadata": {},
   "outputs": [
    {
     "data": {
      "text/html": [
       "<div>\n",
       "<style scoped>\n",
       "    .dataframe tbody tr th:only-of-type {\n",
       "        vertical-align: middle;\n",
       "    }\n",
       "\n",
       "    .dataframe tbody tr th {\n",
       "        vertical-align: top;\n",
       "    }\n",
       "\n",
       "    .dataframe thead th {\n",
       "        text-align: right;\n",
       "    }\n",
       "</style>\n",
       "<table border=\"1\" class=\"dataframe\">\n",
       "  <thead>\n",
       "    <tr style=\"text-align: right;\">\n",
       "      <th></th>\n",
       "      <th>City_ID</th>\n",
       "      <th>City</th>\n",
       "      <th>Lat</th>\n",
       "      <th>Lng</th>\n",
       "      <th>Max Temp</th>\n",
       "      <th>Humidity</th>\n",
       "      <th>Cloudiness</th>\n",
       "      <th>Wind Speed</th>\n",
       "      <th>Country</th>\n",
       "      <th>Date</th>\n",
       "    </tr>\n",
       "  </thead>\n",
       "  <tbody>\n",
       "  </tbody>\n",
       "</table>\n",
       "</div>"
      ],
      "text/plain": [
       "Empty DataFrame\n",
       "Columns: [City_ID, City, Lat, Lng, Max Temp, Humidity, Cloudiness, Wind Speed, Country, Date]\n",
       "Index: []"
      ]
     },
     "execution_count": 28,
     "metadata": {},
     "output_type": "execute_result"
    }
   ],
   "source": [
    " # Narrow down cities that fit criteria and drop any results with null values\n",
    "narrowed_city_df = city_data_df.loc[\n",
    "    (city_data_df[\"Max Temp\"] < 27) & (city_data_df[\"Max Temp\"] > 21) \\\n",
    "    & (city_data_df[\"Wind Speed\"] < 4.5) \\\n",
    "    & (city_data_df[\"Cloudiness\"] == 0)\n",
    "]\n",
    "\n",
    "# Drop any rows with null values\n",
    "narrowed_city_df = narrowed_city_df.dropna()\n",
    "\n",
    "# Display sample data\n",
    "narrowed_city_df"
   ]
  },
  {
   "cell_type": "markdown",
   "metadata": {},
   "source": [
    "### Step 3: Create a new DataFrame called `hotel_df`."
   ]
  },
  {
   "cell_type": "code",
   "execution_count": 20,
   "metadata": {},
   "outputs": [
    {
     "data": {
      "text/html": [
       "<div>\n",
       "<style scoped>\n",
       "    .dataframe tbody tr th:only-of-type {\n",
       "        vertical-align: middle;\n",
       "    }\n",
       "\n",
       "    .dataframe tbody tr th {\n",
       "        vertical-align: top;\n",
       "    }\n",
       "\n",
       "    .dataframe thead th {\n",
       "        text-align: right;\n",
       "    }\n",
       "</style>\n",
       "<table border=\"1\" class=\"dataframe\">\n",
       "  <thead>\n",
       "    <tr style=\"text-align: right;\">\n",
       "      <th></th>\n",
       "      <th>City</th>\n",
       "      <th>Country</th>\n",
       "      <th>Lat</th>\n",
       "      <th>Lng</th>\n",
       "      <th>Humidity</th>\n",
       "      <th>Hotel Name</th>\n",
       "    </tr>\n",
       "  </thead>\n",
       "  <tbody>\n",
       "  </tbody>\n",
       "</table>\n",
       "</div>"
      ],
      "text/plain": [
       "Empty DataFrame\n",
       "Columns: [City, Country, Lat, Lng, Humidity, Hotel Name]\n",
       "Index: []"
      ]
     },
     "execution_count": 20,
     "metadata": {},
     "output_type": "execute_result"
    }
   ],
   "source": [
    "# Use the Pandas copy function to create DataFrame called hotel_df to store the city, country, coordinates, and humidity\n",
    "hotel_df = narrowed_city_df[[\"City\", \"Country\", \"Lat\", \"Lng\", \"Humidity\"]].copy()\n",
    "\n",
    "# Add an empty column, \"Hotel Name,\" to the DataFrame so you can store the hotel found using the Geoapify API\n",
    "hotel_df[\"Hotel Name\"] = \"\"\n",
    "\n",
    "# Display sample data\n",
    "hotel_df"
   ]
  },
  {
   "cell_type": "markdown",
   "metadata": {},
   "source": [
    "### Step 4: For each city, use the Geoapify API to find the first hotel located within 10,000 metres of your coordinates."
   ]
  },
  {
   "cell_type": "code",
   "execution_count": 25,
   "metadata": {},
   "outputs": [
    {
     "name": "stdout",
     "output_type": "stream",
     "text": [
      "Starting hotel search\n"
     ]
    },
    {
     "data": {
      "text/html": [
       "<div>\n",
       "<style scoped>\n",
       "    .dataframe tbody tr th:only-of-type {\n",
       "        vertical-align: middle;\n",
       "    }\n",
       "\n",
       "    .dataframe tbody tr th {\n",
       "        vertical-align: top;\n",
       "    }\n",
       "\n",
       "    .dataframe thead th {\n",
       "        text-align: right;\n",
       "    }\n",
       "</style>\n",
       "<table border=\"1\" class=\"dataframe\">\n",
       "  <thead>\n",
       "    <tr style=\"text-align: right;\">\n",
       "      <th></th>\n",
       "      <th>City</th>\n",
       "      <th>Country</th>\n",
       "      <th>Lat</th>\n",
       "      <th>Lng</th>\n",
       "      <th>Humidity</th>\n",
       "      <th>Hotel Name</th>\n",
       "    </tr>\n",
       "  </thead>\n",
       "  <tbody>\n",
       "  </tbody>\n",
       "</table>\n",
       "</div>"
      ],
      "text/plain": [
       "Empty DataFrame\n",
       "Columns: [City, Country, Lat, Lng, Humidity, Hotel Name]\n",
       "Index: []"
      ]
     },
     "execution_count": 25,
     "metadata": {},
     "output_type": "execute_result"
    }
   ],
   "source": [
    "# Set parameters to search for a hotel\n",
    "radius = 10000\n",
    "params = {\n",
    "    \"categories\":\"accommodation.hotel\",\n",
    "    \"apiKey\": geoapify_key,\n",
    "    \"limit\":20\n",
    "}\n",
    "\n",
    "# Print a message to follow up the hotel search\n",
    "print(\"Starting hotel search\")\n",
    "\n",
    "# Iterate through the hotel_df DataFrame\n",
    "for index, row in hotel_df.iterrows():\n",
    "    # get latitude, longitude from the DataFrame\n",
    "    latitude = row[\"Lat\"]\n",
    "    longitude = row[\"Lng\"]\n",
    "    \n",
    "    # Add filter and bias parameters with the current city's latitude and longitude to the params dictionary\n",
    "    params[\"filter\"] = f\"circle:{longitude},{latitude},{radius}\"\n",
    "    params[\"bias\"] = f\"proximity:{longitude},{latitude}\"\n",
    "    \n",
    "    # Set base URL\n",
    "    base_url = \"https://api.geoapify.com/v2/places\"\n",
    "\n",
    "\n",
    "    # Make and API request using the params dictionaty\n",
    "    name_address = requests.get(base_url, params=params)\n",
    "    \n",
    "    # Convert the API response to JSON format\n",
    "    name_address = name_address.json()\n",
    "    \n",
    "    # Grab the first hotel from the results and store the name in the hotel_df DataFrame\n",
    "    try:\n",
    "        hotel_df.loc[index, \"Hotel Name\"] = name_address[\"features\"][0][\"properties\"][\"name\"]\n",
    "    except (KeyError, IndexError):\n",
    "        # If no hotel is found, set the hotel name as \"No hotel found\".\n",
    "        hotel_df.loc[index, \"Hotel Name\"] = \"No hotel found\"\n",
    "        \n",
    "    # Log the search results\n",
    "    print(f\"{hotel_df.loc[index, 'City']} - nearest hotel: {hotel_df.loc[index, 'Hotel Name']}\")\n",
    "\n",
    "# Display sample data\n",
    "hotel_df"
   ]
  },
  {
   "cell_type": "markdown",
   "metadata": {},
   "source": [
    "### Step 5: Add the hotel name and the country as additional information in the hover message for each city in the map."
   ]
  },
  {
   "cell_type": "code",
   "execution_count": null,
   "metadata": {},
   "outputs": [],
   "source": [
    "%%capture --no-display\n",
    "\n",
    "# Configure the map plot\n",
    "# YOUR CODE HERE\n",
    "\n",
    "# Display the map\n",
    "# YOUR CODE HERE"
   ]
  },
  {
   "cell_type": "code",
   "execution_count": null,
   "metadata": {},
   "outputs": [],
   "source": []
  }
 ],
 "metadata": {
  "kernelspec": {
   "display_name": "Python 3 (ipykernel)",
   "language": "python",
   "name": "python3"
  },
  "language_info": {
   "codemirror_mode": {
    "name": "ipython",
    "version": 3
   },
   "file_extension": ".py",
   "mimetype": "text/x-python",
   "name": "python",
   "nbconvert_exporter": "python",
   "pygments_lexer": "ipython3",
   "version": "3.10.9"
  },
  "latex_envs": {
   "LaTeX_envs_menu_present": true,
   "autoclose": false,
   "autocomplete": true,
   "bibliofile": "biblio.bib",
   "cite_by": "apalike",
   "current_citInitial": 1,
   "eqLabelWithNumbers": true,
   "eqNumInitial": 1,
   "hotkeys": {
    "equation": "Ctrl-E",
    "itemize": "Ctrl-I"
   },
   "labels_anchors": false,
   "latex_user_defs": false,
   "report_style_numbering": false,
   "user_envs_cfg": false
  }
 },
 "nbformat": 4,
 "nbformat_minor": 4
}
