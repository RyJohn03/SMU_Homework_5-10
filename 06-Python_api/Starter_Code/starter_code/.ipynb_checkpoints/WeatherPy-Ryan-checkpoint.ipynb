{
 "cells": [
  {
   "cell_type": "markdown",
   "metadata": {},
   "source": [
    "# WeatherPy\n",
    "\n",
    "---\n",
    "\n",
    "## Starter Code to Generate Random Geographic Coordinates and a List of Cities"
   ]
  },
  {
   "cell_type": "code",
   "execution_count": 1,
   "metadata": {
    "scrolled": true
   },
   "outputs": [],
   "source": [
    "# Dependencies and Setup\n",
    "import matplotlib.pyplot as plt\n",
    "import pandas as pd\n",
    "import numpy as np\n",
    "import requests\n",
    "import time\n",
    "from scipy.stats import linregress\n",
    "\n",
    "# Impor the OpenWeatherMap API key\n",
    "from api_keys import weather_api_key\n",
    "\n",
    "# Import citipy to determine the cities based on latitude and longitude\n",
    "from citipy import citipy"
   ]
  },
  {
   "cell_type": "markdown",
   "metadata": {},
   "source": [
    "### Generate the Cities List by Using the `citipy` Library"
   ]
  },
  {
   "cell_type": "code",
   "execution_count": 2,
   "metadata": {},
   "outputs": [
    {
     "name": "stdout",
     "output_type": "stream",
     "text": [
      "Number of cities in the list: 604\n"
     ]
    }
   ],
   "source": [
    "# Empty list for holding the latitude and longitude combinations\n",
    "lat_lngs = []\n",
    "\n",
    "# Empty list for holding the cities names\n",
    "cities = []\n",
    "\n",
    "# Range of latitudes and longitudes\n",
    "lat_range = (-90, 90)\n",
    "lng_range = (-180, 180)\n",
    "\n",
    "# Create a set of random lat and lng combinations\n",
    "lats = np.random.uniform(lat_range[0], lat_range[1], size=1500)\n",
    "lngs = np.random.uniform(lng_range[0], lng_range[1], size=1500)\n",
    "lat_lngs = zip(lats, lngs)\n",
    "\n",
    "# Identify nearest city for each lat, lng combination\n",
    "for lat_lng in lat_lngs:\n",
    "    city = citipy.nearest_city(lat_lng[0], lat_lng[1]).city_name\n",
    "    \n",
    "    # If the city is unique, then add it to a our cities list\n",
    "    if city not in cities:\n",
    "        cities.append(city)\n",
    "\n",
    "# Print the city count to confirm sufficient count\n",
    "print(f\"Number of cities in the list: {len(cities)}\")"
   ]
  },
  {
   "cell_type": "markdown",
   "metadata": {},
   "source": [
    "---"
   ]
  },
  {
   "cell_type": "markdown",
   "metadata": {},
   "source": [
    "## Requirement 1: Create Plots to Showcase the Relationship Between Weather Variables and Latitude\n",
    "\n",
    "### Use the OpenWeatherMap API to retrieve weather data from the cities list generated in the started code"
   ]
  },
  {
   "cell_type": "code",
   "execution_count": null,
   "metadata": {},
   "outputs": [
    {
     "name": "stdout",
     "output_type": "stream",
     "text": [
      "Beginning Data Retrieval     \n",
      "-----------------------------\n",
      "Processing Record 1 of Set 1 | puerto natales\n",
      "City not found. Skipping...\n",
      "Processing Record 2 of Set 1 | chonchi\n",
      "City not found. Skipping...\n",
      "Processing Record 3 of Set 1 | taiohae\n",
      "City not found. Skipping...\n",
      "Processing Record 4 of Set 1 | kapa'a\n",
      "City not found. Skipping...\n",
      "Processing Record 5 of Set 1 | port-aux-francais\n",
      "City not found. Skipping...\n",
      "Processing Record 6 of Set 1 | padre bernardo\n",
      "City not found. Skipping...\n",
      "Processing Record 7 of Set 1 | waitangi\n",
      "City not found. Skipping...\n",
      "Processing Record 8 of Set 1 | dudinka\n",
      "City not found. Skipping...\n",
      "Processing Record 9 of Set 1 | olonkinbyen\n",
      "City not found. Skipping...\n",
      "Processing Record 10 of Set 1 | rio grande\n",
      "City not found. Skipping...\n",
      "Processing Record 11 of Set 1 | wanganui\n",
      "City not found. Skipping...\n",
      "Processing Record 12 of Set 1 | polyarnyy\n",
      "City not found. Skipping...\n",
      "Processing Record 13 of Set 1 | lamu\n",
      "City not found. Skipping...\n",
      "Processing Record 14 of Set 1 | west island\n",
      "City not found. Skipping...\n",
      "Processing Record 15 of Set 1 | klyuchi\n",
      "City not found. Skipping...\n",
      "Processing Record 16 of Set 1 | ilulissat\n",
      "City not found. Skipping...\n",
      "Processing Record 17 of Set 1 | yellowknife\n",
      "City not found. Skipping...\n",
      "Processing Record 18 of Set 1 | lhokseumawe\n",
      "City not found. Skipping...\n",
      "Processing Record 19 of Set 1 | adamstown\n",
      "City not found. Skipping...\n",
      "Processing Record 20 of Set 1 | aden\n",
      "City not found. Skipping...\n",
      "Processing Record 21 of Set 1 | bethel\n",
      "City not found. Skipping...\n",
      "Processing Record 22 of Set 1 | dawson creek\n",
      "City not found. Skipping...\n",
      "Processing Record 23 of Set 1 | mohgaon\n",
      "City not found. Skipping...\n",
      "Processing Record 24 of Set 1 | arraial do cabo\n",
      "City not found. Skipping...\n",
      "Processing Record 25 of Set 1 | fale old settlement\n",
      "City not found. Skipping...\n",
      "Processing Record 26 of Set 1 | huron\n",
      "City not found. Skipping...\n",
      "Processing Record 27 of Set 1 | lebu\n",
      "City not found. Skipping...\n",
      "Processing Record 28 of Set 1 | pathein\n",
      "City not found. Skipping...\n",
      "Processing Record 29 of Set 1 | saipan\n",
      "City not found. Skipping...\n",
      "Processing Record 30 of Set 1 | puerto baquerizo moreno\n",
      "City not found. Skipping...\n",
      "Processing Record 31 of Set 1 | gori\n",
      "City not found. Skipping...\n",
      "Processing Record 32 of Set 1 | grytviken\n",
      "City not found. Skipping...\n",
      "Processing Record 33 of Set 1 | puerto san carlos\n",
      "City not found. Skipping...\n",
      "Processing Record 34 of Set 1 | jamestown\n",
      "City not found. Skipping...\n",
      "Processing Record 35 of Set 1 | las vegas\n",
      "City not found. Skipping...\n",
      "Processing Record 36 of Set 1 | albany\n",
      "City not found. Skipping...\n",
      "Processing Record 37 of Set 1 | iqaluit\n",
      "City not found. Skipping...\n",
      "Processing Record 38 of Set 1 | udachny\n",
      "City not found. Skipping...\n",
      "Processing Record 39 of Set 1 | arroyo\n",
      "City not found. Skipping...\n",
      "Processing Record 40 of Set 1 | st. john's\n",
      "City not found. Skipping...\n",
      "Processing Record 41 of Set 1 | abu jibeha\n",
      "City not found. Skipping...\n",
      "Processing Record 42 of Set 1 | villanueva\n",
      "City not found. Skipping...\n",
      "Processing Record 43 of Set 1 | alofi\n",
      "City not found. Skipping...\n",
      "Processing Record 44 of Set 1 | isafjordur\n",
      "City not found. Skipping...\n",
      "Processing Record 45 of Set 1 | varkaus\n",
      "City not found. Skipping...\n",
      "Processing Record 46 of Set 1 | ytrebygda\n",
      "City not found. Skipping...\n",
      "Processing Record 47 of Set 1 | vorgashor\n",
      "City not found. Skipping...\n",
      "Processing Record 48 of Set 1 | hotan\n",
      "City not found. Skipping...\n",
      "Processing Record 49 of Set 1 | hawaiian paradise park\n",
      "City not found. Skipping...\n",
      "Processing Record 50 of Set 1 | zhangye\n",
      "City not found. Skipping...\n",
      "Processing Record 0 of Set 2 | isle of lewis\n",
      "City not found. Skipping...\n",
      "Processing Record 1 of Set 2 | papatowai\n",
      "City not found. Skipping...\n",
      "Processing Record 2 of Set 2 | sandnessjoen\n",
      "City not found. Skipping...\n",
      "Processing Record 3 of Set 2 | rawson\n",
      "City not found. Skipping...\n",
      "Processing Record 4 of Set 2 | edinburgh of the seven seas\n",
      "City not found. Skipping...\n",
      "Processing Record 5 of Set 2 | enewetak\n",
      "City not found. Skipping...\n",
      "Processing Record 6 of Set 2 | port elizabeth\n",
      "City not found. Skipping...\n",
      "Processing Record 7 of Set 2 | whitehorse\n",
      "City not found. Skipping...\n",
      "Processing Record 8 of Set 2 | cozumel\n",
      "City not found. Skipping...\n",
      "Processing Record 9 of Set 2 | yomju-up\n",
      "City not found. Skipping...\n",
      "Processing Record 10 of Set 2 | evergreen\n",
      "City not found. Skipping...\n",
      "Processing Record 11 of Set 2 | hayma'\n",
      "City not found. Skipping...\n",
      "Processing Record 12 of Set 2 | estevan\n",
      "City not found. Skipping...\n",
      "Processing Record 13 of Set 2 | burela de cabo\n",
      "City not found. Skipping...\n",
      "Processing Record 14 of Set 2 | port alfred\n",
      "City not found. Skipping...\n",
      "Processing Record 15 of Set 2 | badger\n",
      "City not found. Skipping...\n",
      "Processing Record 16 of Set 2 | novyy urengoy\n",
      "City not found. Skipping...\n",
      "Processing Record 17 of Set 2 | sinjai\n",
      "City not found. Skipping...\n",
      "Processing Record 18 of Set 2 | margaret river\n",
      "City not found. Skipping...\n",
      "Processing Record 19 of Set 2 | ushuaia\n",
      "City not found. Skipping...\n",
      "Processing Record 20 of Set 2 | puerto ayora\n",
      "City not found. Skipping...\n",
      "Processing Record 21 of Set 2 | stanley\n",
      "City not found. Skipping...\n",
      "Processing Record 22 of Set 2 | ad-damazin\n",
      "City not found. Skipping...\n",
      "Processing Record 23 of Set 2 | vorkuta\n",
      "City not found. Skipping...\n",
      "Processing Record 24 of Set 2 | namsos\n",
      "City not found. Skipping...\n",
      "Processing Record 25 of Set 2 | trogir\n",
      "City not found. Skipping...\n",
      "Processing Record 26 of Set 2 | okhotsk\n",
      "City not found. Skipping...\n",
      "Processing Record 27 of Set 2 | tazovsky\n",
      "City not found. Skipping...\n",
      "Processing Record 28 of Set 2 | wynyard\n",
      "City not found. Skipping...\n",
      "Processing Record 29 of Set 2 | sisimiut\n",
      "City not found. Skipping...\n",
      "Processing Record 30 of Set 2 | marica\n",
      "City not found. Skipping...\n",
      "Processing Record 31 of Set 2 | miquelon\n",
      "City not found. Skipping...\n",
      "Processing Record 32 of Set 2 | laojunmiao\n",
      "City not found. Skipping...\n",
      "Processing Record 33 of Set 2 | alesund\n",
      "City not found. Skipping...\n",
      "Processing Record 34 of Set 2 | 'ohonua\n",
      "City not found. Skipping...\n",
      "Processing Record 35 of Set 2 | jiangzi\n",
      "City not found. Skipping...\n",
      "Processing Record 36 of Set 2 | amvrosiyivka\n",
      "City not found. Skipping...\n",
      "Processing Record 37 of Set 2 | linhares\n",
      "City not found. Skipping...\n",
      "Processing Record 38 of Set 2 | san antonio de pale\n",
      "City not found. Skipping...\n",
      "Processing Record 39 of Set 2 | bamboo flat\n",
      "City not found. Skipping...\n",
      "Processing Record 40 of Set 2 | ust-nera\n",
      "City not found. Skipping...\n",
      "Processing Record 41 of Set 2 | newman\n",
      "City not found. Skipping...\n",
      "Processing Record 42 of Set 2 | xilin hot\n",
      "City not found. Skipping...\n",
      "Processing Record 43 of Set 2 | agat village\n",
      "City not found. Skipping...\n",
      "Processing Record 44 of Set 2 | bafoulabe\n",
      "City not found. Skipping...\n",
      "Processing Record 45 of Set 2 | ko pha ngan\n",
      "City not found. Skipping...\n"
     ]
    }
   ],
   "source": [
    "# Set the API base URL\n",
    "url = f\"https://api.openweathermap.org/data/2.5/weather?appid={weather_api_key}&units=imperial\"\n",
    "\n",
    "# Define an empty list to fetch the weather data for each city\n",
    "city_data = []\n",
    "\n",
    "# Print to logger\n",
    "print(\"Beginning Data Retrieval     \")\n",
    "print(\"-----------------------------\")\n",
    "\n",
    "# Create counters\n",
    "record_count = 1\n",
    "set_count = 1\n",
    "\n",
    "# Loop through all the cities in our list to fetch weather data\n",
    "for i, city in enumerate(cities):\n",
    "        \n",
    "    # Group cities in sets of 50 for logging purposes\n",
    "    if (i % 50 == 0 and i >= 50):\n",
    "        set_count += 1\n",
    "        record_count = 0\n",
    "\n",
    "    # Create endpoint URL with each city\n",
    "    city_url = url + f\"&q={city}\"\n",
    "    \n",
    "    # Log the url, record, and set numbers\n",
    "    print(\"Processing Record %s of Set %s | %s\" % (record_count, set_count, city))\n",
    "\n",
    "    # Add 1 to the record count\n",
    "    record_count += 1\n",
    "\n",
    "    # Run an API request for each of the cities\n",
    "    try:\n",
    "        # Parse the JSON and retrieve data\n",
    "        city_weather = requests.get(weather_url).json()\n",
    "\n",
    "        # Parse out latitude, longitude, max temp, humidity, cloudiness, wind speed, country, and date\n",
    "        city_lat = city_weather[\"coord\"][\"lat\"]\n",
    "        city_lng = city_weather[\"coord\"][\"lng\"]\n",
    "        city_max_temp = city_weather[\"main\"][\"temp\"]\n",
    "        city_humidity = city_weather[\"main\"][\"humidity\"]\n",
    "        city_clouds = city_weather[\"clouds\"][\"all\"]\n",
    "        city_wind = city_weather[\"wind\"][\"speed\"]\n",
    "        city_country = city_weather[\"sys\"][\"country\"]\n",
    "        city_date = city_weather[\"dt\"]\n",
    "        \n",
    "        # Append the City information into city_data list\n",
    "        city_data.append({\"City\": city, \n",
    "                          \"Lat\": city_lat, \n",
    "                          \"Lng\": city_lng, \n",
    "                          \"Max Temp\": city_max_temp,\n",
    "                          \"Humidity\": city_humidity,\n",
    "                          \"Cloudiness\": city_clouds,\n",
    "                          \"Wind Speed\": city_wind,\n",
    "                          \"Country\": city_country,\n",
    "                          \"Date\": city_date})\n",
    "\n",
    "    # If an error is experienced, skip the city\n",
    "    except:\n",
    "        print(\"City not found. Skipping...\")\n",
    "        pass\n",
    "    \n",
    "    #sleep\n",
    "    time.sleep(1)\n",
    "              \n",
    "# Indicate that Data Loading is complete \n",
    "print(\"-----------------------------\")\n",
    "print(\"Data Retrieval Complete      \")\n",
    "print(\"-----------------------------\")"
   ]
  },
  {
   "cell_type": "code",
   "execution_count": null,
   "metadata": {},
   "outputs": [],
   "source": [
    "# Secondary work with error handling\n",
    "rows = []\n",
    "\n",
    "# loop cities\n",
    "for city in cities:\n",
    "    \n",
    "    try:\n",
    "\n",
    "        # geolocation\n",
    "        geo_url = f\"http://api.openweathermap.org/geo/1.0/direct?q={city}&limit=1&appid={weather_api_key}\"\n",
    "        response = requests.get(geo_url)\n",
    "\n",
    "        if (response.status_code == 200):\n",
    "            # do work\n",
    "            geo_data = response.json()\n",
    "\n",
    "            # get lat, lon, country, name\n",
    "            if len(geo_data) > 0:\n",
    "                lat = geo_data[0].get(\"lat\", np.nan)\n",
    "                lon = geo_data[0].get(\"lon\", np.nan)\n",
    "                country = geo_data[0].get(\"country\", None)\n",
    "                name = geo_data[0].get(\"name\", None)\n",
    "\n",
    "        #         print(f\"{city} is located at {lat},{lon}\")\n",
    "\n",
    "                if (lat and lon):\n",
    "                    # weather\n",
    "                    weather_url = f\"https://api.openweathermap.org/data/2.5/weather?lat={lat}&lon={lon}&appid={weather_api_key}&units=imperial\"\n",
    "                    response2 = requests.get(weather_url)\n",
    "\n",
    "                    if (response2.status_code == 200):\n",
    "                        weather_data = response2.json()\n",
    "\n",
    "                        # extract data\n",
    "                        temp = weather_data.get(\"main\", {}).get(\"temp\", np.nan)\n",
    "                        pressure = weather_data.get(\"main\", {}).get(\"pressure\", np.nan)\n",
    "                        humidity = weather_data.get(\"main\", {}).get(\"humidity\", np.nan)\n",
    "                        wind_speed = weather_data.get(\"wind\", {}).get(\"speed\", np.nan)\n",
    "                        cloudiness = weather_data.get(\"clouds\", {}).get(\"all\", np.nan)\n",
    "                        date = wind_speed = weather_data.get(\"dt\", np.nan)\n",
    "\n",
    "                        # build row\n",
    "                        row = {\"city\": name,\n",
    "                               \"country\": country,\n",
    "                               \"latitude\": lat,\n",
    "                               \"longitude\": lon,\n",
    "                               \"temperature\": temp,\n",
    "                               \"pressure\": pressure,\n",
    "                               \"humidity\": humidity,\n",
    "                               \"wind_speed\": wind_speed,\n",
    "                              \"cloudiness\": cloudiness,\n",
    "                              \"date\": date}\n",
    "\n",
    "                        #print(row)\n",
    "                        rows.append(row)\n",
    "\n",
    "                    else:\n",
    "                        print(f\"Getting Weather Data failed with status code: {response2.status_code}. More info below:\")\n",
    "                        print(weather_data)\n",
    "                else:\n",
    "                    print(\"Failed to extract latitude and longitude from response.\")\n",
    "                    print(geo_data)\n",
    "            else:\n",
    "                print(f\"Did not find any geolocation data for city: {city}\")\n",
    "        else:\n",
    "            print(f\"Getting geolocation data failed with status code: {response.status_code}. More info below:\")\n",
    "            print(geo_data)\n",
    "    except Exception as e:\n",
    "        print(f\"/Uh oh! Something went wrong for {city}\")\n",
    "        print(e)\n",
    "    \n",
    "    # sleep \n",
    "    print(f\"{city} was processed successfully.\")\n",
    "    time.sleep(1)"
   ]
  },
  {
   "cell_type": "code",
   "execution_count": null,
   "metadata": {},
   "outputs": [],
   "source": [
    "df = pd.DataFrame(rows)\n",
    "df"
   ]
  },
  {
   "cell_type": "code",
   "execution_count": null,
   "metadata": {},
   "outputs": [],
   "source": [
    "# Convert the cities weather data into a Pandas DataFrame\n",
    "df = pd.DataFrame(rows)\n",
    "\n",
    "# Show Record Count\n",
    "df.count()"
   ]
  },
  {
   "cell_type": "code",
   "execution_count": null,
   "metadata": {},
   "outputs": [],
   "source": [
    "# Display sample data\n",
    "df.head()"
   ]
  },
  {
   "cell_type": "code",
   "execution_count": null,
   "metadata": {},
   "outputs": [],
   "source": [
    "# Export the City_Data into a csv\n",
    "df.to_csv(\"cities.csv\", index_label=\"City_ID\")"
   ]
  },
  {
   "cell_type": "code",
   "execution_count": null,
   "metadata": {},
   "outputs": [],
   "source": [
    "# Read saved data\n",
    "df = pd.read_csv(\"cities.csv\", index_col=\"City_ID\")\n",
    "\n",
    "# Display sample data\n",
    "df.head()"
   ]
  },
  {
   "cell_type": "markdown",
   "metadata": {},
   "source": [
    "### Create the Scatter Plots Requested\n",
    "\n",
    "#### Latitude Vs. Temperature"
   ]
  },
  {
   "cell_type": "code",
   "execution_count": null,
   "metadata": {
    "tags": []
   },
   "outputs": [],
   "source": [
    "# Build scatter plot for latitude vs. temperature\n",
    "# Incorporate the other graph properties\n",
    "plt.figure(figsize=(10,6))\n",
    "\n",
    "plt.scatter(df.latitude, df.temperature, color=\"#AA5042\", s=125)\n",
    "plt.xlabel(\"Latitude\")\n",
    "plt.ylabel(\"Temperature (F)\")\n",
    "plt.title(\"Latitude vs Temperature\")\n",
    "plt.grid(axis=\"both\", color=\"lightgrey\", linestyle=\"--\", alpha=0.2)\n",
    "plt.show()\n",
    "\n",
    "# Save the figure\n",
    "#plt.savefig(\"output_data/Fig1.png\")\n",
    "\n",
    "# Show plot\n",
    "plt.show()"
   ]
  },
  {
   "cell_type": "markdown",
   "metadata": {},
   "source": [
    "#### Latitude Vs. Humidity"
   ]
  },
  {
   "cell_type": "code",
   "execution_count": null,
   "metadata": {},
   "outputs": [],
   "source": [
    "# Build the scatter plots for latitude vs. humidity\n",
    "# Incorporate the other graph properties\n",
    "plt.figure(figsize=(10,6))\n",
    "\n",
    "plt.scatter(df.latitude, df.humidity, color=\"#91B7C7\", s=125)\n",
    "plt.xlabel(\"Latitude\")\n",
    "plt.ylabel(\"Humidity\")\n",
    "plt.title(\"Latitude vs Humidity\")\n",
    "plt.grid(axis=\"both\", color=\"lightgrey\", linestyle=\"--\", alpha=0.2)\n",
    "plt.show()\n",
    "\n",
    "# Save the figure\n",
    "#plt.savefig(\"output_data/Fig2.png\")\n",
    "\n",
    "# Show plot\n",
    "plt.show()"
   ]
  },
  {
   "cell_type": "markdown",
   "metadata": {},
   "source": [
    "#### Latitude Vs. Cloudiness"
   ]
  },
  {
   "cell_type": "code",
   "execution_count": null,
   "metadata": {},
   "outputs": [],
   "source": [
    "# Build the scatter plots for latitude vs. cloudiness\n",
    "# Incorporate the other graph properties\n",
    "plt.figure(figsize=(10,6))\n",
    "\n",
    "plt.scatter(df.latitude, df.cloudiness, color=\"#ADBABD\", s=125)\n",
    "plt.xlabel(\"Latitude\")\n",
    "plt.ylabel(\"Cloudiness\")\n",
    "plt.title(\"Latitude vs Cloudiness\")\n",
    "plt.grid(axis=\"both\", color=\"lightgrey\", linestyle=\"--\", alpha=0.2)\n",
    "plt.show()\n",
    "\n",
    "# Save the figure\n",
    "#plt.savefig(\"output_data/Fig3.png\")\n",
    "\n",
    "# Show plot\n",
    "plt.show()"
   ]
  },
  {
   "cell_type": "markdown",
   "metadata": {},
   "source": [
    "#### Latitude vs. Wind Speed Plot"
   ]
  },
  {
   "cell_type": "code",
   "execution_count": null,
   "metadata": {},
   "outputs": [],
   "source": [
    "# Build the scatter plots for latitude vs. wind speed\n",
    "# Incorporate the other graph properties\n",
    "plt.figure(figsize=(10,6))\n",
    "\n",
    "plt.scatter(df.latitude, df.wind_speed, color=\"#CAF0F8\", s=125)\n",
    "plt.xlabel(\"Latitude\")\n",
    "plt.ylabel(\"Wind Speed\")\n",
    "plt.title(\"Latitude vs Wind Speed\")\n",
    "plt.grid(axis=\"both\", color=\"lightgrey\", linestyle=\"--\", alpha=0.2)\n",
    "plt.show()\n",
    "\n",
    "# Save the figure\n",
    "#plt.savefig(\"output_data/Fig4.png\")\n",
    "\n",
    "# Show plot\n",
    "plt.show()"
   ]
  },
  {
   "cell_type": "markdown",
   "metadata": {},
   "source": [
    "---\n",
    "\n",
    "## Requirement 2: Compute Linear Regression for Each Relationship\n"
   ]
  },
  {
   "cell_type": "code",
   "execution_count": null,
   "metadata": {},
   "outputs": [],
   "source": [
    "# Define a function to create Linear Regression plots\n",
    "def plot_linear_regression(x_values, y_values, title, text_coordinates):\n",
    "    \n",
    "    # Compute linear regression\n",
    "    (slope, intercept, rvalue, pvalue, stderr) = linregress(x_values, y_values)\n",
    "    regress_values = x_values * slope + intercept\n",
    "    line_eq = \"y = \" + str(round(slope,2)) + \"x + \" + str(round(intercept,2))\n",
    "\n",
    "    # Plot\n",
    "    plt.scatter(x_values,y_values)\n",
    "    plt.plot(x_values,regress_values,\"r-\")\n",
    "    plt.annotate(line_eq,text_coordinates,fontsize=15,color=\"red\")\n",
    "    plt.xlabel(\"Latitude\")\n",
    "    plt.ylabel(title)\n",
    "    print(f\"The r-value is: {rvalue**2}\")\n",
    "    plt.show()"
   ]
  },
  {
   "cell_type": "code",
   "execution_count": null,
   "metadata": {},
   "outputs": [],
   "source": [
    "# Create a DataFrame with the Northern Hemisphere data (Latitude >= 0)\n",
    "northern_hemi_df = df.loc[df.latitude >= 0].reset_index(drop=True)\n",
    "\n",
    "# Display sample data\n",
    "northern_hemi_df.head()"
   ]
  },
  {
   "cell_type": "code",
   "execution_count": null,
   "metadata": {},
   "outputs": [],
   "source": [
    "# Create a DataFrame with the Southern Hemisphere data (Latitude < 0)\n",
    "southern_hemi_df = df.loc[df.latitude < 0].reset_index(drop=True)\n",
    "\n",
    "# Display sample data\n",
    "southern_hemi_df.head()"
   ]
  },
  {
   "cell_type": "markdown",
   "metadata": {},
   "source": [
    "###  Temperature vs. Latitude Linear Regression Plot"
   ]
  },
  {
   "cell_type": "code",
   "execution_count": null,
   "metadata": {},
   "outputs": [],
   "source": [
    "# Linear regression on Northern Hemisphere\n",
    "x_values = northern_hemi_df[\"latitude\"]\n",
    "y_values = northern_hemi_df[\"temperature\"]\n",
    "plot_linear_regression(x_values, y_values, \"Temperature\",(6,-10))"
   ]
  },
  {
   "cell_type": "code",
   "execution_count": null,
   "metadata": {},
   "outputs": [],
   "source": [
    "# Linear regression on Southern Hemisphere\n",
    "x_values = southern_hemi_df[\"latitude\"]\n",
    "y_values = southern_hemi_df[\"temperature\"]\n",
    "plot_linear_regression(x_values, y_values, \"Temperature\",(6,-10))"
   ]
  },
  {
   "cell_type": "markdown",
   "metadata": {},
   "source": [
    "**Discussion about the linear relationship:** Both northern and southern hemispheres show a strong relationship to temperature. Southern hemisphere examples a positive relationship and northern examples a negative relationship. The closer to the equator you get, the warmer the temperature becomes on average."
   ]
  },
  {
   "cell_type": "markdown",
   "metadata": {},
   "source": [
    "### Humidity vs. Latitude Linear Regression Plot"
   ]
  },
  {
   "cell_type": "code",
   "execution_count": null,
   "metadata": {},
   "outputs": [],
   "source": [
    "# Northern Hemisphere\n",
    "x_values = northern_hemi_df[\"latitude\"]\n",
    "y_values = northern_hemi_df[\"humidity\"]\n",
    "plot_linear_regression(x_values, y_values, \"Humidity\",(6,-10))"
   ]
  },
  {
   "cell_type": "code",
   "execution_count": null,
   "metadata": {},
   "outputs": [],
   "source": [
    "# Southern Hemisphere\n",
    "x_values = southern_hemi_df[\"latitude\"]\n",
    "y_values = southern_hemi_df[\"humidity\"]\n",
    "plot_linear_regression(x_values, y_values, \"Humidity\",(6,-10))"
   ]
  },
  {
   "cell_type": "markdown",
   "metadata": {},
   "source": [
    "**Discussion about the linear relationship:** No strong relationship seen."
   ]
  },
  {
   "cell_type": "markdown",
   "metadata": {},
   "source": [
    "### Cloudiness vs. Latitude Linear Regression Plot"
   ]
  },
  {
   "cell_type": "code",
   "execution_count": null,
   "metadata": {},
   "outputs": [],
   "source": [
    "# Northern Hemisphere\n",
    "x_values = northern_hemi_df[\"latitude\"]\n",
    "y_values = northern_hemi_df[\"cloudiness\"]\n",
    "plot_linear_regression(x_values, y_values, \"Cloudiness\",(6,-10))"
   ]
  },
  {
   "cell_type": "code",
   "execution_count": null,
   "metadata": {},
   "outputs": [],
   "source": [
    "# Southern Hemisphere\n",
    "x_values = southern_hemi_df[\"latitude\"]\n",
    "y_values = southern_hemi_df[\"cloudiness\"]\n",
    "plot_linear_regression(x_values, y_values, \"Cloudiness\",(6,-10))"
   ]
  },
  {
   "cell_type": "markdown",
   "metadata": {},
   "source": [
    "**Discussion about the linear relationship:** No strong relationship seen."
   ]
  },
  {
   "cell_type": "markdown",
   "metadata": {},
   "source": [
    "### Wind Speed vs. Latitude Linear Regression Plot"
   ]
  },
  {
   "cell_type": "code",
   "execution_count": null,
   "metadata": {},
   "outputs": [],
   "source": [
    "# Northern Hemisphere\n",
    "x_values = northern_hemi_df[\"latitude\"]\n",
    "y_values = northern_hemi_df[\"wind_speed\"]\n",
    "plot_linear_regression(x_values, y_values, \"Wind Speed\",(6,-10))"
   ]
  },
  {
   "cell_type": "code",
   "execution_count": null,
   "metadata": {},
   "outputs": [],
   "source": [
    "# Southern Hemisphere\n",
    "x_values = southern_hemi_df[\"latitude\"]\n",
    "y_values = southern_hemi_df[\"cloudiness\"]\n",
    "plot_linear_regression(x_values, y_values, \"Wind Speed\",(6,-10))"
   ]
  },
  {
   "cell_type": "markdown",
   "metadata": {},
   "source": [
    "**Discussion about the linear relationship:** No strong relationship seen."
   ]
  },
  {
   "cell_type": "code",
   "execution_count": null,
   "metadata": {},
   "outputs": [],
   "source": []
  }
 ],
 "metadata": {
  "anaconda-cloud": {},
  "kernel_info": {
   "name": "python3"
  },
  "kernelspec": {
   "display_name": "Python 3 (ipykernel)",
   "language": "python",
   "name": "python3"
  },
  "language_info": {
   "codemirror_mode": {
    "name": "ipython",
    "version": 3
   },
   "file_extension": ".py",
   "mimetype": "text/x-python",
   "name": "python",
   "nbconvert_exporter": "python",
   "pygments_lexer": "ipython3",
   "version": "3.10.9"
  },
  "latex_envs": {
   "LaTeX_envs_menu_present": true,
   "autoclose": false,
   "autocomplete": true,
   "bibliofile": "biblio.bib",
   "cite_by": "apalike",
   "current_citInitial": 1,
   "eqLabelWithNumbers": true,
   "eqNumInitial": 1,
   "hotkeys": {
    "equation": "Ctrl-E",
    "itemize": "Ctrl-I"
   },
   "labels_anchors": false,
   "latex_user_defs": false,
   "report_style_numbering": false,
   "user_envs_cfg": false
  },
  "nteract": {
   "version": "0.12.3"
  }
 },
 "nbformat": 4,
 "nbformat_minor": 4
}
